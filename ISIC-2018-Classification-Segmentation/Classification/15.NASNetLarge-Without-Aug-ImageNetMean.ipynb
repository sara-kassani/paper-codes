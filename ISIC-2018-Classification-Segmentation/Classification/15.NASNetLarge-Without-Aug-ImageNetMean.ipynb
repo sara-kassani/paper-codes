{
 "cells": [
  {
   "cell_type": "code",
   "execution_count": 1,
   "metadata": {},
   "outputs": [],
   "source": [
    "import warnings\n",
    "warnings.filterwarnings('always')\n",
    "warnings.filterwarnings('ignore')"
   ]
  },
  {
   "cell_type": "code",
   "execution_count": 2,
   "metadata": {},
   "outputs": [
    {
     "data": {
      "text/plain": [
       "[name: \"/device:CPU:0\"\n",
       " device_type: \"CPU\"\n",
       " memory_limit: 268435456\n",
       " locality {\n",
       " }\n",
       " incarnation: 1445353891231042618, name: \"/device:GPU:0\"\n",
       " device_type: \"GPU\"\n",
       " memory_limit: 9214062756\n",
       " locality {\n",
       "   bus_id: 1\n",
       "   links {\n",
       "   }\n",
       " }\n",
       " incarnation: 7924447374362632617\n",
       " physical_device_desc: \"device: 0, name: GeForce GTX 1080 Ti, pci bus id: 0000:01:00.0, compute capability: 6.1\"]"
      ]
     },
     "execution_count": 2,
     "metadata": {},
     "output_type": "execute_result"
    }
   ],
   "source": [
    "from tensorflow.python.client import device_lib\n",
    "device_lib.list_local_devices()"
   ]
  },
  {
   "cell_type": "code",
   "execution_count": 3,
   "metadata": {},
   "outputs": [
    {
     "name": "stderr",
     "output_type": "stream",
     "text": [
      "Using TensorFlow backend.\n"
     ]
    },
    {
     "name": "stdout",
     "output_type": "stream",
     "text": [
      "Keras Version 2.2.4\n",
      "tensorflow Version 1.9.0\n",
      "dim_ordering: tf\n"
     ]
    }
   ],
   "source": [
    "import keras\n",
    "import tensorflow as tf\n",
    "import keras.backend as K\n",
    "\n",
    "print(\"Keras Version\", keras.__version__)\n",
    "print(\"tensorflow Version\", tf.__version__)\n",
    "print(\"dim_ordering:\", K.image_dim_ordering())"
   ]
  },
  {
   "cell_type": "code",
   "execution_count": 4,
   "metadata": {},
   "outputs": [],
   "source": [
    "import os\n",
    "import numpy as np\n",
    "np.random.seed(777)\n",
    "\n",
    "import keras\n",
    "import keras.backend as K\n",
    "from keras.preprocessing.image import ImageDataGenerator\n",
    "from keras.optimizers import Adam, SGD, RMSprop\n",
    "from keras.layers import Flatten, Input, Dense, Activation, Dropout, Conv2D, MaxPooling2D, BatchNormalization, GlobalAveragePooling2D\n",
    "from keras.models import Model\n",
    "\n",
    "from keras.applications import NASNetLarge, NASNetMobile\n",
    "from keras.layers.core import Dropout, Dense\n",
    "from keras.callbacks import ModelCheckpoint, EarlyStopping, ReduceLROnPlateau\n",
    "from keras.models import Model, load_model\n",
    "from keras.initializers import he_normal, glorot_normal\n",
    "from keras import optimizers\n",
    "\n",
    "from keras.preprocessing.image import ImageDataGenerator\n",
    "from keras.regularizers import l2\n",
    "\n",
    "import matplotlib.pyplot as plt\n",
    "%matplotlib inline\n",
    "\n",
    "plt.rcParams[\"axes.grid\"] = False\n",
    "plt.rcParams.update({'font.size': 20})"
   ]
  },
  {
   "cell_type": "code",
   "execution_count": 5,
   "metadata": {},
   "outputs": [],
   "source": [
    "import keras.backend as K\n",
    "\n",
    "def precision(y_true, y_pred):\n",
    "    # Calculates the precision\n",
    "    true_positives = K.sum(K.round(K.clip(y_true * y_pred, 0, 1)))\n",
    "    predicted_positives = K.sum(K.round(K.clip(y_pred, 0, 1)))\n",
    "    precision = true_positives / (predicted_positives + K.epsilon())\n",
    "    return precision\n",
    "\n",
    "\n",
    "def recall(y_true, y_pred):\n",
    "    # Calculates the recall\n",
    "    true_positives = K.sum(K.round(K.clip(y_true * y_pred, 0, 1)))\n",
    "    possible_positives = K.sum(K.round(K.clip(y_true, 0, 1)))\n",
    "    recall = true_positives / (possible_positives + K.epsilon())\n",
    "    return recall\n",
    "\n",
    "def fbeta_score(y_true, y_pred, beta=1):\n",
    "    # Calculates the F score, the weighted harmonic mean of precision and recall.\n",
    "\n",
    "    if beta < 0:\n",
    "        raise ValueError('The lowest choosable beta is zero (only precision).')\n",
    "        \n",
    "    # If there are no true positives, fix the F score at 0 like sklearn.\n",
    "    if K.sum(K.round(K.clip(y_true, 0, 1))) == 0:\n",
    "        return 0\n",
    "\n",
    "    p = precision(y_true, y_pred)\n",
    "    r = recall(y_true, y_pred)\n",
    "    bb = beta ** 2\n",
    "    fbeta_score = (1 + bb) * (p * r) / (bb * p + r + K.epsilon())\n",
    "    return fbeta_score\n",
    "\n",
    "def fmeasure(y_true, y_pred):\n",
    "    # Calculates the f-measure, the harmonic mean of precision and recall.\n",
    "    return fbeta_score(y_true, y_pred, beta=1)"
   ]
  },
  {
   "cell_type": "code",
   "execution_count": 6,
   "metadata": {},
   "outputs": [],
   "source": [
    "output_classes = 7\n",
    "batch_size = 16\n",
    "img_height, img_width = 224, 224\n",
    "input_shape = (img_height, img_width, 3)\n",
    "epochs = 50\n",
    "\n",
    "nb_train_samples = 5467\n",
    "nb_validation_samples = 1818\n",
    "nb_test_samples = 2602"
   ]
  },
  {
   "cell_type": "code",
   "execution_count": 7,
   "metadata": {},
   "outputs": [],
   "source": [
    "train_dir = 'data-without-aug/train'\n",
    "test_dir = 'data-without-aug/test'"
   ]
  },
  {
   "cell_type": "code",
   "execution_count": 8,
   "metadata": {},
   "outputs": [],
   "source": [
    "def preprocess_input(x):\n",
    "    # 'RGB'->'BGR'\n",
    "    x = x[:, :, ::-1]\n",
    "    # Zero-center by imagenet mean pixel\n",
    "    x[:, :, 0] -= 103.939\n",
    "    x[:, :, 1] -= 116.779\n",
    "    x[:, :, 2] -= 123.68\n",
    "    return x"
   ]
  },
  {
   "cell_type": "code",
   "execution_count": 9,
   "metadata": {},
   "outputs": [
    {
     "name": "stdout",
     "output_type": "stream",
     "text": [
      "Found 5467 images belonging to 7 classes.\n",
      "Found 1818 images belonging to 7 classes.\n",
      "Found 2602 images belonging to 7 classes.\n"
     ]
    }
   ],
   "source": [
    "random_seed = np.random.seed(1142)\n",
    "\n",
    "train_datagen = ImageDataGenerator(\n",
    "    rescale=1. / 255,\n",
    "    featurewise_center=False,\n",
    "    featurewise_std_normalization=False,\n",
    "    preprocessing_function = preprocess_input,\n",
    "    validation_split=0.25)\n",
    "\n",
    "\n",
    "# target_size = (height, width)\n",
    "target_size = (224, 224)\n",
    "\n",
    "train_generator = train_datagen.flow_from_directory(\n",
    "        train_dir,\n",
    "        batch_size = batch_size,\n",
    "        target_size = target_size,       \n",
    "        class_mode = 'categorical',\n",
    "        shuffle = True,\n",
    "        subset=\"training\")\n",
    "\n",
    "validation_generator = train_datagen.flow_from_directory(\n",
    "        train_dir,\n",
    "        batch_size = batch_size,\n",
    "        target_size = target_size,        \n",
    "        class_mode = 'categorical',\n",
    "        shuffle = True,\n",
    "        subset = \"validation\")\n",
    "\n",
    "test_datagen = ImageDataGenerator(rescale=1. / 255, preprocessing_function = preprocess_input)\n",
    "\n",
    "test_generator = test_datagen.flow_from_directory(\n",
    "    test_dir,\n",
    "    target_size=(img_height, img_width),\n",
    "    batch_size=batch_size,\n",
    "    seed = random_seed,\n",
    "    shuffle = False,\n",
    "    class_mode='categorical')"
   ]
  },
  {
   "cell_type": "code",
   "execution_count": 10,
   "metadata": {},
   "outputs": [],
   "source": [
    "base_model = NASNetLarge(weights='imagenet', include_top=False, pooling = 'avg', input_tensor=Input(shape=input_shape))\n",
    "\n",
    "x = base_model.output\n",
    "# x = GlobalAveragePooling2D()(x)\n",
    "x = Dense(1024, kernel_regularizer=l2(0.0001), bias_regularizer=l2(0.0001))(x)\n",
    "x = BatchNormalization()(x)\n",
    "x = Activation(\"relu\")(x)\n",
    "x = Dropout(0.5)(x)\n",
    "x = Dense(1024, kernel_regularizer=l2(0.0001), bias_regularizer=l2(0.0001))(x)\n",
    "x = BatchNormalization()(x)\n",
    "x = Activation(\"relu\")(x)\n",
    "x = Dropout(0.5)(x)\n",
    "prediction = Dense(output_classes, activation=tf.nn.softmax)(x)\n",
    "\n",
    "model = Model(inputs=base_model.input,outputs=prediction)"
   ]
  },
  {
   "cell_type": "code",
   "execution_count": 11,
   "metadata": {},
   "outputs": [],
   "source": [
    "adam_opt = Adam(lr=1e-5, beta_1=0.9, beta_2=0.999, epsilon=1e-08, decay=1e-5)\n",
    "\n",
    "model.compile(optimizer= adam_opt, loss = 'categorical_crossentropy', metrics = [\"categorical_accuracy\", fmeasure, recall, precision])"
   ]
  },
  {
   "cell_type": "code",
   "execution_count": 12,
   "metadata": {
    "scrolled": false
   },
   "outputs": [
    {
     "name": "stdout",
     "output_type": "stream",
     "text": [
      "Epoch 1/50\n",
      "341/341 [==============================] - 361s 1s/step - loss: 2.2594 - categorical_accuracy: 0.3703 - fmeasure: 0.2761 - recall: 0.2092 - precision: 0.4249 - val_loss: 1.4936 - val_categorical_accuracy: 0.6787 - val_fmeasure: 0.5975 - val_recall: 0.4712 - val_precision: 0.8422\n",
      "\n",
      "Epoch 00001: val_categorical_accuracy improved from inf to 0.67865, saving model to models/checkpoint.h5\n",
      "Epoch 2/50\n",
      "341/341 [==============================] - 267s 782ms/step - loss: 1.5537 - categorical_accuracy: 0.6360 - fmeasure: 0.6127 - recall: 0.5326 - precision: 0.7312 - val_loss: 1.2471 - val_categorical_accuracy: 0.7120 - val_fmeasure: 0.7126 - val_recall: 0.6210 - val_precision: 0.8472\n",
      "\n",
      "Epoch 00002: val_categorical_accuracy did not improve from 0.67865\n",
      "Epoch 3/50\n",
      "341/341 [==============================] - 267s 784ms/step - loss: 1.3629 - categorical_accuracy: 0.6825 - fmeasure: 0.6804 - recall: 0.6188 - precision: 0.7620 - val_loss: 1.1309 - val_categorical_accuracy: 0.7347 - val_fmeasure: 0.7285 - val_recall: 0.6465 - val_precision: 0.8426\n",
      "\n",
      "Epoch 00003: val_categorical_accuracy did not improve from 0.67865\n",
      "Epoch 4/50\n",
      "341/341 [==============================] - 267s 784ms/step - loss: 1.2183 - categorical_accuracy: 0.7154 - fmeasure: 0.7190 - recall: 0.6668 - precision: 0.7836 - val_loss: 1.0841 - val_categorical_accuracy: 0.7420 - val_fmeasure: 0.7333 - val_recall: 0.6559 - val_precision: 0.8402\n",
      "\n",
      "Epoch 00004: val_categorical_accuracy did not improve from 0.67865\n",
      "Epoch 5/50\n",
      "341/341 [==============================] - 267s 783ms/step - loss: 1.0863 - categorical_accuracy: 0.7400 - fmeasure: 0.7446 - recall: 0.6926 - precision: 0.8092 - val_loss: 1.0304 - val_categorical_accuracy: 0.7525 - val_fmeasure: 0.7507 - val_recall: 0.6848 - val_precision: 0.8377\n",
      "\n",
      "Epoch 00005: val_categorical_accuracy did not improve from 0.67865\n",
      "Epoch 6/50\n",
      "341/341 [==============================] - 268s 785ms/step - loss: 0.9797 - categorical_accuracy: 0.7736 - fmeasure: 0.7717 - recall: 0.7210 - precision: 0.8339 - val_loss: 1.0130 - val_categorical_accuracy: 0.7564 - val_fmeasure: 0.7545 - val_recall: 0.6931 - val_precision: 0.8340\n",
      "\n",
      "Epoch 00006: val_categorical_accuracy did not improve from 0.67865\n",
      "Epoch 7/50\n",
      "341/341 [==============================] - 267s 782ms/step - loss: 0.9216 - categorical_accuracy: 0.7873 - fmeasure: 0.7870 - recall: 0.7450 - precision: 0.8371 - val_loss: 1.0120 - val_categorical_accuracy: 0.7531 - val_fmeasure: 0.7557 - val_recall: 0.6942 - val_precision: 0.8343\n",
      "\n",
      "Epoch 00007: val_categorical_accuracy did not improve from 0.67865\n",
      "Epoch 8/50\n",
      "341/341 [==============================] - 267s 782ms/step - loss: 0.8246 - categorical_accuracy: 0.8202 - fmeasure: 0.8172 - recall: 0.7779 - precision: 0.8638 - val_loss: 1.0107 - val_categorical_accuracy: 0.7614 - val_fmeasure: 0.7595 - val_recall: 0.7114 - val_precision: 0.8202\n",
      "\n",
      "Epoch 00008: val_categorical_accuracy did not improve from 0.67865\n",
      "Epoch 9/50\n",
      "341/341 [==============================] - 267s 783ms/step - loss: 0.7589 - categorical_accuracy: 0.8399 - fmeasure: 0.8407 - recall: 0.8044 - precision: 0.8829 - val_loss: 1.0076 - val_categorical_accuracy: 0.7614 - val_fmeasure: 0.7653 - val_recall: 0.7192 - val_precision: 0.8219\n",
      "\n",
      "Epoch 00009: val_categorical_accuracy did not improve from 0.67865\n",
      "Epoch 10/50\n",
      "341/341 [==============================] - 266s 781ms/step - loss: 0.6848 - categorical_accuracy: 0.8654 - fmeasure: 0.8656 - recall: 0.8340 - precision: 0.9018 - val_loss: 0.9987 - val_categorical_accuracy: 0.7675 - val_fmeasure: 0.7682 - val_recall: 0.7242 - val_precision: 0.8232\n",
      "\n",
      "Epoch 00010: val_categorical_accuracy did not improve from 0.67865\n",
      "Epoch 11/50\n",
      "341/341 [==============================] - 267s 784ms/step - loss: 0.6300 - categorical_accuracy: 0.8815 - fmeasure: 0.8819 - recall: 0.8562 - precision: 0.9108 - val_loss: 1.0018 - val_categorical_accuracy: 0.7680 - val_fmeasure: 0.7718 - val_recall: 0.7325 - val_precision: 0.8194\n",
      "\n",
      "Epoch 00011: val_categorical_accuracy did not improve from 0.67865\n",
      "Epoch 12/50\n",
      "341/341 [==============================] - 267s 783ms/step - loss: 0.5737 - categorical_accuracy: 0.9027 - fmeasure: 0.9005 - recall: 0.8770 - precision: 0.9270 - val_loss: 1.0195 - val_categorical_accuracy: 0.7680 - val_fmeasure: 0.7743 - val_recall: 0.7375 - val_precision: 0.8180\n",
      "\n",
      "Epoch 00012: val_categorical_accuracy did not improve from 0.67865\n",
      "Epoch 13/50\n",
      "341/341 [==============================] - 268s 785ms/step - loss: 0.5040 - categorical_accuracy: 0.9196 - fmeasure: 0.9233 - recall: 0.9037 - precision: 0.9452 - val_loss: 1.0159 - val_categorical_accuracy: 0.7802 - val_fmeasure: 0.7841 - val_recall: 0.7514 - val_precision: 0.8230\n",
      "\n",
      "Epoch 00013: val_categorical_accuracy did not improve from 0.67865\n",
      "Epoch 14/50\n",
      "341/341 [==============================] - 267s 782ms/step - loss: 0.4716 - categorical_accuracy: 0.9286 - fmeasure: 0.9294 - recall: 0.9155 - precision: 0.9446 - val_loss: 1.0383 - val_categorical_accuracy: 0.7725 - val_fmeasure: 0.7798 - val_recall: 0.7514 - val_precision: 0.8128\n",
      "\n",
      "Epoch 00014: val_categorical_accuracy did not improve from 0.67865\n",
      "Epoch 15/50\n",
      "341/341 [==============================] - 267s 782ms/step - loss: 0.4443 - categorical_accuracy: 0.9422 - fmeasure: 0.9412 - recall: 0.9288 - precision: 0.9548 - val_loss: 1.0634 - val_categorical_accuracy: 0.7736 - val_fmeasure: 0.7755 - val_recall: 0.7453 - val_precision: 0.8105\n",
      "\n",
      "Epoch 00015: val_categorical_accuracy did not improve from 0.67865\n",
      "Epoch 16/50\n",
      "341/341 [==============================] - 266s 781ms/step - loss: 0.4058 - categorical_accuracy: 0.9558 - fmeasure: 0.9539 - recall: 0.9430 - precision: 0.9661 - val_loss: 1.1071 - val_categorical_accuracy: 0.7719 - val_fmeasure: 0.7725 - val_recall: 0.7458 - val_precision: 0.8032\n",
      "\n",
      "Epoch 00016: val_categorical_accuracy did not improve from 0.67865\n",
      "\n",
      "Epoch 00016: ReduceLROnPlateau reducing learning rate to 1.9999999494757505e-06.\n",
      "Epoch 00016: early stopping\n"
     ]
    }
   ],
   "source": [
    "checkpoint = ModelCheckpoint(\"models/checkpoint.h5\",\n",
    "                             monitor=\"val_categorical_accuracy\",\n",
    "                             mode=\"min\",\n",
    "                             save_best_only = True,\n",
    "                             verbose=1)\n",
    "earlystop = EarlyStopping(monitor = 'val_categorical_accuracy', \n",
    "                          min_delta = 0, \n",
    "                          patience = 3,\n",
    "                          verbose = 1)\n",
    "reduce_lr = ReduceLROnPlateau(monitor = 'val_categorical_accuracy', factor = 0.2, patience = 3, verbose = 1, min_delta = 0.0001)\n",
    "\n",
    "callbacks = [earlystop, checkpoint, reduce_lr]\n",
    "# callbacks = [EarlyStopping(monitor='val_categorical_accuracy', patience=3, verbose = 1)]\n",
    "\n",
    "history = model.fit_generator(\n",
    "  train_generator,\n",
    "  steps_per_epoch = nb_train_samples // batch_size,\n",
    "  epochs = epochs,\n",
    "  validation_data = validation_generator,\n",
    "  validation_steps = nb_validation_samples // batch_size,\n",
    "  callbacks = callbacks)\n",
    "\n",
    "# with open('models/vgg19_history.txt','w') as f:\n",
    "#     f.write(str(history.history))"
   ]
  },
  {
   "cell_type": "code",
   "execution_count": 13,
   "metadata": {},
   "outputs": [
    {
     "data": {
      "image/png": "[encoded data removed]",
      "text/plain": [
       "<Figure size 432x288 with 1 Axes>"
      ]
     },
     "metadata": {},
     "output_type": "display_data"
    },
    {
     "data": {
      "image/png": "[encoded data removed]",
      "text/plain": [
       "<Figure size 432x288 with 1 Axes>"
      ]
     },
     "metadata": {},
     "output_type": "display_data"
    }
   ],
   "source": [
    "plt.style.use(\"ggplot\")\n",
    "\n",
    "plt.plot(history.history['categorical_accuracy'])\n",
    "plt.plot(history.history['val_categorical_accuracy'])\n",
    "plt.title('model accuracy')\n",
    "plt.ylabel('Accuracy')\n",
    "plt.xlabel('Epoch')\n",
    "plt.legend(['Training Acc', 'Test Acc'], loc='upper left')\n",
    "plt.show()\n",
    "\n",
    "# summarize history for loss\n",
    "plt.plot(history.history['loss'])\n",
    "plt.plot(history.history['val_loss'])\n",
    "plt.title('model loss')\n",
    "plt.ylabel('Loss')\n",
    "plt.xlabel('Epoch')\n",
    "plt.legend(['Training Loss', 'Test Loss'], loc='upper left')\n",
    "plt.show()\n",
    "\n",
    "# plt.figure()\n",
    "# N = epochs\n",
    "# plt.plot(np.arange(0, N), history.history[\"loss\"], label=\"train_loss\")\n",
    "# plt.plot(np.arange(0, N), history.history[\"val_loss\"], label=\"val_loss\")\n",
    "# plt.plot(np.arange(0, N), history.history[\"acc\"], label=\"train_acc\")\n",
    "# plt.plot(np.arange(0, N), history.history[\"val_acc\"], label=\"val_acc\")\n",
    "# plt.title(\"Training Loss and Accuracy\")\n",
    "# plt.xlabel(\"Epoch #\")\n",
    "# plt.ylabel(\"Loss/Accuracy\")\n",
    "# plt.legend(loc=\"upper left\")"
   ]
  },
  {
   "cell_type": "code",
   "execution_count": 14,
   "metadata": {},
   "outputs": [
    {
     "name": "stdout",
     "output_type": "stream",
     "text": [
      "Validation Score:  1.1219440686702729\n",
      "Validation Accuracy:  0.77125\n"
     ]
    }
   ],
   "source": [
    "score = model.evaluate_generator(validation_generator, steps=50)\n",
    "\n",
    "print ('Validation Score: ', score[0])\n",
    "print ('Validation Accuracy: ',score[1])"
   ]
  },
  {
   "cell_type": "code",
   "execution_count": 15,
   "metadata": {},
   "outputs": [
    {
     "name": "stdout",
     "output_type": "stream",
     "text": [
      "163/162 [==============================] - 32s 196ms/step\n",
      "No of errors = 604/2602\n"
     ]
    }
   ],
   "source": [
    "filename = test_generator.filenames\n",
    "truth = test_generator.classes\n",
    "label = test_generator.class_indices\n",
    "indexlabel = dict((value, key) for key, value in label.items())\n",
    "\n",
    "predicts = model.predict_generator(test_generator, steps=test_generator.samples/test_generator.batch_size, verbose=1)\n",
    "predict_class = np.argmax(predicts, axis=1)\n",
    "errors = np.where(predict_class != truth)[0]\n",
    "print(\"No of errors = {}/{}\".format(len(errors),test_generator.samples))"
   ]
  },
  {
   "cell_type": "code",
   "execution_count": 16,
   "metadata": {},
   "outputs": [
    {
     "name": "stdout",
     "output_type": "stream",
     "text": [
      "Confusion Matrix\n",
      "[[  32    7   18    1    5   11    0]\n",
      " [   8   81   18    4   10   13    5]\n",
      " [  14   14  148    1   58   49    0]\n",
      " [   3    2    3    8    4    9    1]\n",
      " [  17   10   42    1  143   99    0]\n",
      " [   6   21   49    3   90 1554    7]\n",
      " [   0    0    0    0    0    1   32]]\n"
     ]
    },
    {
     "data": {
      "image/png": "[encoded data removed]",
      "text/plain": [
       "<Figure size 720x720 with 1 Axes>"
      ]
     },
     "metadata": {},
     "output_type": "display_data"
    }
   ],
   "source": [
    "plt.rcParams[\"axes.grid\"] = False\n",
    "plt.rcParams.update({'font.size': 20})\n",
    "\n",
    "from sklearn.metrics import confusion_matrix\n",
    "cm = confusion_matrix(truth,predict_class)\n",
    "\n",
    "labels = []\n",
    "for k,v in indexlabel.items():\n",
    "    labels.append(v)\n",
    "    \n",
    "import itertools\n",
    "def plot_confusion_matrix(cm, classes,\n",
    "                          normalize=False,\n",
    "                          title='Confusion matrix',\n",
    "                          cmap=plt.cm.Blues):\n",
    "    accuracy = np.trace(cm) / float(np.sum(cm))\n",
    "    misclass = 1 - accuracy\n",
    "    if normalize:\n",
    "        cm = cm.astype('float') / cm.sum(axis=1)[:, np.newaxis]\n",
    "        print(\"Normalized confusion matrix\")\n",
    "    else:\n",
    "        print('Confusion Matrix')\n",
    "\n",
    "    print(cm)\n",
    "#     fig = plt.figure()\n",
    "    plt.imshow(cm, interpolation='nearest', cmap=cmap)\n",
    "#     plt.title(title)\n",
    "#     plt.colorbar()\n",
    "    tick_marks = np.arange(len(classes))\n",
    "    plt.xticks(tick_marks, classes, rotation=45)\n",
    "    plt.yticks(tick_marks, classes)\n",
    "\n",
    "    fmt = '.2f' if normalize else 'd'\n",
    "    thresh = cm.max() / 2.\n",
    "    for i, j in itertools.product(range(cm.shape[0]), range(cm.shape[1])):\n",
    "        plt.text(j, i, format(cm[i, j], fmt),\n",
    "                 horizontalalignment=\"center\",\n",
    "                 color=\"white\" if cm[i, j] > thresh else \"black\")\n",
    "\n",
    "    plt.tight_layout()\n",
    "    plt.ylabel('True label')\n",
    "    plt.xlabel('Predicted label\\naccuracy={:0.4f}; misclass={:0.4f}'.format(accuracy, misclass))\n",
    "#     plt.savefig('plots/3.InceptionV3-2-Private-DataSet-CM.png', bbox_inches='tight', dpi = 100) \n",
    "plt.figure(figsize=(10,10))\n",
    "\n",
    "\n",
    "plot_confusion_matrix(cm, classes=labels, title=' ')"
   ]
  },
  {
   "cell_type": "code",
   "execution_count": 17,
   "metadata": {},
   "outputs": [
    {
     "name": "stdout",
     "output_type": "stream",
     "text": [
      "[[  32    7   18    1    5   11    0]\n",
      " [   8   81   18    4   10   13    5]\n",
      " [  14   14  148    1   58   49    0]\n",
      " [   3    2    3    8    4    9    1]\n",
      " [  17   10   42    1  143   99    0]\n",
      " [   6   21   49    3   90 1554    7]\n",
      " [   0    0    0    0    0    1   32]]\n",
      "              precision    recall  f1-score   support\n",
      "\n",
      "          NV       0.40      0.43      0.42        74\n",
      "          DF       0.60      0.58      0.59       139\n",
      "         BKL       0.53      0.52      0.53       284\n",
      "       AKIEC       0.44      0.27      0.33        30\n",
      "         BCC       0.46      0.46      0.46       312\n",
      "         MEL       0.90      0.90      0.90      1730\n",
      "        VASC       0.71      0.97      0.82        33\n",
      "\n",
      "   micro avg       0.77      0.77      0.77      2602\n",
      "   macro avg       0.58      0.59      0.58      2602\n",
      "weighted avg       0.77      0.77      0.77      2602\n",
      "\n"
     ]
    }
   ],
   "source": [
    "from sklearn.preprocessing import LabelEncoder\n",
    "from sklearn.metrics import confusion_matrix, classification_report\n",
    "y_pred = predicts\n",
    "y_pred_probabilities=y_pred\n",
    "\n",
    "y_pred = np.argmax(y_pred,axis = 1) \n",
    "y_actual = test_generator.classes\n",
    "\n",
    "classnames=[]\n",
    "for classname in test_generator.class_indices:\n",
    "    classnames.append(classname)\n",
    "\n",
    "confusion_mtx = confusion_matrix(y_actual, y_pred) \n",
    "print(confusion_mtx)\n",
    "target_names = classnames\n",
    "print(classification_report(y_actual, y_pred, target_names=target_names))"
   ]
  },
  {
   "cell_type": "code",
   "execution_count": 18,
   "metadata": {},
   "outputs": [
    {
     "name": "stdout",
     "output_type": "stream",
     "text": [
      "Accuracy :  4.342813220599539\n",
      "Sensitivity :  80.0\n",
      "Specificity :  92.04545454545455\n"
     ]
    }
   ],
   "source": [
    "total= sum(sum(cm))\n",
    "\n",
    "accuracy = (cm[0,0] + cm[1,1]) / total\n",
    "print ('Accuracy : ', accuracy*100)\n",
    "\n",
    "sensitivity = cm[0,0]/(cm[0,0]+cm[1,0])\n",
    "print('Sensitivity : ', sensitivity*100 )\n",
    "\n",
    "Specificity = cm[1,1]/(cm[1,1]+cm[0,1])\n",
    "print('Specificity : ', Specificity*100 )"
   ]
  },
  {
   "cell_type": "code",
   "execution_count": null,
   "metadata": {},
   "outputs": [],
   "source": [
    "# # ROC Curve for each class\n",
    "# from sklearn.metrics import roc_curve, auc\n",
    "# from sklearn.preprocessing import label_binarize\n",
    "# from sklearn.multiclass import OneVsRestClassifier\n",
    "# import matplotlib.pyplot as plt\n",
    "# %matplotlib inline  \n",
    "# from scipy import interp\n",
    "# from itertools import cycle\n",
    "\n",
    "\n",
    "# y_pred = predicts\n",
    "# y_pred_probabilities=y_pred\n",
    "\n",
    "# y_pred = np.argmax(y_pred,axis = 1) \n",
    "# y_actual = validation_generator.classes\n",
    "\n",
    "# classnames=[]\n",
    "# for classname in validation_generator.class_indices:\n",
    "#     classnames.append(classname)\n",
    "\n",
    "# y_actual_binary = label_binarize(y_actual, classes=[0, 1, 2, 3, 4,5,6])\n",
    "# y_pred_binary = y_pred_probabilities#label_binarize(y_pred_probabilities, classes=[0, 1, 2, 3, 4])\n",
    "# n_classes=7\n",
    "# lw=2\n",
    "\n",
    "# # Compute ROC curve and ROC area for each class\n",
    "# fpr = dict()\n",
    "# tpr = dict()\n",
    "# roc_auc = dict()\n",
    "# for i in range(n_classes):\n",
    "#     fpr[i], tpr[i], _ = roc_curve(y_actual_binary[:, i], y_pred_binary[:, i])\n",
    "#     roc_auc[i] = auc(fpr[i], tpr[i])\n",
    "\n",
    "# # Compute micro-average ROC curve and ROC area\n",
    "# fpr[\"micro\"], tpr[\"micro\"], _ = roc_curve(y_actual_binary.ravel(), y_pred_binary.ravel())\n",
    "# roc_auc[\"micro\"] = auc(fpr[\"micro\"], tpr[\"micro\"])\n",
    "\n",
    "# # Compute macro-average ROC curve and ROC area\n",
    "\n",
    "# # First aggregate all false positive rates\n",
    "# all_fpr = np.unique(np.concatenate([fpr[i] for i in range(n_classes)]))\n",
    "\n",
    "# # Then interpolate all ROC curves at this points\n",
    "# mean_tpr = np.zeros_like(all_fpr)\n",
    "# for i in range(n_classes):\n",
    "#     mean_tpr += interp(all_fpr, fpr[i], tpr[i])\n",
    "\n",
    "# # Finally average it and compute AUC\n",
    "# mean_tpr /= n_classes\n",
    "\n",
    "# fpr[\"macro\"] = all_fpr\n",
    "# tpr[\"macro\"] = mean_tpr\n",
    "# roc_auc[\"macro\"] = auc(fpr[\"macro\"], tpr[\"macro\"])\n",
    "\n",
    "# # Plot all ROC curves\n",
    "# plt.figure(figsize=(7, 7))\n",
    "\n",
    "\n",
    "# colors = cycle(['red','blue','green','yellow','orange', 'aqua', 'cornflowerblue'])\n",
    "# for i, color in zip(range(n_classes), colors):\n",
    "#     plt.plot(fpr[i], tpr[i], color=color, lw=lw,\n",
    "#              label='ROC curve of class {0} (area = {1:0.2f})'\n",
    "#              ''.format(classnames[i], roc_auc[i]))\n",
    "\n",
    "# plt.plot([0, 1], [0, 1], 'k--', lw=lw)\n",
    "# plt.xlim([0.0, 1.0])\n",
    "# plt.ylim([0.0, 1.05])\n",
    "# plt.xlabel('False Positive Rate')\n",
    "# plt.ylabel('True Positive Rate')\n",
    "# plt.title('Receiver operating characteristic for multi-class')\n",
    "# plt.legend(loc=\"best\")\n",
    "# plt.show()"
   ]
  },
  {
   "cell_type": "code",
   "execution_count": null,
   "metadata": {},
   "outputs": [],
   "source": [
    "# # Zoom in view of the upper left corner.\n",
    "# plt.figure(2)\n",
    "# plt.xlim(0, 0.2)\n",
    "# plt.ylim(0.8, 1)\n",
    "\n",
    "# plt.plot(fpr[\"micro\"], tpr[\"micro\"],\n",
    "#          label='micro-average ROC curve (area = {0:0.2f})'\n",
    "#                ''.format(roc_auc[\"micro\"]),\n",
    "#          color='deeppink', linestyle=':', linewidth=6)\n",
    "\n",
    "# plt.plot(fpr[\"macro\"], tpr[\"macro\"],\n",
    "#          label='macro-average ROC curve (area = {0:0.2f})'\n",
    "#                ''.format(roc_auc[\"macro\"]),\n",
    "#          color='navy', linestyle=':', linewidth=6)\n",
    "\n",
    "\n",
    "# colors = cycle(['red','blue','green','yellow','orange', 'aqua', 'cornflowerblue'])\n",
    "# for i, color in zip(range(n_classes), colors):\n",
    "#     plt.plot(fpr[i], tpr[i], color=color, lw=lw,\n",
    "#              label='ROC curve of class {0} (area = {1:0.2f})'\n",
    "#              ''.format(classnames[i], roc_auc[i]))\n",
    "\n",
    "    \n",
    "    \n",
    "# plt.plot([0, 1], [0, 1], 'k--', lw=lw)\n",
    "# plt.xlabel('False Positive Rate')\n",
    "# plt.ylabel('True Positive Rate')\n",
    "# plt.title('Receiver operating characteristic for multi-classs')\n",
    "# plt.legend(loc=\"lower right\")\n",
    "# plt.savefig('plots/5.VGG19-ROC.png', dpi = 100)\n",
    "# plt.show()"
   ]
  },
  {
   "cell_type": "code",
   "execution_count": 19,
   "metadata": {},
   "outputs": [],
   "source": [
    "model.save('models/14.NASNetLarge-ImageNetMean-without-augment-Model.h5')\n",
    "model.save_weights('models/14.NASNetLarge-ImageNetMean-without-augment-Weights.h5')"
   ]
  },
  {
   "cell_type": "markdown",
   "metadata": {},
   "source": [
    "___"
   ]
  },
  {
   "cell_type": "code",
   "execution_count": null,
   "metadata": {},
   "outputs": [],
   "source": []
  },
  {
   "cell_type": "code",
   "execution_count": null,
   "metadata": {},
   "outputs": [],
   "source": []
  },
  {
   "cell_type": "code",
   "execution_count": null,
   "metadata": {},
   "outputs": [],
   "source": []
  }
 ],
 "metadata": {
  "kernelspec": {
   "display_name": "Python 3",
   "language": "python",
   "name": "python3"
  },
  "language_info": {
   "codemirror_mode": {
    "name": "ipython",
    "version": 3
   },
   "file_extension": ".py",
   "mimetype": "text/x-python",
   "name": "python",
   "nbconvert_exporter": "python",
   "pygments_lexer": "ipython3",
   "version": "3.5.2"
  }
 },
 "nbformat": 4,
 "nbformat_minor": 2
}
