{
 "cells": [
  {
   "cell_type": "code",
   "execution_count": 1,
   "metadata": {},
   "outputs": [
    {
     "ename": "ModuleNotFoundError",
     "evalue": "No module named 'spams'",
     "output_type": "error",
     "traceback": [
      "\u001b[1;31m---------------------------------------------------------------------------\u001b[0m",
      "\u001b[1;31mModuleNotFoundError\u001b[0m                       Traceback (most recent call last)",
      "\u001b[1;32m<ipython-input-1-570fd6ebfe48>\u001b[0m in \u001b[0;36m<module>\u001b[1;34m\u001b[0m\n\u001b[0;32m      4\u001b[0m \u001b[1;32mimport\u001b[0m \u001b[0mglob\u001b[0m\u001b[1;33m\u001b[0m\u001b[1;33m\u001b[0m\u001b[0m\n\u001b[0;32m      5\u001b[0m \u001b[1;33m\u001b[0m\u001b[0m\n\u001b[1;32m----> 6\u001b[1;33m \u001b[1;32mimport\u001b[0m \u001b[0mstainNorm_Macenko\u001b[0m \u001b[1;32mas\u001b[0m \u001b[0mstain_Macenko\u001b[0m\u001b[1;33m\u001b[0m\u001b[1;33m\u001b[0m\u001b[0m\n\u001b[0m",
      "\u001b[1;32m~\\Documents\\Python Scripts\\DigestPath\\DigestPath_Colonoscopy_Classification\\stainNorm_Macenko.py\u001b[0m in \u001b[0;36m<module>\u001b[1;34m\u001b[0m\n\u001b[0;32m     12\u001b[0m \u001b[1;33m\u001b[0m\u001b[0m\n\u001b[0;32m     13\u001b[0m \u001b[1;32mimport\u001b[0m \u001b[0mnumpy\u001b[0m \u001b[1;32mas\u001b[0m \u001b[0mnp\u001b[0m\u001b[1;33m\u001b[0m\u001b[1;33m\u001b[0m\u001b[0m\n\u001b[1;32m---> 14\u001b[1;33m \u001b[1;32mimport\u001b[0m \u001b[0mstain_utils\u001b[0m \u001b[1;32mas\u001b[0m \u001b[0mut\u001b[0m\u001b[1;33m\u001b[0m\u001b[1;33m\u001b[0m\u001b[0m\n\u001b[0m\u001b[0;32m     15\u001b[0m \u001b[1;33m\u001b[0m\u001b[0m\n\u001b[0;32m     16\u001b[0m \u001b[1;33m\u001b[0m\u001b[0m\n",
      "\u001b[1;32m~\\Documents\\Python Scripts\\DigestPath\\DigestPath_Colonoscopy_Classification\\stain_utils.py\u001b[0m in \u001b[0;36m<module>\u001b[1;34m\u001b[0m\n\u001b[0;32m      9\u001b[0m \u001b[1;32mimport\u001b[0m \u001b[0mnumpy\u001b[0m \u001b[1;32mas\u001b[0m \u001b[0mnp\u001b[0m\u001b[1;33m\u001b[0m\u001b[1;33m\u001b[0m\u001b[0m\n\u001b[0;32m     10\u001b[0m \u001b[1;32mimport\u001b[0m \u001b[0mcv2\u001b[0m \u001b[1;32mas\u001b[0m \u001b[0mcv\u001b[0m\u001b[1;33m\u001b[0m\u001b[1;33m\u001b[0m\u001b[0m\n\u001b[1;32m---> 11\u001b[1;33m \u001b[1;32mimport\u001b[0m \u001b[0mspams\u001b[0m\u001b[1;33m\u001b[0m\u001b[1;33m\u001b[0m\u001b[0m\n\u001b[0m\u001b[0;32m     12\u001b[0m \u001b[1;32mimport\u001b[0m \u001b[0mmatplotlib\u001b[0m\u001b[1;33m.\u001b[0m\u001b[0mpyplot\u001b[0m \u001b[1;32mas\u001b[0m \u001b[0mplt\u001b[0m\u001b[1;33m\u001b[0m\u001b[1;33m\u001b[0m\u001b[0m\n\u001b[0;32m     13\u001b[0m \u001b[1;33m\u001b[0m\u001b[0m\n",
      "\u001b[1;31mModuleNotFoundError\u001b[0m: No module named 'spams'"
     ]
    }
   ],
   "source": [
    "import os\n",
    "import sys\n",
    "import cv2 as cv\n",
    "import glob\n",
    "\n",
    "import stainNorm_Macenko as stain_Macenko"
   ]
  },
  {
   "cell_type": "code",
   "execution_count": null,
   "metadata": {},
   "outputs": [],
   "source": [
    "def get_file_name_dir(rootDir, ext):\n",
    " \n",
    "    # Return file names with certain extension\n",
    "\n",
    "    return glob.glob1(rootDir, \"*.\" + ext)"
   ]
  },
  {
   "cell_type": "code",
   "execution_count": null,
   "metadata": {},
   "outputs": [],
   "source": [
    "input_path = 'data/data-ICIAR-final/Vahadane/test/Benign/'\n",
    "input_extension = 'png'\n",
    "\n",
    "inputs_files = sorted(get_file_name_dir(input_path, input_extension))\n",
    "\n",
    "cont = 1\n",
    "\n",
    "for file_name in inputs_files:\n",
    "    print('Preprocessing: ' + file_name + ': ' + str(cont))\n",
    "    cont += 1\n",
    "    # Get the image\n",
    "    img = input_path + file_name\n",
    "    im_in = cv.imread(img)\n",
    "\n",
    "    target = cv.imread(os.path.join(input_path, file_name))\n",
    "    n = stain_Vahadane.normalizer()\n",
    "    n.fit(target)\n",
    "    normal = n.transform(im_in)\n",
    "    \n",
    "    cv.imwrite('data/data-ICIAR-final/Vahadane/test/Benign/' + file_name , normal)"
   ]
  },
  {
   "cell_type": "code",
   "execution_count": null,
   "metadata": {},
   "outputs": [],
   "source": [
    "input_path = 'data/data-ICIAR-final/Vahadane/test/InSitu/'\n",
    "input_extension = 'png'\n",
    "\n",
    "inputs_files = sorted(get_file_name_dir(input_path, input_extension))\n",
    "\n",
    "cont = 1\n",
    "\n",
    "for file_name in inputs_files:\n",
    "    print('Preprocessing: ' + file_name + ': ' + str(cont))\n",
    "    cont += 1\n",
    "    # Get the image\n",
    "    img = input_path + file_name\n",
    "    im_in = cv.imread(img)\n",
    "\n",
    "    target = cv.imread(os.path.join(input_path, file_name))\n",
    "    n = stain_Vahadane.normalizer()\n",
    "    n.fit(target)\n",
    "    normal = n.transform(im_in)\n",
    "    \n",
    "    cv.imwrite('data/data-ICIAR-final/Vahadane/test/InSitu/' + file_name , normal)"
   ]
  },
  {
   "cell_type": "code",
   "execution_count": null,
   "metadata": {},
   "outputs": [],
   "source": [
    "input_path = 'data/data-ICIAR-final/Vahadane/test/Invasive/'\n",
    "input_extension = 'png'\n",
    "\n",
    "inputs_files = sorted(get_file_name_dir(input_path, input_extension))\n",
    "\n",
    "cont = 1\n",
    "\n",
    "for file_name in inputs_files:\n",
    "    print('Preprocessing: ' + file_name + ': ' + str(cont))\n",
    "    cont += 1\n",
    "    # Get the image\n",
    "    img = input_path + file_name\n",
    "    im_in = cv.imread(img)\n",
    "\n",
    "    target = cv.imread(os.path.join(input_path, file_name))\n",
    "    n = stain_Vahadane.normalizer()\n",
    "    n.fit(target)\n",
    "    normal = n.transform(im_in)\n",
    "    \n",
    "    cv.imwrite('data/data-ICIAR-final/Vahadane/test/Invasive/' + file_name , normal)"
   ]
  },
  {
   "cell_type": "code",
   "execution_count": null,
   "metadata": {},
   "outputs": [],
   "source": [
    "input_path = 'data/data-ICIAR-final/Vahadane/test/Normal/'\n",
    "input_extension = 'png'\n",
    "\n",
    "inputs_files = sorted(get_file_name_dir(input_path, input_extension))\n",
    "\n",
    "cont = 1\n",
    "\n",
    "for file_name in inputs_files:\n",
    "    print('Preprocessing: ' + file_name + ': ' + str(cont))\n",
    "    cont += 1\n",
    "    # Get the image\n",
    "    img = input_path + file_name\n",
    "    im_in = cv.imread(img)\n",
    "\n",
    "    target = cv.imread(os.path.join(input_path, file_name))\n",
    "    n = stain_Vahadane.normalizer()\n",
    "    n.fit(target)\n",
    "    normal = n.transform(im_in)\n",
    "    \n",
    "    cv.imwrite('data/data-ICIAR-final/Vahadane/test/Normal/' + file_name , normal)"
   ]
  },
  {
   "cell_type": "code",
   "execution_count": null,
   "metadata": {},
   "outputs": [],
   "source": []
  },
  {
   "cell_type": "code",
   "execution_count": null,
   "metadata": {},
   "outputs": [],
   "source": []
  },
  {
   "cell_type": "code",
   "execution_count": null,
   "metadata": {},
   "outputs": [],
   "source": []
  },
  {
   "cell_type": "code",
   "execution_count": null,
   "metadata": {},
   "outputs": [],
   "source": []
  }
 ],
 "metadata": {
  "kernelspec": {
   "display_name": "Python 3",
   "language": "python",
   "name": "python3"
  },
  "language_info": {
   "codemirror_mode": {
    "name": "ipython",
    "version": 3
   },
   "file_extension": ".py",
   "mimetype": "text/x-python",
   "name": "python",
   "nbconvert_exporter": "python",
   "pygments_lexer": "ipython3",
   "version": "3.7.3"
  }
 },
 "nbformat": 4,
 "nbformat_minor": 2
}
