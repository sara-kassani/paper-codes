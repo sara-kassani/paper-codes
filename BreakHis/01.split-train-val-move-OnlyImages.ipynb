{
 "cells": [
  {
   "cell_type": "code",
   "execution_count": 1,
   "metadata": {},
   "outputs": [],
   "source": [
    "import warnings\n",
    "warnings.filterwarnings('always')\n",
    "warnings.filterwarnings('ignore')"
   ]
  },
  {
   "cell_type": "code",
   "execution_count": 2,
   "metadata": {},
   "outputs": [
    {
     "name": "stderr",
     "output_type": "stream",
     "text": [
      "Using TensorFlow backend.\n"
     ]
    }
   ],
   "source": [
    "from keras.preprocessing.image import ImageDataGenerator\n",
    "import glob\n",
    "import math\n",
    "import numpy as np\n",
    "import os\n",
    "import shutil\n",
    "import skimage.io as io\n",
    "import skimage.transform as trans"
   ]
  },
  {
   "cell_type": "code",
   "execution_count": 3,
   "metadata": {},
   "outputs": [],
   "source": [
    "def split_train_val(base_dir, train_img, val_img):\n",
    "    sourceN = base_dir + train_img\n",
    "    destN = base_dir + val_img\n",
    "    filesN = os.listdir(sourceN)\n",
    "\n",
    "    np.random.seed(42)\n",
    "    for f in filesN:\n",
    "        if np.random.rand(1) < 0.09:\n",
    "            shutil.move(sourceN + '/' + f, destN + '/' + f)\n",
    "    print(len(os.listdir(sourceN)))\n",
    "\n",
    "    print(len(os.listdir(destN)))\n",
    "    tra_num = len(os.listdir(sourceN))\n",
    "    val_num = len(os.listdir(destN))\n",
    "    return tra_num, val_num"
   ]
  },
  {
   "cell_type": "code",
   "execution_count": 10,
   "metadata": {},
   "outputs": [],
   "source": [
    "base_dir = 'data' \n",
    "train_img = '/train/benign'\n",
    "val_img = '/test/benign'"
   ]
  },
  {
   "cell_type": "code",
   "execution_count": 11,
   "metadata": {},
   "outputs": [
    {
     "name": "stdout",
     "output_type": "stream",
     "text": [
      "2023\n",
      "216\n"
     ]
    },
    {
     "data": {
      "text/plain": [
       "(2023, 216)"
      ]
     },
     "execution_count": 11,
     "metadata": {},
     "output_type": "execute_result"
    }
   ],
   "source": [
    "split_train_val(base_dir, train_img, val_img)"
   ]
  },
  {
   "cell_type": "code",
   "execution_count": 12,
   "metadata": {},
   "outputs": [],
   "source": [
    "base_dir = 'data' \n",
    "train_img = '/train/malignant'\n",
    "val_img = '/test/malignant'"
   ]
  },
  {
   "cell_type": "code",
   "execution_count": 13,
   "metadata": {},
   "outputs": [
    {
     "name": "stdout",
     "output_type": "stream",
     "text": [
      "4421\n",
      "481\n"
     ]
    },
    {
     "data": {
      "text/plain": [
       "(4421, 481)"
      ]
     },
     "execution_count": 13,
     "metadata": {},
     "output_type": "execute_result"
    }
   ],
   "source": [
    "split_train_val(base_dir, train_img, val_img)"
   ]
  },
  {
   "cell_type": "code",
   "execution_count": null,
   "metadata": {},
   "outputs": [],
   "source": []
  }
 ],
 "metadata": {
  "kernelspec": {
   "display_name": "Python 3",
   "language": "python",
   "name": "python3"
  },
  "language_info": {
   "codemirror_mode": {
    "name": "ipython",
    "version": 3
   },
   "file_extension": ".py",
   "mimetype": "text/x-python",
   "name": "python",
   "nbconvert_exporter": "python",
   "pygments_lexer": "ipython3",
   "version": "3.6.5"
  }
 },
 "nbformat": 4,
 "nbformat_minor": 2
}
