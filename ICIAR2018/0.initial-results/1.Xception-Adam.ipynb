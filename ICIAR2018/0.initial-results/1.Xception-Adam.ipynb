{
 "cells": [
  {
   "cell_type": "code",
   "execution_count": null,
   "metadata": {},
   "outputs": [],
   "source": [
    "from tensorflow.python.client import device_lib\n",
    "print(device_lib.list_local_devices())"
   ]
  },
  {
   "cell_type": "code",
   "execution_count": null,
   "metadata": {},
   "outputs": [],
   "source": [
    "import tensorflow as tf\n",
    "print(tf.test.gpu_device_name())\n",
    "# See https://www.tensorflow.org/tutorials/using_gpu#allowing_gpu_memory_growth\n",
    "config = tf.ConfigProto()\n",
    "config.gpu_options.allow_growth = True\n"
   ]
  },
  {
   "cell_type": "code",
   "execution_count": 2,
   "metadata": {},
   "outputs": [],
   "source": [
    "import os\n",
    "import pandas as pd\n",
    "\n",
    "import tensorflow as tf\n",
    "import numpy as np\n",
    "from glob import glob\n",
    "import cv2\n",
    "import skimage\n",
    "from skimage.transform import resize\n",
    "\n",
    "from keras import layers\n",
    "from keras import models\n",
    "from keras import optimizers\n",
    "from keras.models import load_model\n",
    "import keras.callbacks as kcall\n",
    "from keras.optimizers import Adam, SGD\n",
    "from keras.models import Model\n",
    "from keras.models import Sequential\n",
    "from keras.layers import Flatten, Dense, Activation, Dropout, Conv2D, MaxPooling2D, BatchNormalization\n",
    "from keras.applications.xception import Xception, preprocess_input\n",
    "from keras.preprocessing.image import ImageDataGenerator\n",
    "from keras.callbacks import ModelCheckpoint\n",
    "import matplotlib.pyplot as plt\n",
    "\n",
    "from Eve import Eve\n",
    "\n",
    "%matplotlib inline"
   ]
  },
  {
   "cell_type": "markdown",
   "metadata": {},
   "source": [
    "___"
   ]
  },
  {
   "cell_type": "code",
   "execution_count": 3,
   "metadata": {},
   "outputs": [],
   "source": [
    "train_dir = 'data/Reinhard'"
   ]
  },
  {
   "cell_type": "code",
   "execution_count": 4,
   "metadata": {},
   "outputs": [
    {
     "name": "stdout",
     "output_type": "stream",
     "text": [
      "data/Reinhard 0\n",
      "data/Reinhard/Invasive 3500\n",
      "data/Reinhard/Normal 3500\n",
      "data/Reinhard/InSitu 3500\n",
      "data/Reinhard/Benign 3500\n"
     ]
    }
   ],
   "source": [
    "for root,dirs,files in os.walk(train_dir):\n",
    "    print (root, len(files))"
   ]
  },
  {
   "cell_type": "code",
   "execution_count": 5,
   "metadata": {},
   "outputs": [
    {
     "name": "stdout",
     "output_type": "stream",
     "text": [
      "Found 10500 images belonging to 4 classes.\n",
      "Found 3500 images belonging to 4 classes.\n"
     ]
    }
   ],
   "source": [
    "from keras.preprocessing.image import ImageDataGenerator\n",
    "\n",
    "# this is the augmentation configuration we will use for training\n",
    "train_datagen = ImageDataGenerator(\n",
    "    rescale=1. / 255,\n",
    "    shear_range=0.2,\n",
    "    zoom_range=0.2,\n",
    "        width_shift_range=0.2,\n",
    "        height_shift_range=0.2,\n",
    "        fill_mode='nearest',\n",
    "    horizontal_flip=True,\n",
    "    validation_split=0.25)\n",
    "\n",
    "# this is the augmentation configuration we will use for testing:\n",
    "# only rescaling\n",
    "test_datagen = ImageDataGenerator(rescale=1. / 255)\n",
    "\n",
    "\n",
    "#target_size: Tuple of integers (height, width), default: (256, 256). \n",
    "#The dimensions to which all images found will be resized.\n",
    "target_size = (256, 256)\n",
    "#target_size = (height, width)\n",
    "train_generator = train_datagen.flow_from_directory(\n",
    "        train_dir,\n",
    "        target_size = target_size,       \n",
    "        class_mode = 'categorical',\n",
    "        batch_size=32,\n",
    "        subset=\"training\",\n",
    "        shuffle = True)\n",
    "\n",
    "validation_generator = train_datagen.flow_from_directory(\n",
    "        train_dir,\n",
    "        target_size = target_size,        \n",
    "        class_mode = 'categorical',\n",
    "        batch_size=32,\n",
    "        subset = \"validation\",\n",
    "        shuffle = True)"
   ]
  },
  {
   "cell_type": "code",
   "execution_count": 6,
   "metadata": {},
   "outputs": [],
   "source": [
    "## Intilizing variables\n",
    "output_classes = 4\n",
    "batch_size = 32 \n",
    "epochs = 30\n",
    "\n",
    "sgd_opt = SGD(lr=1E-2, decay=1E-4, momentum=0.9, nesterov=True)\n",
    "adam_opt = Adam(lr=1E-4, beta_1=0.9, beta_2=0.999, epsilon=1e-08, decay=1E-4)\n",
    "eve_opt = Eve(lr=1E-4, decay=1E-4, beta_1=0.9, beta_2=0.999, beta_3=0.999, small_k=0.1, big_K=10, epsilon=1e-08)\n",
    "\n",
    "resume_model = False\n",
    "xception_weights = 'pretrained-models/xception_weights_tf_dim_ordering_tf_kernels_notop.h5'"
   ]
  },
  {
   "cell_type": "code",
   "execution_count": 30,
   "metadata": {},
   "outputs": [],
   "source": [
    "model = Sequential()\n",
    "\n",
    "model.add(Xception(weights = xception_weights, include_top=False, pooling = 'avg'))\n",
    "\n",
    "model.add(Dense(units=output_classes, activation='softmax'))\n",
    "\n",
    "model.layers[0].trainable = True\n",
    "\n",
    "model.compile(loss = 'categorical_crossentropy',\n",
    "              optimizer = adam_opt,\n",
    "              metrics = ['accuracy'])"
   ]
  },
  {
   "cell_type": "code",
   "execution_count": 8,
   "metadata": {},
   "outputs": [
    {
     "name": "stdout",
     "output_type": "stream",
     "text": [
      "Layer:  1  Name:  xception\n",
      "Layer:  2  Name:  dense_1\n"
     ]
    }
   ],
   "source": [
    "for i, layer in enumerate(model.layers):\n",
    "    print('Layer: ',i+1,' Name: ', layer.name)"
   ]
  },
  {
   "cell_type": "code",
   "execution_count": 9,
   "metadata": {},
   "outputs": [
    {
     "data": {
      "text/plain": [
       "10500"
      ]
     },
     "execution_count": 9,
     "metadata": {},
     "output_type": "execute_result"
    }
   ],
   "source": [
    "num_train_samples= len(train_generator.filenames)\n",
    "num_train_samples"
   ]
  },
  {
   "cell_type": "code",
   "execution_count": 10,
   "metadata": {},
   "outputs": [
    {
     "data": {
      "text/plain": [
       "3500"
      ]
     },
     "execution_count": 10,
     "metadata": {},
     "output_type": "execute_result"
    }
   ],
   "source": [
    "num_val_samples= len(validation_generator.filenames)\n",
    "num_val_samples"
   ]
  },
  {
   "cell_type": "code",
   "execution_count": 11,
   "metadata": {},
   "outputs": [
    {
     "name": "stdout",
     "output_type": "stream",
     "text": [
      "Epoch 1/30\n",
      "329/329 [==============================] - 7939s 24s/step - loss: 0.5174 - acc: 0.8002 - val_loss: 1.0566 - val_acc: 0.6834\n",
      "Epoch 2/30\n",
      "329/329 [==============================] - 7912s 24s/step - loss: 0.1616 - acc: 0.9440 - val_loss: 1.4032 - val_acc: 0.6760\n",
      "Epoch 3/30\n",
      "329/329 [==============================] - 7911s 24s/step - loss: 0.0898 - acc: 0.9703 - val_loss: 1.0667 - val_acc: 0.7209\n",
      "Epoch 4/30\n",
      "329/329 [==============================] - 7912s 24s/step - loss: 0.0523 - acc: 0.9835 - val_loss: 1.2765 - val_acc: 0.7069\n",
      "Epoch 5/30\n",
      "329/329 [==============================] - 7914s 24s/step - loss: 0.0545 - acc: 0.9821 - val_loss: 1.3942 - val_acc: 0.6954\n",
      "Epoch 6/30\n",
      "329/329 [==============================] - 7916s 24s/step - loss: 0.0468 - acc: 0.9851 - val_loss: 1.3783 - val_acc: 0.7134\n",
      "Epoch 7/30\n",
      "329/329 [==============================] - 7922s 24s/step - loss: 0.0394 - acc: 0.9884 - val_loss: 1.4650 - val_acc: 0.7137\n",
      "Epoch 8/30\n",
      "329/329 [==============================] - 8015s 24s/step - loss: 0.0267 - acc: 0.9907 - val_loss: 2.1156 - val_acc: 0.6474\n",
      "Epoch 9/30\n",
      "329/329 [==============================] - 7925s 24s/step - loss: 0.0292 - acc: 0.9911 - val_loss: 1.6840 - val_acc: 0.7040\n",
      "Epoch 10/30\n",
      "329/329 [==============================] - 7939s 24s/step - loss: 0.0308 - acc: 0.9909 - val_loss: 1.7668 - val_acc: 0.6814\n",
      "Epoch 11/30\n",
      "329/329 [==============================] - 7951s 24s/step - loss: 0.0189 - acc: 0.9941 - val_loss: 1.7454 - val_acc: 0.6777\n",
      "Epoch 12/30\n",
      "329/329 [==============================] - 7946s 24s/step - loss: 0.0336 - acc: 0.9908 - val_loss: 1.5972 - val_acc: 0.7049\n",
      "Epoch 13/30\n",
      "329/329 [==============================] - 7939s 24s/step - loss: 0.0190 - acc: 0.9932 - val_loss: 1.6130 - val_acc: 0.7057\n",
      "Epoch 14/30\n",
      "329/329 [==============================] - 7943s 24s/step - loss: 0.0197 - acc: 0.9943 - val_loss: 1.7571 - val_acc: 0.6874\n",
      "Epoch 15/30\n",
      "329/329 [==============================] - 7941s 24s/step - loss: 0.0162 - acc: 0.9952 - val_loss: 1.6454 - val_acc: 0.6843\n",
      "Epoch 16/30\n",
      "329/329 [==============================] - 7941s 24s/step - loss: 0.0134 - acc: 0.9953 - val_loss: 1.9050 - val_acc: 0.7040\n",
      "Epoch 17/30\n",
      "329/329 [==============================] - 7940s 24s/step - loss: 0.0130 - acc: 0.9963 - val_loss: 1.6904 - val_acc: 0.6986\n",
      "Epoch 18/30\n",
      "329/329 [==============================] - 7936s 24s/step - loss: 0.0133 - acc: 0.9960 - val_loss: 2.0063 - val_acc: 0.6911\n",
      "Epoch 19/30\n",
      "329/329 [==============================] - 7941s 24s/step - loss: 0.0262 - acc: 0.9947 - val_loss: 2.4169 - val_acc: 0.6449\n",
      "Epoch 20/30\n",
      "329/329 [==============================] - 7991s 24s/step - loss: 0.0214 - acc: 0.9929 - val_loss: 2.0090 - val_acc: 0.6854\n",
      "Epoch 21/30\n",
      "329/329 [==============================] - 8189s 25s/step - loss: 0.0174 - acc: 0.9953 - val_loss: 1.8171 - val_acc: 0.6906\n",
      "Epoch 22/30\n",
      "329/329 [==============================] - 8026s 24s/step - loss: 0.0104 - acc: 0.9967 - val_loss: 1.7938 - val_acc: 0.7006\n",
      "Epoch 23/30\n",
      "329/329 [==============================] - 7993s 24s/step - loss: 0.0114 - acc: 0.9955 - val_loss: 1.8936 - val_acc: 0.6791\n",
      "Epoch 24/30\n",
      "329/329 [==============================] - 8048s 24s/step - loss: 0.0143 - acc: 0.9948 - val_loss: 1.7608 - val_acc: 0.7006\n",
      "Epoch 25/30\n",
      "329/329 [==============================] - 7967s 24s/step - loss: 0.0183 - acc: 0.9952 - val_loss: 1.7639 - val_acc: 0.6717\n",
      "Epoch 26/30\n",
      "329/329 [==============================] - 7965s 24s/step - loss: 0.0120 - acc: 0.9959 - val_loss: 1.5665 - val_acc: 0.6994\n",
      "Epoch 27/30\n",
      "329/329 [==============================] - 7975s 24s/step - loss: 0.0056 - acc: 0.9986 - val_loss: 1.8774 - val_acc: 0.6940\n",
      "Epoch 28/30\n",
      "329/329 [==============================] - 8029s 24s/step - loss: 0.0056 - acc: 0.9986 - val_loss: 2.0804 - val_acc: 0.6803\n",
      "Epoch 29/30\n",
      "329/329 [==============================] - 7990s 24s/step - loss: 0.0057 - acc: 0.9985 - val_loss: 2.0386 - val_acc: 0.6860\n",
      "Epoch 30/30\n",
      "329/329 [==============================] - 7986s 24s/step - loss: 0.0187 - acc: 0.9949 - val_loss: 2.0833 - val_acc: 0.6600\n"
     ]
    }
   ],
   "source": [
    "history = model.fit_generator(train_generator,\n",
    "        steps_per_epoch =int(np.ceil(num_train_samples * 1.0 / batch_size)),\n",
    "        epochs = epochs,\n",
    "        validation_data = validation_generator,\n",
    "        validation_steps=int(np.ceil(num_val_samples * 1.0 / batch_size)))"
   ]
  },
  {
   "cell_type": "code",
   "execution_count": 12,
   "metadata": {},
   "outputs": [
    {
     "name": "stdout",
     "output_type": "stream",
     "text": [
      "dict_keys(['val_loss', 'val_acc', 'loss', 'acc'])\n"
     ]
    }
   ],
   "source": [
    "print(history.history.keys())"
   ]
  },
  {
   "cell_type": "code",
   "execution_count": 13,
   "metadata": {},
   "outputs": [
    {
     "data": {
      "text/plain": [
       "[1.0566438899721418,\n",
       " 1.4031754519598825,\n",
       " 1.066743425130844,\n",
       " 1.2764606445857456,\n",
       " 1.3942276503699167,\n",
       " 1.3783026716368538,\n",
       " 1.4650260722296577,\n",
       " 2.1156473944527763,\n",
       " 1.6840087736674718,\n",
       " 1.7667802663530623,\n",
       " 1.7453884555271693,\n",
       " 1.5972329416275024,\n",
       " 1.6130417496817453,\n",
       " 1.7571122065952847,\n",
       " 1.645358428137643,\n",
       " 1.9050105142593383,\n",
       " 1.6904488743373325,\n",
       " 2.006306636695351,\n",
       " 2.4169225792203632,\n",
       " 2.0089629633767263,\n",
       " 1.8170504918779646,\n",
       " 1.793784586225237,\n",
       " 1.8935812012808664,\n",
       " 1.7607953030722483,\n",
       " 1.7639131411143711,\n",
       " 1.5665155213986124,\n",
       " 1.8774114873068672,\n",
       " 2.0803678899492537,\n",
       " 2.038608517101833,\n",
       " 2.0833340470450263]"
      ]
     },
     "execution_count": 13,
     "metadata": {},
     "output_type": "execute_result"
    }
   ],
   "source": [
    "history.history[\"val_loss\"]"
   ]
  },
  {
   "cell_type": "code",
   "execution_count": 14,
   "metadata": {},
   "outputs": [
    {
     "data": {
      "text/plain": [
       "[0.6834285714285714,\n",
       " 0.676,\n",
       " 0.7208571429252625,\n",
       " 0.7068571427890232,\n",
       " 0.6954285714285714,\n",
       " 0.7134285713604518,\n",
       " 0.7137142856461661,\n",
       " 0.647428571496691,\n",
       " 0.7040000000681196,\n",
       " 0.6814285714285714,\n",
       " 0.6777142857142857,\n",
       " 0.7048571428571428,\n",
       " 0.7057142857142857,\n",
       " 0.687428571496691,\n",
       " 0.6842857143538339,\n",
       " 0.7040000000681196,\n",
       " 0.6985714285714286,\n",
       " 0.6911428571428572,\n",
       " 0.6448571427890233,\n",
       " 0.685428571496691,\n",
       " 0.690571428503309,\n",
       " 0.7005714285714286,\n",
       " 0.6791428572109768,\n",
       " 0.7005714285714286,\n",
       " 0.6717142856461661,\n",
       " 0.6994285714285714,\n",
       " 0.6939999999318804,\n",
       " 0.6802857142857143,\n",
       " 0.6860000000681196,\n",
       " 0.66]"
      ]
     },
     "execution_count": 14,
     "metadata": {},
     "output_type": "execute_result"
    }
   ],
   "source": [
    "history.history[\"val_acc\"]"
   ]
  },
  {
   "cell_type": "code",
   "execution_count": 15,
   "metadata": {},
   "outputs": [
    {
     "data": {
      "text/plain": [
       "[0.5166216211091904,\n",
       " 0.15935890294256663,\n",
       " 0.08947373077131453,\n",
       " 0.05243352468098913,\n",
       " 0.05245710775610946,\n",
       " 0.04284924229873078,\n",
       " 0.03770879396583353,\n",
       " 0.02671747126323836,\n",
       " 0.026774403420409987,\n",
       " 0.027455622034413475,\n",
       " 0.01837549712473438,\n",
       " 0.023078675150516488,\n",
       " 0.018402809307422666,\n",
       " 0.01757166597575304,\n",
       " 0.01563813013743077,\n",
       " 0.013263526187233981,\n",
       " 0.01263973253089491,\n",
       " 0.013204891316614868,\n",
       " 0.015513372134106855,\n",
       " 0.019023620013214115,\n",
       " 0.013502916872989209,\n",
       " 0.010272954180936463,\n",
       " 0.009262417237052605,\n",
       " 0.013277070144191385,\n",
       " 0.009416111457427698,\n",
       " 0.011142829813506632,\n",
       " 0.00556228731368624,\n",
       " 0.005526956313212092,\n",
       " 0.0055660004451471784,\n",
       " 0.011607007962895469]"
      ]
     },
     "execution_count": 15,
     "metadata": {},
     "output_type": "execute_result"
    }
   ],
   "source": [
    "history.history[\"loss\"]"
   ]
  },
  {
   "cell_type": "code",
   "execution_count": 16,
   "metadata": {},
   "outputs": [
    {
     "data": {
      "text/plain": [
       "[0.800952380952381,\n",
       " 0.9444761904761905,\n",
       " 0.9701904761904762,\n",
       " 0.9834285714285714,\n",
       " 0.9827619047619047,\n",
       " 0.9863809523809524,\n",
       " 0.9890476190476191,\n",
       " 0.9906666666666667,\n",
       " 0.9923809523809524,\n",
       " 0.9915238095238095,\n",
       " 0.9940952380952381,\n",
       " 0.9927619047619047,\n",
       " 0.9938095238095238,\n",
       " 0.9949523809523809,\n",
       " 0.9958095238095238,\n",
       " 0.9953333333333333,\n",
       " 0.9962857142857143,\n",
       " 0.996,\n",
       " 0.996,\n",
       " 0.9941904761904762,\n",
       " 0.996,\n",
       " 0.9966666666666667,\n",
       " 0.9968571428571429,\n",
       " 0.9954285714285714,\n",
       " 0.9971428571428571,\n",
       " 0.9965714285714286,\n",
       " 0.9985714285714286,\n",
       " 0.9985714285714286,\n",
       " 0.9984761904761905,\n",
       " 0.9961904761904762]"
      ]
     },
     "execution_count": 16,
     "metadata": {},
     "output_type": "execute_result"
    }
   ],
   "source": [
    "history.history[\"acc\"]"
   ]
  },
  {
   "cell_type": "code",
   "execution_count": 17,
   "metadata": {},
   "outputs": [
    {
     "name": "stdout",
     "output_type": "stream",
     "text": [
      "Test Score:  2.058975793123245\n",
      "Test Accuracy:  0.66125\n"
     ]
    }
   ],
   "source": [
    "score = model.evaluate_generator(validation_generator, steps=50)\n",
    "\n",
    "print ('Test Score: ', score[0])\n",
    "print ('Test Accuracy: ',score[1])"
   ]
  },
  {
   "cell_type": "code",
   "execution_count": 18,
   "metadata": {},
   "outputs": [
    {
     "data": {
      "image/png": "[encoded data removed]",
      "text/plain": [
       "<Figure size 432x288 with 1 Axes>"
      ]
     },
     "metadata": {},
     "output_type": "display_data"
    },
    {
     "data": {
      "image/png": "[encoded data removed]",
      "text/plain": [
       "<Figure size 432x288 with 1 Axes>"
      ]
     },
     "metadata": {},
     "output_type": "display_data"
    }
   ],
   "source": [
    "import matplotlib.pyplot as plt\n",
    "\n",
    "plt.plot(history.history['acc'])\n",
    "plt.plot(history.history['val_acc'])\n",
    "plt.title('model accuracy')\n",
    "plt.ylabel('accuracy')\n",
    "plt.xlabel('epoch')\n",
    "plt.legend(['train', 'test'], loc='upper left')\n",
    "plt.show()\n",
    "# summarize history for loss\n",
    "plt.plot(history.history['loss'])\n",
    "plt.plot(history.history['val_loss'])\n",
    "plt.title('model loss')\n",
    "plt.ylabel('loss')\n",
    "plt.xlabel('epoch')\n",
    "plt.legend(['train', 'test'], loc='upper left')\n",
    "plt.show()"
   ]
  },
  {
   "cell_type": "code",
   "execution_count": 19,
   "metadata": {},
   "outputs": [
    {
     "data": {
      "image/png": "[encoded data removed]",
      "text/plain": [
       "<Figure size 432x288 with 1 Axes>"
      ]
     },
     "metadata": {},
     "output_type": "display_data"
    },
    {
     "data": {
      "image/png": "[encoded data removed]",
      "text/plain": [
       "<Figure size 432x288 with 1 Axes>"
      ]
     },
     "metadata": {},
     "output_type": "display_data"
    }
   ],
   "source": [
    "acc = history.history['acc']\n",
    "val_acc = history.history['val_acc']\n",
    "loss = history.history['loss']\n",
    "val_loss = history.history['val_loss']\n",
    "\n",
    "epochs = range(len(acc))\n",
    "\n",
    "plt.plot(epochs, acc, 'bo', label='Training acc')\n",
    "plt.plot(epochs, val_acc, 'b', label='Validation acc')\n",
    "plt.title('Training and validation accuracy')\n",
    "plt.legend()\n",
    "\n",
    "plt.figure()\n",
    "\n",
    "plt.plot(epochs, loss, 'bo', label='Training loss')\n",
    "plt.plot(epochs, val_loss, 'b', label='Validation loss')\n",
    "plt.title('Training and validation loss')\n",
    "plt.legend()\n",
    "\n",
    "plt.show()\n"
   ]
  },
  {
   "cell_type": "code",
   "execution_count": 20,
   "metadata": {},
   "outputs": [
    {
     "data": {
      "image/png": "[encoded data removed]",
      "text/plain": [
       "<Figure size 432x288 with 1 Axes>"
      ]
     },
     "metadata": {},
     "output_type": "display_data"
    }
   ],
   "source": [
    "import numpy as np\n",
    "plt.figure(1)\n",
    "plt.plot(history.history['loss'],'r')\n",
    "plt.plot(history.history['val_loss'],'g')\n",
    "plt.rcParams['figure.figsize'] = (8, 6)\n",
    "plt.xlabel(\"Num of Epochs\")\n",
    "plt.ylabel(\"Loss\")\n",
    "plt.title(\"Training Loss vs Validation Loss\")\n",
    "plt.legend(['train','validation'])\n",
    "\n",
    "plt.show()"
   ]
  },
  {
   "cell_type": "code",
   "execution_count": 21,
   "metadata": {},
   "outputs": [],
   "source": [
    "filename = validation_generator.filenames\n",
    "truth = validation_generator.classes\n",
    "label = validation_generator.class_indices\n",
    "indexlabel = dict((value, key) for key, value in label.items())"
   ]
  },
  {
   "cell_type": "code",
   "execution_count": 22,
   "metadata": {},
   "outputs": [
    {
     "name": "stdout",
     "output_type": "stream",
     "text": [
      "110/109 [==============================] - 995s 9s/step\n",
      "No of errors = 2601/3500\n"
     ]
    }
   ],
   "source": [
    "predicts = model.predict_generator(validation_generator, steps=validation_generator.samples/validation_generator.batch_size, verbose=1)\n",
    "predict_class = np.argmax(predicts, axis=1)\n",
    "errors = np.where(predict_class != truth)[0]\n",
    "print(\"No of errors = {}/{}\".format(len(errors),validation_generator.samples))"
   ]
  },
  {
   "cell_type": "code",
   "execution_count": 23,
   "metadata": {},
   "outputs": [
    {
     "name": "stderr",
     "output_type": "stream",
     "text": [
      "/home/sara/anaconda3/lib/python3.6/importlib/_bootstrap.py:219: RuntimeWarning: numpy.dtype size changed, may indicate binary incompatibility. Expected 96, got 88\n",
      "  return f(*args, **kwds)\n",
      "/home/sara/anaconda3/lib/python3.6/importlib/_bootstrap.py:219: RuntimeWarning: numpy.dtype size changed, may indicate binary incompatibility. Expected 96, got 88\n",
      "  return f(*args, **kwds)\n"
     ]
    },
    {
     "name": "stdout",
     "output_type": "stream",
     "text": [
      "Confusion Matrix\n",
      "[[ 95 371 179 230]\n",
      " [ 84 378 156 257]\n",
      " [ 95 382 176 222]\n",
      " [ 90 367 168 250]]\n"
     ]
    },
    {
     "data": {
      "image/png": "[encoded data removed]",
      "text/plain": [
       "<Figure size 720x720 with 2 Axes>"
      ]
     },
     "metadata": {},
     "output_type": "display_data"
    }
   ],
   "source": [
    "from sklearn.metrics import confusion_matrix\n",
    "cm = confusion_matrix(truth,predict_class)\n",
    "\n",
    "labels = []\n",
    "for k,v in indexlabel.items():\n",
    "    labels.append(v)\n",
    "    \n",
    "import itertools\n",
    "def plot_confusion_matrix(cm, classes,\n",
    "                          normalize=False,\n",
    "                          title='Confusion Matrix',\n",
    "                          cmap=plt.cm.Blues):\n",
    "    \"\"\"\n",
    "    This function prints and plots the confusion matrix.\n",
    "    Normalization can be applied by setting `normalize=True`.\n",
    "    \"\"\"\n",
    "    if normalize:\n",
    "        cm = cm.astype('float') / cm.sum(axis=1)[:, np.newaxis]\n",
    "        print(\"Normalized confusion matrix\")\n",
    "    else:\n",
    "        print('Confusion Matrix')\n",
    "\n",
    "    print(cm)\n",
    "\n",
    "    plt.imshow(cm, interpolation='nearest', cmap=cmap)\n",
    "    plt.title(title)\n",
    "    plt.colorbar()\n",
    "    tick_marks = np.arange(len(classes))\n",
    "    plt.xticks(tick_marks, classes, rotation=45)\n",
    "    plt.yticks(tick_marks, classes)\n",
    "\n",
    "    fmt = '.2f' if normalize else 'd'\n",
    "    thresh = cm.max() / 2.\n",
    "    for i, j in itertools.product(range(cm.shape[0]), range(cm.shape[1])):\n",
    "        plt.text(j, i, format(cm[i, j], fmt),\n",
    "                 horizontalalignment=\"center\",\n",
    "                 color=\"white\" if cm[i, j] > thresh else \"black\")\n",
    "\n",
    "    plt.tight_layout()\n",
    "    plt.ylabel('True label')\n",
    "    plt.xlabel('Predicted label')\n",
    "    \n",
    "\n",
    "plt.figure(figsize=(10,10))\n",
    "plot_confusion_matrix(cm, classes=labels,\n",
    "                      title='Confusion Matrix')"
   ]
  },
  {
   "cell_type": "code",
   "execution_count": 24,
   "metadata": {},
   "outputs": [],
   "source": [
    "from sklearn.metrics import classification_report, accuracy_score, roc_auc_score \n",
    "\n",
    "#and reports metrics with classification_report method\n",
    "def predict_and_report(gen, model):\n",
    "    y_true = []\n",
    "    y_pred = []\n",
    "    gen.reset()\n",
    "    for img, label in gen:\n",
    "        #get true labels for batch and store them\n",
    "        y_true.extend([int(z[1]) for z in label])\n",
    "        #Get predictions as probabilities\n",
    "        batch_pred = model.predict_on_batch(img)\n",
    "        #turn probabilities to class labels and store\n",
    "        batch_pred = np.argmax(batch_pred, axis=1)\n",
    "        y_pred.extend(batch_pred)\n",
    "        #break loop\n",
    "        if gen.batch_index == 0:\n",
    "            break\n",
    "            \n",
    "    print('Accuracy:', accuracy_score(y_true, y_pred))\n",
    "    print('Area Under the Receiver Operating Characteristic Curve:', roc_auc_score(y_true, y_pred)) #Area under the curve\n",
    "    print(classification_report(y_true, y_pred))"
   ]
  },
  {
   "cell_type": "code",
   "execution_count": 25,
   "metadata": {},
   "outputs": [
    {
     "name": "stdout",
     "output_type": "stream",
     "text": [
      "Accuracy: 0.4997142857142857\n",
      "Area Under the Receiver Operating Characteristic Curve: 0.3333968253968254\n",
      "             precision    recall  f1-score   support\n",
      "\n",
      "          0       1.00      0.33      0.50      7875\n",
      "          1       1.00      1.00      1.00      2625\n",
      "          2       0.00      0.00      0.00         0\n",
      "          3       0.00      0.00      0.00         0\n",
      "\n",
      "avg / total       1.00      0.50      0.62     10500\n",
      "\n"
     ]
    },
    {
     "name": "stderr",
     "output_type": "stream",
     "text": [
      "/home/sara/anaconda3/lib/python3.6/site-packages/sklearn/metrics/classification.py:1137: UndefinedMetricWarning: Recall and F-score are ill-defined and being set to 0.0 in labels with no true samples.\n",
      "  'recall', 'true', average, warn_for)\n"
     ]
    }
   ],
   "source": [
    "predict_and_report(train_generator, model)"
   ]
  },
  {
   "cell_type": "code",
   "execution_count": 26,
   "metadata": {},
   "outputs": [
    {
     "name": "stdout",
     "output_type": "stream",
     "text": [
      "Accuracy: 0.3222857142857143\n",
      "Area Under the Receiver Operating Characteristic Curve: 0.28616141496598635\n",
      "             precision    recall  f1-score   support\n",
      "\n",
      "          0       0.95      0.13      0.23      2625\n",
      "          1       0.54      0.90      0.67       875\n",
      "          2       0.00      0.00      0.00         0\n",
      "          3       0.00      0.00      0.00         0\n",
      "\n",
      "avg / total       0.84      0.32      0.34      3500\n",
      "\n"
     ]
    },
    {
     "name": "stderr",
     "output_type": "stream",
     "text": [
      "/home/sara/anaconda3/lib/python3.6/site-packages/sklearn/metrics/classification.py:1137: UndefinedMetricWarning: Recall and F-score are ill-defined and being set to 0.0 in labels with no true samples.\n",
      "  'recall', 'true', average, warn_for)\n"
     ]
    }
   ],
   "source": [
    "predict_and_report(validation_generator, model)"
   ]
  },
  {
   "cell_type": "code",
   "execution_count": 27,
   "metadata": {},
   "outputs": [
    {
     "data": {
      "text/plain": [
       "0.9985714285714286"
      ]
     },
     "execution_count": 27,
     "metadata": {},
     "output_type": "execute_result"
    }
   ],
   "source": [
    "best_train_acc = max(history.history['acc'])\n",
    "best_train_acc"
   ]
  },
  {
   "cell_type": "code",
   "execution_count": 32,
   "metadata": {},
   "outputs": [
    {
     "data": {
      "text/plain": [
       "0.7208571429252625"
      ]
     },
     "execution_count": 32,
     "metadata": {},
     "output_type": "execute_result"
    }
   ],
   "source": [
    "best_train_acc = max(history.history['val_acc'])\n",
    "best_train_acc"
   ]
  },
  {
   "cell_type": "code",
   "execution_count": 28,
   "metadata": {},
   "outputs": [
    {
     "data": {
      "text/plain": [
       "0.9961904761904762"
      ]
     },
     "execution_count": 28,
     "metadata": {},
     "output_type": "execute_result"
    }
   ],
   "source": [
    "last_train_acc = history.history['acc'][-1]\n",
    "last_train_acc"
   ]
  },
  {
   "cell_type": "code",
   "execution_count": 29,
   "metadata": {},
   "outputs": [],
   "source": [
    "model.save('models/1.Xception-Adam-Model.h5')\n",
    "model.save_weights('models/1.Xception-Adam-Weights.h5')"
   ]
  }
 ],
 "metadata": {
  "kernelspec": {
   "display_name": "Python 3",
   "language": "python",
   "name": "python3"
  },
  "language_info": {
   "codemirror_mode": {
    "name": "ipython",
    "version": 3
   },
   "file_extension": ".py",
   "mimetype": "text/x-python",
   "name": "python",
   "nbconvert_exporter": "python",
   "pygments_lexer": "ipython3",
   "version": "3.6.5"
  }
 },
 "nbformat": 4,
 "nbformat_minor": 2
}
