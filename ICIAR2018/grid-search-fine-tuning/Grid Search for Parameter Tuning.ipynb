{
 "cells": [
  {
   "cell_type": "markdown",
   "metadata": {},
   "source": [
    "Tuning hyperparameters is a time-consuming and computation-expensive task. To choose the right values, we can use heuristics or an extensive grid search. Grid search is a popular method for parameter tuning in machine learning."
   ]
  },
  {
   "cell_type": "code",
   "execution_count": 34,
   "metadata": {},
   "outputs": [],
   "source": [
    "# pip install hyperopt\n",
    "\n",
    "import sys\n",
    "import numpy as np\n",
    "\n",
    "from hyperopt import fmin, tpe, hp, STATUS_OK, Trials\n",
    "from keras.optimizers import Adam, SGD\n",
    "from keras.preprocessing.image import ImageDataGenerator\n",
    "from keras.models import Sequential\n",
    "from keras.layers import Dense, Dropout, Activation, Flatten, Conv2D, MaxPooling2D\n",
    "from keras.optimizers import Adam\n",
    "from keras.callbacks import EarlyStopping, TensorBoard, ModelCheckpoint\n",
    "from keras.layers import Input\n",
    "from keras.models import Model\n",
    "from keras.applications.xception import Xception, preprocess_input"
   ]
  },
  {
   "cell_type": "code",
   "execution_count": 36,
   "metadata": {},
   "outputs": [],
   "source": [
    "from Eve import Eve\n",
    "\n",
    "opt_sgd = SGD(lr=1E-2, decay=1E-4, momentum=0.9, nesterov=True)\n",
    "opt_adam = Adam(lr=1E-4, beta_1=0.9, beta_2=0.999, epsilon=1e-08, decay=1E-4)\n",
    "opt_eve = Eve(lr=1E-4, decay=1E-4, beta_1=0.9, beta_2=0.999, beta_3=0.999, small_k=0.1, big_K=10, epsilon=1e-08)"
   ]
  },
  {
   "cell_type": "code",
   "execution_count": 37,
   "metadata": {},
   "outputs": [],
   "source": [
    "nb_classes= 4\n",
    "train_dir = 'data/training'\n",
    "img_width, img_height = 150, 150\n",
    "img_dim = (img_width, img_height, 3)"
   ]
  },
  {
   "cell_type": "code",
   "execution_count": 38,
   "metadata": {},
   "outputs": [
    {
     "name": "stdout",
     "output_type": "stream",
     "text": [
      "Found 108 images belonging to 4 classes.\n",
      "Found 32 images belonging to 4 classes.\n"
     ]
    }
   ],
   "source": [
    "train_datagen = ImageDataGenerator(\n",
    "    rescale=1. / 255,\n",
    "    shear_range=0.2,\n",
    "    zoom_range=0.2,\n",
    "        width_shift_range=0.2,\n",
    "        height_shift_range=0.2,\n",
    "        fill_mode='nearest',\n",
    "    horizontal_flip=True,\n",
    "    validation_split=0.25)\n",
    "\n",
    "\n",
    "test_datagen = ImageDataGenerator(rescale=1. / 255)\n",
    "\n",
    "train_generator = train_datagen.flow_from_directory(\n",
    "    train_dir,\n",
    "    target_size=(img_width, img_height),\n",
    "    color_mode='rgb',\n",
    "    batch_size=32,\n",
    "    class_mode='categorical',\n",
    "    subset=\"training\")\n",
    "\n",
    "validation_generator = train_datagen.flow_from_directory(\n",
    "    train_dir,\n",
    "    target_size=(img_width, img_height),\n",
    "    color_mode='rgb',\n",
    "    batch_size=32,\n",
    "    class_mode='categorical',\n",
    "    subset = \"validation\")"
   ]
  },
  {
   "cell_type": "markdown",
   "metadata": {},
   "source": [
    "We can set the search space for different hyperparameters:"
   ]
  },
  {
   "cell_type": "code",
   "execution_count": 39,
   "metadata": {},
   "outputs": [],
   "source": [
    "space = {\n",
    "            'optimizer' : hp.choice('optimizer', [\"opt_sgd\", \"opt_adam\", \"opt_eve\"]), 'n_epochs' : 100,\n",
    "        }\n"
   ]
  },
  {
   "cell_type": "code",
   "execution_count": 40,
   "metadata": {},
   "outputs": [],
   "source": [
    "def get_callbacks(pars):\n",
    "    callbacks =[EarlyStopping(monitor='val_acc', patience=5, verbose=2),\n",
    "                ModelCheckpoint('grid_results/{}.h5'.format(pars['optimizer']), save_best_only=True),\n",
    "             TensorBoard('~/notebooks/logs-gridsearch', write_graph=True, write_grads=True, write_images=True, embeddings_freq=0, embeddings_layer_names=None, embeddings_metadata=None)]\n",
    "    return callbacks"
   ]
  },
  {
   "cell_type": "markdown",
   "metadata": {},
   "source": [
    "Next, we define an objective function that we want to minimize. This function includes the network architecture, hyperparameters, results, and everything else you want to include. Make sure you include the status STATUS_OK in your return statement for successful runs:"
   ]
  },
  {
   "cell_type": "code",
   "execution_count": 44,
   "metadata": {},
   "outputs": [],
   "source": [
    "def f_nn(pars): \n",
    "    print ('Parameters: ', pars)\n",
    "    xception_weights = 'pretrained-models/xception_weights_tf_dim_ordering_tf_kernels_notop.h5'\n",
    "    x_input = Input(shape=img_dim, name=\"input\")\n",
    "\n",
    "    # model = Sequential()\n",
    "\n",
    "    conv1 = (Xception(weights = xception_weights , include_top=False,pooling = 'avg'))(x_input)\n",
    "\n",
    "    conv2 = (Dense(units=nb_classes, activation='softmax'))(conv1)\n",
    "    \n",
    "    model = Model(inputs=[x_input], outputs=[conv2])\n",
    "    \n",
    "    #################################################################################################\n",
    "   \n",
    "    model.compile(loss='categorical_crossentropy', optimizer=opt1, metrics=['accuracy'])\n",
    "    \n",
    "    #################################################################################################\n",
    "    \n",
    "    history = model.fit_generator(train_generator, epochs=pars['n_epochs'], steps_per_epoch= 300, \n",
    "              validation_data = validation_generator,\n",
    "              validation_steps=100,\n",
    "              verbose = 1, callbacks=get_callbacks(pars)) \n",
    "    \n",
    "    best_epoch = np.argmax(history.history['val_acc'])\n",
    "    best_val_acc = np.max(history.history['val_acc'])\n",
    "    print('Epoch {} - val acc: {}'.format(best_epoch, best_val_acc))\n",
    "    sys.stdout.flush() \n",
    "    \n",
    "    return {'val_acc': best_val_acc, 'best_epoch': best_epoch, 'status': STATUS_OK}"
   ]
  },
  {
   "cell_type": "markdown",
   "metadata": {},
   "source": [
    "We can now initialize, start our grid search, and print the final results as follows:"
   ]
  },
  {
   "cell_type": "code",
   "execution_count": null,
   "metadata": {},
   "outputs": [
    {
     "name": "stdout",
     "output_type": "stream",
     "text": [
      "Parameters:  {'n_epochs': 100, 'optimizer': 'opt_adam'}\n",
      "Epoch 1/100\n",
      "300/300 [==============================] - 1797s 6s/step - loss: 0.0560 - acc: 0.9844 - val_loss: 0.0715 - val_acc: 0.9688\n",
      "Epoch 2/100\n",
      "300/300 [==============================] - 1786s 6s/step - loss: 0.0199 - acc: 0.9946 - val_loss: 0.2335 - val_acc: 0.9062\n",
      "Epoch 3/100\n",
      "300/300 [==============================] - 1791s 6s/step - loss: 0.0106 - acc: 0.9971 - val_loss: 0.0669 - val_acc: 0.9688\n",
      "Epoch 4/100\n",
      "300/300 [==============================] - 1789s 6s/step - loss: 9.3674e-04 - acc: 1.0000 - val_loss: 0.0483 - val_acc: 0.9688\n",
      "Epoch 5/100\n",
      "300/300 [==============================] - 1790s 6s/step - loss: 0.0117 - acc: 0.9964 - val_loss: 0.0167 - val_acc: 1.0000\n",
      "Epoch 6/100\n",
      "300/300 [==============================] - 1790s 6s/step - loss: 0.0094 - acc: 0.9986 - val_loss: 0.0238 - val_acc: 1.0000\n",
      "Epoch 7/100\n",
      "300/300 [==============================] - 1791s 6s/step - loss: 0.0013 - acc: 0.9997 - val_loss: 0.0164 - val_acc: 1.0000\n",
      "Epoch 8/100\n",
      "300/300 [==============================] - 1791s 6s/step - loss: 6.1734e-04 - acc: 1.0000 - val_loss: 0.0265 - val_acc: 1.0000\n",
      "Epoch 9/100\n",
      " 58/300 [====>.........................] - ETA: 23:51 - loss: 2.4247e-04 - acc: 1.0000"
     ]
    }
   ],
   "source": [
    "trials = Trials()\n",
    "best = fmin(f_nn, space, algo=tpe.suggest, max_evals=50, trials=trials)\n",
    "print(best)"
   ]
  },
  {
   "cell_type": "code",
   "execution_count": null,
   "metadata": {},
   "outputs": [],
   "source": []
  }
 ],
 "metadata": {
  "kernelspec": {
   "display_name": "Python 3",
   "language": "python",
   "name": "python3"
  },
  "language_info": {
   "codemirror_mode": {
    "name": "ipython",
    "version": 3
   },
   "file_extension": ".py",
   "mimetype": "text/x-python",
   "name": "python",
   "nbconvert_exporter": "python",
   "pygments_lexer": "ipython3",
   "version": "3.6.5"
  }
 },
 "nbformat": 4,
 "nbformat_minor": 2
}
