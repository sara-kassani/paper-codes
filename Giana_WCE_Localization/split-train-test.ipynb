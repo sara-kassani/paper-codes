{
 "cells": [
  {
   "cell_type": "code",
   "execution_count": 1,
   "metadata": {},
   "outputs": [],
   "source": [
    "import warnings\n",
    "warnings.filterwarnings('always')\n",
    "warnings.filterwarnings('ignore')"
   ]
  },
  {
   "cell_type": "code",
   "execution_count": 2,
   "metadata": {},
   "outputs": [
    {
     "name": "stderr",
     "output_type": "stream",
     "text": [
      "Using TensorFlow backend.\n"
     ]
    }
   ],
   "source": [
    "from keras.preprocessing.image import ImageDataGenerator\n",
    "import glob\n",
    "import math\n",
    "import numpy as np\n",
    "import os\n",
    "import shutil\n",
    "import skimage.io as io\n",
    "import skimage.transform as trans"
   ]
  },
  {
   "cell_type": "code",
   "execution_count": 3,
   "metadata": {},
   "outputs": [],
   "source": [
    "def split_train_test(base_dir, train_img, train_mask, test_img, test_mask):\n",
    "    sourceN = base_dir + train_img\n",
    "    destN = base_dir + test_img\n",
    "    sourceP = base_dir + train_mask\n",
    "    destP = base_dir + test_mask\n",
    "    filesN = os.listdir(sourceN)\n",
    "\n",
    "    for f in filesN:\n",
    "        if np.random.rand(1) < 0.15:\n",
    "            shutil.move(sourceN + '/' + f, destN + '/' + f)\n",
    "            shutil.move(sourceP + '/' + f, destP + '/' + f)\n",
    "    print(len(os.listdir(sourceN)))\n",
    "    print(len(os.listdir(sourceP)))\n",
    "    print(len(os.listdir(destN)))\n",
    "    print(len(os.listdir(destP)))\n",
    "    tra_num = len(os.listdir(sourceN))\n",
    "    test_num = len(os.listdir(destN))\n",
    "    return tra_num, test_num"
   ]
  },
  {
   "cell_type": "code",
   "execution_count": 4,
   "metadata": {},
   "outputs": [],
   "source": [
    "base_dir = 'data' \n",
    "train_img = '/train/images'\n",
    "train_mask = '/train/masks'\n",
    "test_img = '/test/images'\n",
    "test_mask = '/test/masks'"
   ]
  },
  {
   "cell_type": "code",
   "execution_count": 5,
   "metadata": {},
   "outputs": [
    {
     "name": "stdout",
     "output_type": "stream",
     "text": [
      "1063\n",
      "1063\n",
      "150\n",
      "150\n"
     ]
    },
    {
     "data": {
      "text/plain": [
       "(1063, 150)"
      ]
     },
     "execution_count": 5,
     "metadata": {},
     "output_type": "execute_result"
    }
   ],
   "source": [
    "split_train_test(base_dir, train_img, train_mask, test_img, test_mask)"
   ]
  },
  {
   "cell_type": "code",
   "execution_count": null,
   "metadata": {},
   "outputs": [],
   "source": []
  }
 ],
 "metadata": {
  "kernelspec": {
   "display_name": "Python 3",
   "language": "python",
   "name": "python3"
  },
  "language_info": {
   "codemirror_mode": {
    "name": "ipython",
    "version": 3
   },
   "file_extension": ".py",
   "mimetype": "text/x-python",
   "name": "python",
   "nbconvert_exporter": "python",
   "pygments_lexer": "ipython3",
   "version": "3.6.5"
  }
 },
 "nbformat": 4,
 "nbformat_minor": 2
}
