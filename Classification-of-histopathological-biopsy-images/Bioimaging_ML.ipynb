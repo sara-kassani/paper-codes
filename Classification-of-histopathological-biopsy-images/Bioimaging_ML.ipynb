{
 "cells": [
  {
   "cell_type": "code",
   "execution_count": 1,
   "metadata": {},
   "outputs": [],
   "source": [
    "import warnings\n",
    "warnings.filterwarnings('always')\n",
    "warnings.filterwarnings('ignore')"
   ]
  },
  {
   "cell_type": "code",
   "execution_count": 2,
   "metadata": {},
   "outputs": [
    {
     "name": "stderr",
     "output_type": "stream",
     "text": [
      "Using TensorFlow backend.\n"
     ]
    }
   ],
   "source": [
    "import os\n",
    "import numpy as np\n",
    "np.random.seed(777)\n",
    "import math\n",
    "import keras\n",
    "import keras.backend as K\n",
    "import h5py\n",
    "from keras.preprocessing.image import ImageDataGenerator\n",
    "from keras.optimizers import Adam, SGD, RMSprop\n",
    "from keras.models import Sequential\n",
    "from keras.models import Model\n",
    "from keras.layers import Input, Activation, merge, Dense, Flatten, Dropout, concatenate\n",
    "from keras.layers.convolutional import Conv2D, MaxPooling2D\n",
    "from keras.layers import BatchNormalization, add, GlobalAveragePooling2D\n",
    "from keras.utils.np_utils import to_categorical\n",
    "from keras.optimizers import Adam\n",
    "from sklearn.metrics import accuracy_score,roc_curve, confusion_matrix, roc_auc_score, auc, f1_score\n",
    "from keras.regularizers import l2\n",
    "from keras.applications.xception import Xception, preprocess_input\n",
    "from keras.applications.mobilenet import MobileNet\n",
    "from keras.applications.vgg16 import VGG16\n",
    "from keras.applications.vgg19 import VGG19\n",
    "from keras.applications import DenseNet201\n",
    "from keras.applications import DenseNet121\n",
    "\n",
    "from keras.layers import Input, Dense, Activation, ZeroPadding2D, BatchNormalization, Flatten, Conv2D, Lambda,Concatenate\n",
    "from keras.layers import SeparableConv2D, AveragePooling2D, MaxPooling2D, Dropout, GlobalMaxPooling2D, GlobalAveragePooling2D, Add\n",
    "\n",
    "import matplotlib.pyplot as plt\n",
    "%matplotlib inline\n",
    "\n",
    "plt.rcParams[\"axes.grid\"] = False\n",
    "plt.rcParams.update({'font.size': 20})"
   ]
  },
  {
   "cell_type": "code",
   "execution_count": 3,
   "metadata": {},
   "outputs": [],
   "source": [
    "train_dir = 'data/bioimaging/train/'\n",
    "test_dir = \"data/bioimaging/test/\"\n",
    "\n",
    "extracted_features_dir = \"extracted_features/\"\n",
    "model_name = \"bioimaging_test20_concate\""
   ]
  },
  {
   "cell_type": "code",
   "execution_count": 4,
   "metadata": {},
   "outputs": [
    {
     "name": "stdout",
     "output_type": "stream",
     "text": [
      "Keras Version 2.2.4\n",
      "tensorflow Version 1.9.0\n",
      "dim_ordering: tf\n"
     ]
    }
   ],
   "source": [
    "import keras\n",
    "import tensorflow as tf\n",
    "import keras.backend as K\n",
    "\n",
    "print(\"Keras Version\", keras.__version__)\n",
    "print(\"tensorflow Version\", tf.__version__)\n",
    "print(\"dim_ordering:\", K.image_dim_ordering())"
   ]
  },
  {
   "cell_type": "code",
   "execution_count": 5,
   "metadata": {},
   "outputs": [],
   "source": [
    "batch_size = 32\n",
    "img_height, img_width = 224, 224\n",
    "input_shape = (img_height, img_width, 3)\n",
    "epochs = 1000"
   ]
  },
  {
   "cell_type": "code",
   "execution_count": 6,
   "metadata": {},
   "outputs": [
    {
     "name": "stdout",
     "output_type": "stream",
     "text": [
      "data/bioimaging/train/ 0\n",
      "data/bioimaging/train/carcinoma 5696\n",
      "data/bioimaging/train/non-carcinoma 5696\n",
      "******************************\n",
      "data/bioimaging/test/ 0\n",
      "data/bioimaging/test/carcinoma 36\n",
      "data/bioimaging/test/non-carcinoma 35\n"
     ]
    }
   ],
   "source": [
    "for root,dirs,files in os.walk(train_dir):\n",
    "    print (root, len(files))\n",
    "\n",
    "print(\"*\"*30)\n",
    "for root,dirs,files in os.walk(test_dir):\n",
    "    print (root, len(files))"
   ]
  },
  {
   "cell_type": "code",
   "execution_count": 7,
   "metadata": {},
   "outputs": [
    {
     "name": "stdout",
     "output_type": "stream",
     "text": [
      "Found 8544 images belonging to 2 classes.\n",
      "Found 2848 images belonging to 2 classes.\n",
      "Found 71 images belonging to 2 classes.\n"
     ]
    }
   ],
   "source": [
    "random_seed = np.random.seed(1142)\n",
    "\n",
    "train_datagen = ImageDataGenerator(\n",
    "    rescale=1. / 255,\n",
    "    featurewise_center=True,\n",
    "    featurewise_std_normalization=True,\n",
    "    validation_split= 0.25,\n",
    "    zoom_range=0.2,\n",
    "    shear_range=0.2)\n",
    "\n",
    "train_generator = train_datagen.flow_from_directory(\n",
    "    train_dir,\n",
    "    target_size=(img_height, img_width),\n",
    "    batch_size=batch_size,\n",
    "    seed = random_seed,\n",
    "    shuffle = False,\n",
    "    subset = 'training',\n",
    "    class_mode='categorical')\n",
    "\n",
    "validation_generator = train_datagen.flow_from_directory(\n",
    "    train_dir,\n",
    "    target_size=(img_height, img_width),\n",
    "    batch_size=batch_size,\n",
    "    seed = random_seed,\n",
    "    shuffle = False,\n",
    "    subset = 'validation',\n",
    "    class_mode='categorical')\n",
    "\n",
    "test_datagen = ImageDataGenerator(rescale=1. / 255)\n",
    "test_generator = test_datagen.flow_from_directory(\n",
    "    test_dir,\n",
    "    target_size=(img_height, img_width),\n",
    "    batch_size=batch_size,\n",
    "    seed = random_seed,\n",
    "    shuffle = False,\n",
    "    class_mode='categorical')"
   ]
  },
  {
   "cell_type": "code",
   "execution_count": 8,
   "metadata": {},
   "outputs": [
    {
     "name": "stdout",
     "output_type": "stream",
     "text": [
      "nb_train_samples: 8544\n",
      "nb_validation_samples: 2848\n",
      "\n",
      "predict_size_train: 267\n",
      "predict_size_validation: 89\n",
      "nb_test_samples: 71\n",
      "predict_size_test: 3\n",
      "\n",
      " num_classes: 2\n"
     ]
    }
   ],
   "source": [
    "nb_train_samples = len(train_generator.filenames)\n",
    "nb_validation_samples = len(validation_generator.filenames)\n",
    "predict_size_train = int(math.ceil(nb_train_samples / batch_size))\n",
    "predict_size_validation = int(math.ceil(nb_validation_samples / batch_size))\n",
    "\n",
    "nb_test_samples = len(test_generator.filenames)\n",
    "predict_size_test = int(math.ceil(nb_test_samples / batch_size))\n",
    "\n",
    "# nb_test_without_aug_samples = len(test_generator_without_aug.filenames)\n",
    "# predict_size_test_without_aug = int(math.ceil(nb_test_without_aug_samples / batch_size))\n",
    "\n",
    "num_classes = len(train_generator.class_indices)\n",
    "\n",
    "print(\"nb_train_samples:\", nb_train_samples)\n",
    "print(\"nb_validation_samples:\", nb_validation_samples)\n",
    "print(\"\\npredict_size_train:\", predict_size_train)\n",
    "print(\"predict_size_validation:\", predict_size_validation)\n",
    "# print(\"nb_test_without_aug_samples:\", nb_test_without_aug_samples)\n",
    "# print(\"predict_size_test_without_aug_samples:\", predict_size_test_without_aug)\n",
    "print(\"nb_test_samples:\", nb_test_samples)\n",
    "print(\"predict_size_test:\", predict_size_test)\n",
    "\n",
    "print(\"\\n num_classes:\", num_classes)"
   ]
  },
  {
   "cell_type": "code",
   "execution_count": 9,
   "metadata": {},
   "outputs": [],
   "source": [
    "from keras.backend.tensorflow_backend import get_session\n",
    "from keras.backend.tensorflow_backend import clear_session\n",
    "from keras.backend.tensorflow_backend import set_session\n",
    "\n",
    "def reset_keras_tf_session():\n",
    "    \"\"\"\n",
    "    this function clears the gpu memory and set the \n",
    "    tf session to not use the whole gpu\n",
    "    \"\"\"\n",
    "    sess = get_session()\n",
    "    clear_session()\n",
    "    sess.close()\n",
    "    sess = get_session()\n",
    "\n",
    "#     config = tf.ConfigProto()\n",
    "#     config.gpu_options.allow_growth = True\n",
    "#     set_session(tf.Session(config=config))\n",
    "\n",
    "\n",
    "reset_keras_tf_session()"
   ]
  },
  {
   "cell_type": "code",
   "execution_count": 10,
   "metadata": {},
   "outputs": [],
   "source": [
    "train_data = np.load(extracted_features_dir+'bottleneck_features_train_'+model_name+'.npy')\n",
    "validation_data = np.load(extracted_features_dir+'bottleneck_features_validation_'+model_name+'.npy')\n",
    "test_data = np.load(extracted_features_dir+'bottleneck_features_test_'+model_name+'.npy')\n",
    "\n",
    "train_labels = train_generator.classes\n",
    "train_labels = to_categorical(train_labels, num_classes=num_classes)\n",
    "\n",
    "validation_labels = validation_generator.classes\n",
    "validation_labels = to_categorical(validation_labels, num_classes=num_classes)\n",
    "\n",
    "test_labels = test_generator.classes\n",
    "test_labels = to_categorical(test_labels, num_classes=num_classes)"
   ]
  },
  {
   "cell_type": "code",
   "execution_count": 11,
   "metadata": {},
   "outputs": [
    {
     "name": "stdout",
     "output_type": "stream",
     "text": [
      "Training Data Shape : (8544, 2592)\n",
      "Training Data label Shape : (8544, 2)\n",
      "Test Data Shape : (71, 2592)\n",
      "Test Data label Shape : (71, 2)\n"
     ]
    }
   ],
   "source": [
    "print(\"Training Data Shape : {0}\".format(train_data.shape))\n",
    "print(\"Training Data label Shape : {0}\".format(train_labels.shape))\n",
    "\n",
    "print(\"Test Data Shape : {0}\".format(test_data.shape))\n",
    "print(\"Test Data label Shape : {0}\".format(test_labels.shape))"
   ]
  },
  {
   "cell_type": "markdown",
   "metadata": {},
   "source": [
    "### KFold Cross Validation"
   ]
  },
  {
   "cell_type": "code",
   "execution_count": 28,
   "metadata": {},
   "outputs": [],
   "source": [
    "from sklearn.metrics import accuracy_score,roc_curve, confusion_matrix, roc_auc_score, auc, f1_score, classification_report\n",
    "\n",
    "from sklearn.ensemble import AdaBoostClassifier\n",
    "from sklearn.tree import DecisionTreeClassifier\n",
    "from sklearn.ensemble import BaggingClassifier\n",
    "from sklearn.ensemble import RandomForestClassifier\n",
    "from sklearn.svm import SVC\n",
    "import xgboost as xgb\n",
    "from xgboost import XGBClassifier\n",
    "from sklearn.model_selection import KFold, train_test_split\n",
    "from sklearn.model_selection import cross_val_score\n",
    "\n",
    "\n",
    "k_fold = KFold(n_splits=10, shuffle=True, random_state=5)"
   ]
  },
  {
   "cell_type": "markdown",
   "metadata": {},
   "source": [
    "### Decision Tree Classifier"
   ]
  },
  {
   "cell_type": "code",
   "execution_count": 13,
   "metadata": {},
   "outputs": [
    {
     "name": "stdout",
     "output_type": "stream",
     "text": [
      "Train accuracy 1.0\n",
      "Validation accuracy 0.925561797752809\n",
      "Test accuracy 0.7183098591549296\n",
      "DecisionTree Classifier test accuracies 0.7183\n",
      "              precision    recall  f1-score   support\n",
      "\n",
      "           0       0.74      0.69      0.71        36\n",
      "           1       0.70      0.74      0.72        35\n",
      "\n",
      "   micro avg       0.72      0.72      0.72        71\n",
      "   macro avg       0.72      0.72      0.72        71\n",
      "weighted avg       0.72      0.72      0.72        71\n",
      " samples avg       0.72      0.72      0.72        71\n",
      "\n",
      "0.7183098591549296\n"
     ]
    }
   ],
   "source": [
    "clf = DecisionTreeClassifier()\n",
    "clf.fit(train_data, train_labels)\n",
    "print(\"Train accuracy\", clf.score(train_data, train_labels))\n",
    "print(\"Validation accuracy\", clf.score(validation_data, validation_labels ))\n",
    "print(\"Test accuracy\", clf.score(test_data, test_labels))\n",
    "\n",
    "y_test_pred = clf.predict(test_data)\n",
    "clf_test = accuracy_score(test_labels, y_test_pred)\n",
    "print('DecisionTree Classifier test accuracies %.4f' % (clf_test))\n",
    "\n",
    "print(classification_report(test_labels, y_test_pred))\n",
    "\n",
    "# print(confusion_matrix(test_labels, y_test_pred))\n",
    "print(accuracy_score(test_labels, y_test_pred))"
   ]
  },
  {
   "cell_type": "code",
   "execution_count": 14,
   "metadata": {},
   "outputs": [
    {
     "name": "stdout",
     "output_type": "stream",
     "text": [
      "Scores Mean: 64.6429 and (STDEV 0.1485)\n",
      "Best result for fold 2\n",
      "Best accuracy is 0.8571428571428571\n",
      "Scores of all folds: [0.75       0.42857143 0.85714286 0.85714286 0.57142857 0.57142857\n",
      " 0.57142857 0.71428571 0.71428571 0.42857143]\n",
      "Accuracy: 0.65 (+/- 0.30)\n"
     ]
    }
   ],
   "source": [
    "clf = DecisionTreeClassifier()\n",
    "scoring = 'accuracy'\n",
    "scores = cross_val_score(clf, test_data, test_labels, cv=k_fold, n_jobs=1, scoring=scoring)\n",
    "\n",
    "print (\"Scores Mean: %.4f and (STDEV %.4f)\" % (np.mean(scores)*100, np.std(scores)))\n",
    "print (\"Best result for fold %s\" % np.argmax(scores))\n",
    "print (\"Best accuracy is\", (scores[np.argmax(scores)]))\n",
    "print (\"Scores of all folds:\", scores)\n",
    "print(\"Accuracy: %0.2f (+/- %0.2f)\" % (scores.mean(), scores.std() * 2))"
   ]
  },
  {
   "cell_type": "markdown",
   "metadata": {},
   "source": [
    "### Random Forest Classifier"
   ]
  },
  {
   "cell_type": "code",
   "execution_count": 15,
   "metadata": {},
   "outputs": [
    {
     "name": "stdout",
     "output_type": "stream",
     "text": [
      "Train accuracy 0.9977762172284644\n",
      "Validation accuracy 0.9610252808988764\n",
      "Test accuracy 0.6901408450704225\n",
      "RandomForest Classifier test accuracies 0.6901\n",
      "              precision    recall  f1-score   support\n",
      "\n",
      "           0       0.69      0.69      0.69        36\n",
      "           1       0.69      0.69      0.69        35\n",
      "\n",
      "   micro avg       0.69      0.69      0.69        71\n",
      "   macro avg       0.69      0.69      0.69        71\n",
      "weighted avg       0.69      0.69      0.69        71\n",
      " samples avg       0.69      0.69      0.69        71\n",
      "\n",
      "0.6901408450704225\n"
     ]
    }
   ],
   "source": [
    "clf = RandomForestClassifier(n_estimators=5)\n",
    "clf.fit(train_data, train_labels)\n",
    "print(\"Train accuracy\", clf.score(train_data, train_labels))\n",
    "print(\"Validation accuracy\", clf.score(validation_data, validation_labels ))\n",
    "print(\"Test accuracy\", clf.score(test_data, test_labels))\n",
    "\n",
    "y_test_pred = clf.predict(test_data)\n",
    "clf_test = accuracy_score(test_labels, y_test_pred)\n",
    "print('RandomForest Classifier test accuracies %.4f' % (clf_test))\n",
    "\n",
    "print(classification_report(test_labels, y_test_pred))\n",
    "\n",
    "# print(confusion_matrix(test_labels, y_test_pred))\n",
    "print(accuracy_score(test_labels, y_test_pred))"
   ]
  },
  {
   "cell_type": "code",
   "execution_count": 16,
   "metadata": {},
   "outputs": [
    {
     "name": "stdout",
     "output_type": "stream",
     "text": [
      "Scores Mean: 56.2500 and (STDEV 0.1363)\n",
      "Best result for fold 1\n",
      "Best accuracy is 0.7142857142857143\n",
      "Scores of all folds: [0.625      0.71428571 0.57142857 0.71428571 0.42857143 0.28571429\n",
      " 0.57142857 0.71428571 0.57142857 0.42857143]\n",
      "Accuracy: 0.56 (+/- 0.27)\n"
     ]
    }
   ],
   "source": [
    "clf = RandomForestClassifier(n_estimators=5)\n",
    "scoring = 'accuracy'\n",
    "scores = cross_val_score(clf, test_data, test_labels, cv=k_fold, n_jobs=1, scoring=scoring)\n",
    "\n",
    "print (\"Scores Mean: %.4f and (STDEV %.4f)\" % (np.mean(scores)*100, np.std(scores)))\n",
    "print (\"Best result for fold %s\" % np.argmax(scores))\n",
    "print (\"Best accuracy is\", (scores[np.argmax(scores)]))\n",
    "print (\"Scores of all folds:\", scores)\n",
    "print(\"Accuracy: %0.2f (+/- %0.2f)\" % (scores.mean(), scores.std() * 2))"
   ]
  },
  {
   "cell_type": "markdown",
   "metadata": {},
   "source": [
    "___"
   ]
  },
  {
   "cell_type": "code",
   "execution_count": 17,
   "metadata": {},
   "outputs": [],
   "source": [
    "y_test = np.asarray(test_labels)\n",
    "y_test = np.argmax(y_test, axis=1)"
   ]
  },
  {
   "cell_type": "code",
   "execution_count": 18,
   "metadata": {},
   "outputs": [],
   "source": [
    "y_validation = np.asarray(validation_labels)\n",
    "y_validation = np.argmax(y_validation, axis=1)"
   ]
  },
  {
   "cell_type": "code",
   "execution_count": 19,
   "metadata": {},
   "outputs": [],
   "source": [
    "y_train = np.asarray(train_labels)\n",
    "y_train = np.argmax(y_train, axis=1)"
   ]
  },
  {
   "cell_type": "markdown",
   "metadata": {},
   "source": [
    "### SVM"
   ]
  },
  {
   "cell_type": "code",
   "execution_count": 29,
   "metadata": {},
   "outputs": [
    {
     "name": "stdout",
     "output_type": "stream",
     "text": [
      "Train accuracy 0.877691947565543\n",
      "Validation accuracy 0.8672752808988764\n",
      "Test accuracy 0.7323943661971831\n",
      "SVM Classifier test accuracies 0.7324\n",
      "              precision    recall  f1-score   support\n",
      "\n",
      "           0       0.73      0.75      0.74        36\n",
      "           1       0.74      0.71      0.72        35\n",
      "\n",
      "   micro avg       0.73      0.73      0.73        71\n",
      "   macro avg       0.73      0.73      0.73        71\n",
      "weighted avg       0.73      0.73      0.73        71\n",
      "\n",
      "0.7323943661971831\n"
     ]
    }
   ],
   "source": [
    "clf = SVC()\n",
    "clf.fit(train_data, y_train)\n",
    "print(\"Train accuracy\", clf.score(train_data, y_train))\n",
    "print(\"Validation accuracy\", clf.score(validation_data, y_validation ))\n",
    "print(\"Test accuracy\", clf.score(test_data, y_test))\n",
    "\n",
    "y_test_pred = clf.predict(test_data)\n",
    "clf_test = accuracy_score(y_test, y_test_pred)\n",
    "print('SVM Classifier test accuracies %.4f' % (clf_test))\n",
    "\n",
    "print(classification_report(y_test, y_test_pred))\n",
    "\n",
    "# print(confusion_matrix(test_labels, y_test_pred))\n",
    "print(accuracy_score(y_test, y_test_pred))"
   ]
  },
  {
   "cell_type": "code",
   "execution_count": 30,
   "metadata": {},
   "outputs": [
    {
     "name": "stdout",
     "output_type": "stream",
     "text": [
      "Scores Mean: 39.4643 and (STDEV 0.1243)\n",
      "Best result for fold 7\n",
      "Best accuracy is 0.7142857142857143\n",
      "Scores of all folds: [0.375      0.42857143 0.42857143 0.28571429 0.28571429 0.42857143\n",
      " 0.42857143 0.71428571 0.28571429 0.28571429]\n",
      "Accuracy: 0.39 (+/- 0.25)\n"
     ]
    }
   ],
   "source": [
    "scoring = 'accuracy'\n",
    "scores = cross_val_score(clf, test_data, y_test, cv=k_fold, n_jobs=1, scoring=scoring)\n",
    "\n",
    "print (\"Scores Mean: %.4f and (STDEV %.4f)\" % (np.mean(scores)*100, np.std(scores)))\n",
    "print (\"Best result for fold %s\" % np.argmax(scores))\n",
    "print (\"Best accuracy is\", (scores[np.argmax(scores)]))\n",
    "print (\"Scores of all folds:\", scores)\n",
    "print(\"Accuracy: %0.2f (+/- %0.2f)\" % (scores.mean(), scores.std() * 2))"
   ]
  },
  {
   "cell_type": "markdown",
   "metadata": {},
   "source": [
    "### XGBoost Classifier"
   ]
  },
  {
   "cell_type": "code",
   "execution_count": 21,
   "metadata": {},
   "outputs": [
    {
     "name": "stdout",
     "output_type": "stream",
     "text": [
      "Train accuracy 0.9959035580524345\n",
      "Validation accuracy 0.9841994382022472\n",
      "Test accuracy 0.7887323943661971\n",
      "XGB Classifier test accuracies 0.7887\n",
      "              precision    recall  f1-score   support\n",
      "\n",
      "           0       0.74      0.89      0.81        36\n",
      "           1       0.86      0.69      0.76        35\n",
      "\n",
      "   micro avg       0.79      0.79      0.79        71\n",
      "   macro avg       0.80      0.79      0.79        71\n",
      "weighted avg       0.80      0.79      0.79        71\n",
      "\n",
      "0.7887323943661971\n"
     ]
    }
   ],
   "source": [
    "clf = xgb.XGBClassifier()\n",
    "clf.fit(train_data, y_train)\n",
    "print(\"Train accuracy\", clf.score(train_data, y_train))\n",
    "print(\"Validation accuracy\", clf.score(validation_data, y_validation ))\n",
    "print(\"Test accuracy\", clf.score(test_data, y_test))\n",
    "\n",
    "y_test_pred = clf.predict(test_data)\n",
    "clf_test = accuracy_score(y_test, y_test_pred)\n",
    "print('XGB Classifier test accuracies %.4f' % (clf_test))\n",
    "\n",
    "print(classification_report(y_test, y_test_pred))\n",
    "\n",
    "# print(confusion_matrix(test_labels, y_test_pred))\n",
    "print(accuracy_score(y_test, y_test_pred))"
   ]
  },
  {
   "cell_type": "code",
   "execution_count": 22,
   "metadata": {},
   "outputs": [
    {
     "name": "stdout",
     "output_type": "stream",
     "text": [
      "Scores Mean: 71.6071 and (STDEV 0.1299)\n",
      "Best result for fold 0\n",
      "Best accuracy is 0.875\n",
      "Scores of all folds: [0.875      0.71428571 0.71428571 0.71428571 0.42857143 0.85714286\n",
      " 0.85714286 0.71428571 0.71428571 0.57142857]\n",
      "Accuracy: 0.72 (+/- 0.26)\n"
     ]
    }
   ],
   "source": [
    "scoring = 'accuracy'\n",
    "scores = cross_val_score(clf, test_data, y_test, cv=k_fold, n_jobs=1, scoring=scoring)\n",
    "\n",
    "print (\"Scores Mean: %.4f and (STDEV %.4f)\" % (np.mean(scores)*100, np.std(scores)))\n",
    "print (\"Best result for fold %s\" % np.argmax(scores))\n",
    "print (\"Best accuracy is\", (scores[np.argmax(scores)]))\n",
    "print (\"Scores of all folds:\", scores)\n",
    "print(\"Accuracy: %0.2f (+/- %0.2f)\" % (scores.mean(), scores.std() * 2))"
   ]
  },
  {
   "cell_type": "markdown",
   "metadata": {},
   "source": [
    "### AdaBoost Classifier"
   ]
  },
  {
   "cell_type": "code",
   "execution_count": 23,
   "metadata": {},
   "outputs": [
    {
     "name": "stdout",
     "output_type": "stream",
     "text": [
      "Train accuracy 1.0\n",
      "Validation accuracy 0.9290730337078652\n",
      "Test accuracy 0.6338028169014085\n",
      "AdaBoost Classifier test accuracies 0.6338\n",
      "              precision    recall  f1-score   support\n",
      "\n",
      "           0       0.62      0.72      0.67        36\n",
      "           1       0.66      0.54      0.59        35\n",
      "\n",
      "   micro avg       0.63      0.63      0.63        71\n",
      "   macro avg       0.64      0.63      0.63        71\n",
      "weighted avg       0.64      0.63      0.63        71\n",
      "\n",
      "0.6338028169014085\n"
     ]
    }
   ],
   "source": [
    "clf = AdaBoostClassifier(DecisionTreeClassifier(), n_estimators = 300 )\n",
    "clf.fit(train_data, y_train)\n",
    "print(\"Train accuracy\", clf.score(train_data, y_train))\n",
    "print(\"Validation accuracy\", clf.score(validation_data, y_validation ))\n",
    "print(\"Test accuracy\", clf.score(test_data, y_test))\n",
    "\n",
    "y_test_pred = clf.predict(test_data)\n",
    "clf_test = accuracy_score(y_test, y_test_pred)\n",
    "print('AdaBoost Classifier test accuracies %.4f' % (clf_test))\n",
    "\n",
    "print(classification_report(y_test, y_test_pred))\n",
    "\n",
    "# print(confusion_matrix(test_labels, y_test_pred))\n",
    "print(accuracy_score(y_test, y_test_pred))"
   ]
  },
  {
   "cell_type": "code",
   "execution_count": 24,
   "metadata": {},
   "outputs": [
    {
     "name": "stdout",
     "output_type": "stream",
     "text": [
      "Scores Mean: 65.0000 and (STDEV 0.1643)\n",
      "Best result for fold 1\n",
      "Best accuracy is 0.8571428571428571\n",
      "Scores of all folds: [0.5        0.85714286 0.85714286 0.71428571 0.57142857 0.71428571\n",
      " 0.57142857 0.71428571 0.71428571 0.28571429]\n",
      "Accuracy: 0.65 (+/- 0.33)\n"
     ]
    }
   ],
   "source": [
    "scoring = 'accuracy'\n",
    "scores = cross_val_score(clf, test_data, y_test, cv=k_fold, n_jobs=1, scoring=scoring)\n",
    "\n",
    "print (\"Scores Mean: %.4f and (STDEV %.4f)\" % (np.mean(scores)*100, np.std(scores)))\n",
    "print (\"Best result for fold %s\" % np.argmax(scores))\n",
    "print (\"Best accuracy is\", (scores[np.argmax(scores)]))\n",
    "print (\"Scores of all folds:\", scores)\n",
    "print(\"Accuracy: %0.2f (+/- %0.2f)\" % (scores.mean(), scores.std() * 2))"
   ]
  },
  {
   "cell_type": "markdown",
   "metadata": {},
   "source": [
    "### Bagging Classifier"
   ]
  },
  {
   "cell_type": "code",
   "execution_count": 25,
   "metadata": {},
   "outputs": [
    {
     "name": "stdout",
     "output_type": "stream",
     "text": [
      "Train accuracy 1.0\n",
      "Validation accuracy 0.9887640449438202\n",
      "Test accuracy 0.8169014084507042\n",
      "AdaBoost Classifier test accuracies 0.8169\n",
      "              precision    recall  f1-score   support\n",
      "\n",
      "           0       0.77      0.92      0.84        36\n",
      "           1       0.89      0.71      0.79        35\n",
      "\n",
      "   micro avg       0.82      0.82      0.82        71\n",
      "   macro avg       0.83      0.82      0.81        71\n",
      "weighted avg       0.83      0.82      0.81        71\n",
      "\n",
      "0.8169014084507042\n"
     ]
    }
   ],
   "source": [
    "clf = BaggingClassifier(RandomForestClassifier(), n_estimators = 300 )\n",
    "clf.fit(train_data, y_train)\n",
    "print(\"Train accuracy\", clf.score(train_data, y_train))\n",
    "print(\"Validation accuracy\", clf.score(validation_data, y_validation ))\n",
    "print(\"Test accuracy\", clf.score(test_data, y_test))\n",
    "\n",
    "y_test_pred = clf.predict(test_data)\n",
    "clf_test = accuracy_score(y_test, y_test_pred)\n",
    "print('AdaBoost Classifier test accuracies %.4f' % (clf_test))\n",
    "\n",
    "print(classification_report(y_test, y_test_pred))\n",
    "\n",
    "# print(confusion_matrix(test_labels, y_test_pred))\n",
    "print(accuracy_score(y_test, y_test_pred))"
   ]
  },
  {
   "cell_type": "code",
   "execution_count": 26,
   "metadata": {},
   "outputs": [
    {
     "name": "stdout",
     "output_type": "stream",
     "text": [
      "Scores Mean: 71.9643 and (STDEV 0.1524)\n",
      "Best result for fold 2\n",
      "Best accuracy is 1.0\n",
      "Scores of all folds: [0.625      0.71428571 1.         0.71428571 0.42857143 0.71428571\n",
      " 0.85714286 0.85714286 0.71428571 0.57142857]\n",
      "Accuracy: 0.72 (+/- 0.30)\n"
     ]
    }
   ],
   "source": [
    "scoring = 'accuracy'\n",
    "scores = cross_val_score(clf, test_data, y_test, cv=k_fold, n_jobs=1, scoring=scoring)\n",
    "\n",
    "print (\"Scores Mean: %.4f and (STDEV %.4f)\" % (np.mean(scores)*100, np.std(scores)))\n",
    "print (\"Best result for fold %s\" % np.argmax(scores))\n",
    "print (\"Best accuracy is\", (scores[np.argmax(scores)]))\n",
    "print (\"Scores of all folds:\", scores)\n",
    "print(\"Accuracy: %0.2f (+/- %0.2f)\" % (scores.mean(), scores.std() * 2))"
   ]
  },
  {
   "cell_type": "code",
   "execution_count": null,
   "metadata": {},
   "outputs": [],
   "source": []
  }
 ],
 "metadata": {
  "kernelspec": {
   "display_name": "Python 3",
   "language": "python",
   "name": "python3"
  },
  "language_info": {
   "codemirror_mode": {
    "name": "ipython",
    "version": 3
   },
   "file_extension": ".py",
   "mimetype": "text/x-python",
   "name": "python",
   "nbconvert_exporter": "python",
   "pygments_lexer": "ipython3",
   "version": "3.7.3"
  }
 },
 "nbformat": 4,
 "nbformat_minor": 2
}
