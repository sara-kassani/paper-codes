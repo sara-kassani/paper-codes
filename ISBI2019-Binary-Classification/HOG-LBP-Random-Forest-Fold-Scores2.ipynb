{
 "cells": [
  {
   "cell_type": "code",
   "execution_count": 1,
   "metadata": {},
   "outputs": [],
   "source": [
    "import warnings\n",
    "warnings.filterwarnings('always')\n",
    "warnings.filterwarnings('ignore')"
   ]
  },
  {
   "cell_type": "code",
   "execution_count": 30,
   "metadata": {},
   "outputs": [],
   "source": [
    "import os\n",
    "import numpy as np\n",
    "from tqdm import tqdm, tqdm_notebook\n",
    "\n",
    "import cv2\n",
    "from skimage import io\n",
    "from skimage.color import rgb2gray\n",
    "from skimage import exposure as ep\n",
    "\n",
    "from skimage import feature as ft\n",
    "from sklearn import metrics\n",
    "\n",
    "from sklearn.tree import DecisionTreeClassifier\n",
    "from sklearn.ensemble import AdaBoostClassifier\n",
    "from sklearn.ensemble import GradientBoostingClassifier\n",
    "\n",
    "import seaborn as sns\n",
    "from sklearn.preprocessing import StandardScaler\n",
    "from sklearn.model_selection import KFold\n",
    "from sklearn.linear_model import LogisticRegression\n",
    "from sklearn.model_selection import cross_val_score\n",
    "from sklearn.metrics import confusion_matrix\n",
    "from sklearn.model_selection import train_test_split\n",
    "from sklearn.discriminant_analysis import LinearDiscriminantAnalysis\n",
    "from sklearn.neighbors import KNeighborsClassifier\n",
    "from sklearn.naive_bayes import GaussianNB\n",
    "from sklearn.tree import DecisionTreeClassifier\n",
    "from sklearn.ensemble import RandomForestClassifier\n",
    "from sklearn.svm import SVC\n",
    "from sklearn.ensemble import VotingClassifier\n",
    "from sklearn.model_selection import cross_val_score\n",
    "from sklearn.linear_model import LinearRegression\n",
    "from sklearn.linear_model import Ridge\n",
    "from sklearn.linear_model import Lasso\n",
    "from sklearn.linear_model import ElasticNet\n",
    "from sklearn.neighbors import KNeighborsRegressor\n",
    "from sklearn.tree import DecisionTreeRegressor\n",
    "from sklearn.svm import SVR\n",
    "\n",
    "\n",
    "import sklearn.svm as svm\n",
    "import sklearn.neighbors as knn\n",
    "\n",
    "import matplotlib.pyplot as plt\n",
    "%matplotlib inline"
   ]
  },
  {
   "cell_type": "code",
   "execution_count": 3,
   "metadata": {},
   "outputs": [],
   "source": [
    "train_dir = 'data/train/'\n",
    "validation_dir = 'data/validation/'\n",
    "test_dir = 'data/test/'\n",
    "\n",
    "\n",
    "output_classes = 2\n",
    "batch_size = 32 \n",
    "img_height, img_width = 256, 256\n",
    "\n",
    "# nb_train_samples = 1188\n",
    "# nb_validation_samples = 144\n",
    "# nb_test_samples = 144"
   ]
  },
  {
   "cell_type": "code",
   "execution_count": 4,
   "metadata": {},
   "outputs": [],
   "source": [
    "def get_data(folder):\n",
    "    \"\"\"\n",
    "    Load the data and labels from the given folder.\n",
    "    \"\"\"\n",
    "    X = []\n",
    "    y = []\n",
    "    for folderName in os.listdir(folder):\n",
    "        if not folderName.startswith('.'):\n",
    "            if folderName in ['normal']:\n",
    "                label = 0\n",
    "            elif folderName in ['malignant']:\n",
    "                label = 1\n",
    "#             else:\n",
    "#                 label = 3\n",
    "            for image_filename in tqdm_notebook(os.listdir(folder + folderName)):\n",
    "                img_file = cv2.imread(folder + folderName + '/' + image_filename)\n",
    "                if img_file is not None:\n",
    "#                     img_file = skimage.transform.resize(img_file, (imageSize, imageSize, 3))\n",
    "                    img_arr = np.asarray(img_file)\n",
    "                    X.append(img_arr)\n",
    "                    y.append(label)\n",
    "    X = np.asarray(X)\n",
    "    y = np.asarray(y)\n",
    "    return X,y"
   ]
  },
  {
   "cell_type": "code",
   "execution_count": 5,
   "metadata": {},
   "outputs": [
    {
     "data": {
      "application/vnd.jupyter.widget-view+json": {
       "model_id": "87016f35f6274addb529a011754b355f",
       "version_major": 2,
       "version_minor": 0
      },
      "text/plain": [
       "HBox(children=(IntProgress(value=0, max=40424), HTML(value='')))"
      ]
     },
     "metadata": {},
     "output_type": "display_data"
    },
    {
     "name": "stdout",
     "output_type": "stream",
     "text": [
      "\n"
     ]
    },
    {
     "data": {
      "application/vnd.jupyter.widget-view+json": {
       "model_id": "3126a2bd02824b8ea7706dfb23e195ce",
       "version_major": 2,
       "version_minor": 0
      },
      "text/plain": [
       "HBox(children=(IntProgress(value=0, max=18744), HTML(value='')))"
      ]
     },
     "metadata": {},
     "output_type": "display_data"
    },
    {
     "name": "stdout",
     "output_type": "stream",
     "text": [
      "\n"
     ]
    }
   ],
   "source": [
    "X_train, y_train = get_data(train_dir)"
   ]
  },
  {
   "cell_type": "code",
   "execution_count": 6,
   "metadata": {},
   "outputs": [
    {
     "data": {
      "application/vnd.jupyter.widget-view+json": {
       "model_id": "64e1919fed764fde81c6a2441bd206e2",
       "version_major": 2,
       "version_minor": 0
      },
      "text/plain": [
       "HBox(children=(IntProgress(value=0, max=12512), HTML(value='')))"
      ]
     },
     "metadata": {},
     "output_type": "display_data"
    },
    {
     "name": "stdout",
     "output_type": "stream",
     "text": [
      "\n"
     ]
    },
    {
     "data": {
      "application/vnd.jupyter.widget-view+json": {
       "model_id": "84097907090a4fbdb6aeeb08bb694c3c",
       "version_major": 2,
       "version_minor": 0
      },
      "text/plain": [
       "HBox(children=(IntProgress(value=0, max=5872), HTML(value='')))"
      ]
     },
     "metadata": {},
     "output_type": "display_data"
    },
    {
     "name": "stdout",
     "output_type": "stream",
     "text": [
      "\n"
     ]
    }
   ],
   "source": [
    "X_validation, y_validation = get_data(validation_dir)"
   ]
  },
  {
   "cell_type": "code",
   "execution_count": 7,
   "metadata": {},
   "outputs": [
    {
     "data": {
      "application/vnd.jupyter.widget-view+json": {
       "model_id": "523c81524a11424cac713108f2f482b4",
       "version_major": 2,
       "version_minor": 0
      },
      "text/plain": [
       "HBox(children=(IntProgress(value=0, max=10480), HTML(value='')))"
      ]
     },
     "metadata": {},
     "output_type": "display_data"
    },
    {
     "name": "stdout",
     "output_type": "stream",
     "text": [
      "\n"
     ]
    },
    {
     "data": {
      "application/vnd.jupyter.widget-view+json": {
       "model_id": "9002e0a3e0144770bafad7a820fb2e95",
       "version_major": 2,
       "version_minor": 0
      },
      "text/plain": [
       "HBox(children=(IntProgress(value=0, max=4992), HTML(value='')))"
      ]
     },
     "metadata": {},
     "output_type": "display_data"
    },
    {
     "name": "stdout",
     "output_type": "stream",
     "text": [
      "\n"
     ]
    }
   ],
   "source": [
    "X_test, y_test = get_data(test_dir)"
   ]
  },
  {
   "cell_type": "code",
   "execution_count": 8,
   "metadata": {},
   "outputs": [],
   "source": [
    "from skimage import feature\n",
    "import numpy as np\n",
    "\n",
    "class LocalBinaryPatterns:\n",
    "    def __init__(self, numPoints, radius):\n",
    "        # store the number of points and radius\n",
    "        self.numPoints = numPoints\n",
    "        self.radius = radius\n",
    "\n",
    "    def describe(self, image, eps=1e-7):\n",
    "        # compute the Local Binary Pattern representation\n",
    "        # of the image, and then use the LBP representation\n",
    "        # to build the histogram of patterns\n",
    "        lbp = feature.local_binary_pattern(image, self.numPoints,\n",
    "            self.radius, method=\"uniform\")\n",
    "        (hist, _) = np.histogram(lbp.ravel(),\n",
    "            bins=np.arange(0, self.numPoints + 3),\n",
    "            range=(0, self.numPoints + 2))\n",
    "\n",
    "        # normalize the histogram\n",
    "        hist = hist.astype(\"float\")\n",
    "        hist /= (hist.sum() + eps)\n",
    "\n",
    "        # return the histogram of Local Binary Patterns\n",
    "        return hist\n",
    "\n",
    "# settings for LBP\n",
    "radius = 3\n",
    "n_points = 8 * radius\n",
    "desc = LocalBinaryPatterns(24, 8)"
   ]
  },
  {
   "cell_type": "code",
   "execution_count": 9,
   "metadata": {},
   "outputs": [],
   "source": [
    "trainSetList = []\n",
    "validationSetList = []\n",
    "testSetList = []"
   ]
  },
  {
   "cell_type": "code",
   "execution_count": 10,
   "metadata": {},
   "outputs": [],
   "source": [
    "for imgs in X_train:\n",
    "    gray = cv2.cvtColor(imgs, cv2.COLOR_BGR2GRAY)\n",
    "    hist = desc.describe(gray)\n",
    "    trainSetList.append(hist.ravel())\n",
    "    pass"
   ]
  },
  {
   "cell_type": "code",
   "execution_count": 11,
   "metadata": {},
   "outputs": [],
   "source": [
    "for imgs in X_validation:\n",
    "    gray = cv2.cvtColor(imgs, cv2.COLOR_BGR2GRAY)\n",
    "    hist = desc.describe(gray)\n",
    "    validationSetList.append(hist.ravel())\n",
    "    pass"
   ]
  },
  {
   "cell_type": "code",
   "execution_count": 12,
   "metadata": {},
   "outputs": [],
   "source": [
    "for imgs in X_test:\n",
    "    gray = cv2.cvtColor(imgs, cv2.COLOR_BGR2GRAY)\n",
    "    hist = desc.describe(gray)\n",
    "    testSetList.append(hist.ravel())\n",
    "    pass\n",
    "\n",
    "trainSet = np.array(trainSetList, np.float32)\n",
    "validationSet = np.array(validationSetList, np.float32)\n",
    "testSet = np.array(testSetList, np.float32)"
   ]
  },
  {
   "cell_type": "code",
   "execution_count": 13,
   "metadata": {},
   "outputs": [],
   "source": [
    "# from keras.utils.np_utils import to_categorical\n",
    "# y_trainHot = to_categorical(y_train, num_classes = 2)\n",
    "# y_valHot = to_categorical(y_validation, num_classes = 2)\n",
    "# y_testHot = to_categorical(y_test, num_classes = 2)"
   ]
  },
  {
   "cell_type": "code",
   "execution_count": 14,
   "metadata": {},
   "outputs": [
    {
     "data": {
      "text/plain": [
       "(59168, 26)"
      ]
     },
     "execution_count": 14,
     "metadata": {},
     "output_type": "execute_result"
    }
   ],
   "source": [
    "trainSet.shape"
   ]
  },
  {
   "cell_type": "code",
   "execution_count": 15,
   "metadata": {},
   "outputs": [
    {
     "data": {
      "text/plain": [
       "(18384, 26)"
      ]
     },
     "execution_count": 15,
     "metadata": {},
     "output_type": "execute_result"
    }
   ],
   "source": [
    "validationSet.shape"
   ]
  },
  {
   "cell_type": "code",
   "execution_count": 16,
   "metadata": {},
   "outputs": [
    {
     "data": {
      "text/plain": [
       "(15472, 26)"
      ]
     },
     "execution_count": 16,
     "metadata": {},
     "output_type": "execute_result"
    }
   ],
   "source": [
    "testSet.shape"
   ]
  },
  {
   "cell_type": "code",
   "execution_count": 17,
   "metadata": {},
   "outputs": [
    {
     "data": {
      "text/plain": [
       "(59168,)"
      ]
     },
     "execution_count": 17,
     "metadata": {},
     "output_type": "execute_result"
    }
   ],
   "source": [
    "y_train.shape"
   ]
  },
  {
   "cell_type": "code",
   "execution_count": 18,
   "metadata": {},
   "outputs": [],
   "source": [
    "# y_trainHot.shape"
   ]
  },
  {
   "cell_type": "code",
   "execution_count": 19,
   "metadata": {},
   "outputs": [
    {
     "data": {
      "text/plain": [
       "(15472,)"
      ]
     },
     "execution_count": 19,
     "metadata": {},
     "output_type": "execute_result"
    }
   ],
   "source": [
    "y_test.shape"
   ]
  },
  {
   "cell_type": "code",
   "execution_count": 20,
   "metadata": {},
   "outputs": [
    {
     "data": {
      "text/plain": [
       "array([1, 1, 1, ..., 0, 0, 0])"
      ]
     },
     "execution_count": 20,
     "metadata": {},
     "output_type": "execute_result"
    }
   ],
   "source": [
    "y_test"
   ]
  },
  {
   "cell_type": "code",
   "execution_count": 32,
   "metadata": {},
   "outputs": [
    {
     "name": "stdout",
     "output_type": "stream",
     "text": [
      "                      CV Mean       Std\n",
      "Linear Svm           0.755024  0.189672\n",
      "Radial Svm           0.676018  0.447488\n",
      "Logistic Regression  0.742869  0.234000\n",
      "KNN                  0.861029  0.106609\n",
      "Decision Tree        0.889343  0.050448\n",
      "Naive Bayes          0.711484  0.045830\n",
      "Random Forest        0.944152  0.061087\n",
      "Gradient Boosting    0.903753  0.088194\n",
      "Adaboost             0.823665  0.171799\n",
      "XGBoost              0.928316  0.063509\n"
     ]
    }
   ],
   "source": [
    "import xgboost as xgb\n",
    "import pandas as pd\n",
    "from sklearn.model_selection import KFold #for K-fold cross validation\n",
    "from sklearn.model_selection import cross_val_score #score evaluation\n",
    "from sklearn.model_selection import cross_val_predict #prediction\n",
    "kfold = KFold(n_splits=10, random_state=22) # k=10, split the data into 10 equal parts\n",
    "xyz=[]\n",
    "accuracy=[]\n",
    "std=[]\n",
    "classifiers=['Linear Svm','Radial Svm','Logistic Regression','KNN','Decision Tree','Naive Bayes','Random Forest', 'Gradient Boosting', 'Adaboost', 'XGBoost']\n",
    "models=[svm.SVC(kernel='linear'),\n",
    "        svm.SVC(kernel='rbf'),\n",
    "        LogisticRegression(),\n",
    "        KNeighborsClassifier(n_neighbors=9),\n",
    "        DecisionTreeClassifier(),\n",
    "        GaussianNB(),\n",
    "        RandomForestClassifier(n_estimators=100),\n",
    "        GradientBoostingClassifier(n_estimators=500,random_state=0,learning_rate=0.1),\n",
    "        AdaBoostClassifier(n_estimators=200,random_state=0,learning_rate=0.1),\n",
    "        xgb.XGBClassifier(n_estimators=900,learning_rate=0.1)]\n",
    "for i in models:\n",
    "    model = i\n",
    "    cv_result = cross_val_score(model, testSet,y_test, cv = kfold ,scoring = \"accuracy\")\n",
    "    cv_result=cv_result\n",
    "    xyz.append(cv_result.mean())\n",
    "    std.append(cv_result.std())\n",
    "\n",
    "new_models_dataframe2=pd.DataFrame({'CV Mean':xyz,'Std':std},index=classifiers)       \n",
    "print(new_models_dataframe2)"
   ]
  },
  {
   "cell_type": "code",
   "execution_count": 72,
   "metadata": {},
   "outputs": [
    {
     "name": "stdout",
     "output_type": "stream",
     "text": [
      "    CV Mean       Std\n",
      "0  0.943699  0.061443\n",
      "folds accuracies: [0.9870801  0.9870801  0.99030381 0.98901099 0.98319328 0.95151907\n",
      " 0.98642534 0.81577246 0.87782805 0.86877828]\n"
     ]
    }
   ],
   "source": [
    "import xgboost as xgb\n",
    "import pandas as pd\n",
    "from sklearn.model_selection import KFold #for K-fold cross validation\n",
    "from sklearn.model_selection import cross_val_score #score evaluation\n",
    "from sklearn.model_selection import cross_val_predict #prediction\n",
    "kfold = KFold(n_splits=10, random_state=22) # k=10, split the data into 10 equal parts\n",
    "xyz=[]\n",
    "accuracy=[]\n",
    "std=[]\n",
    "\n",
    "model = RandomForestClassifier(n_estimators=100)\n",
    "\n",
    "cv_result = cross_val_score(model, testSet,y_test, cv = kfold ,scoring = \"accuracy\")\n",
    "cv_result=cv_result\n",
    "xyz.append(cv_result.mean())\n",
    "std.append(cv_result.std())\n",
    "accuracy.append(cv_result)\n",
    "new_models_dataframe2=pd.DataFrame({'CV Mean':xyz,'Std':std})       \n",
    "print(new_models_dataframe2)\n",
    "print(\"folds accuracies:\" ,cv_result )"
   ]
  },
  {
   "cell_type": "code",
   "execution_count": 75,
   "metadata": {},
   "outputs": [
    {
     "data": {
      "text/html": [
       "<div>\n",
       "<style scoped>\n",
       "    .dataframe tbody tr th:only-of-type {\n",
       "        vertical-align: middle;\n",
       "    }\n",
       "\n",
       "    .dataframe tbody tr th {\n",
       "        vertical-align: top;\n",
       "    }\n",
       "\n",
       "    .dataframe thead th {\n",
       "        text-align: right;\n",
       "    }\n",
       "</style>\n",
       "<table border=\"1\" class=\"dataframe\">\n",
       "  <thead>\n",
       "    <tr style=\"text-align: right;\">\n",
       "      <th></th>\n",
       "      <th>f1</th>\n",
       "      <th>f2</th>\n",
       "      <th>f3</th>\n",
       "      <th>f4</th>\n",
       "      <th>f5</th>\n",
       "      <th>f6</th>\n",
       "      <th>f7</th>\n",
       "      <th>f8</th>\n",
       "      <th>f9</th>\n",
       "      <th>f10</th>\n",
       "    </tr>\n",
       "  </thead>\n",
       "  <tbody>\n",
       "    <tr>\n",
       "      <th>0</th>\n",
       "      <td>0.98708</td>\n",
       "      <td>0.98708</td>\n",
       "      <td>0.990304</td>\n",
       "      <td>0.989011</td>\n",
       "      <td>0.983193</td>\n",
       "      <td>0.951519</td>\n",
       "      <td>0.986425</td>\n",
       "      <td>0.815772</td>\n",
       "      <td>0.877828</td>\n",
       "      <td>0.868778</td>\n",
       "    </tr>\n",
       "  </tbody>\n",
       "</table>\n",
       "</div>"
      ],
      "text/plain": [
       "        f1       f2        f3        f4        f5        f6        f7  \\\n",
       "0  0.98708  0.98708  0.990304  0.989011  0.983193  0.951519  0.986425   \n",
       "\n",
       "         f8        f9       f10  \n",
       "0  0.815772  0.877828  0.868778  "
      ]
     },
     "execution_count": 75,
     "metadata": {},
     "output_type": "execute_result"
    }
   ],
   "source": [
    "df_rf = pd.DataFrame(accuracy, columns=[\"f1\", \"f2\", \"f3\", \"f4\", \"f5\", \"f6\", \"f7\", \"f8\", \"f9\", \"f10\"] )\n",
    "df_rf"
   ]
  },
  {
   "cell_type": "code",
   "execution_count": 77,
   "metadata": {},
   "outputs": [
    {
     "name": "stdout",
     "output_type": "stream",
     "text": [
      "    CV Mean       Std\n",
      "0  0.928316  0.063509\n",
      "folds accuracies: [0.97222222 0.97739018 0.97672915 0.98125404 0.97155785 0.92889463\n",
      " 0.96767938 0.80155139 0.85261797 0.85326438]\n"
     ]
    }
   ],
   "source": [
    "xyz=[]\n",
    "accuracy=[]\n",
    "std=[]\n",
    "\n",
    "model = xgb.XGBClassifier(n_estimators=900,learning_rate=0.1)\n",
    "\n",
    "cv_result = cross_val_score(model, testSet,y_test, cv = kfold ,scoring = \"accuracy\")\n",
    "cv_result=cv_result\n",
    "xyz.append(cv_result.mean())\n",
    "std.append(cv_result.std())\n",
    "accuracy.append(cv_result)\n",
    "new_models_dataframe2=pd.DataFrame({'CV Mean':xyz,'Std':std})       \n",
    "print(new_models_dataframe2)\n",
    "print(\"folds accuracies:\" ,cv_result )"
   ]
  },
  {
   "cell_type": "code",
   "execution_count": 70,
   "metadata": {},
   "outputs": [
    {
     "name": "stdout",
     "output_type": "stream",
     "text": [
      "    CV Mean       Std\n",
      "0  0.823665  0.171799\n",
      "folds accuracies: [0.94379845 0.95801034 0.95281189 0.94828701 0.95087266 0.92049127\n",
      " 0.86942469 0.53975436 0.56884292 0.58435682]\n"
     ]
    }
   ],
   "source": [
    "xyz=[]\n",
    "accuracy=[]\n",
    "std=[]\n",
    "\n",
    "model = AdaBoostClassifier(n_estimators=200,random_state=0,learning_rate=0.1)\n",
    "\n",
    "cv_result = cross_val_score(model, testSet,y_test, cv = kfold ,scoring = \"accuracy\")\n",
    "cv_result=cv_result\n",
    "xyz.append(cv_result.mean())\n",
    "std.append(cv_result.std())\n",
    "accuracy.append(cv_result)\n",
    "new_models_dataframe2=pd.DataFrame({'CV Mean':xyz,'Std':std})       \n",
    "print(new_models_dataframe2)\n",
    "print(\"folds accuracies:\" ,cv_result)"
   ]
  },
  {
   "cell_type": "code",
   "execution_count": 37,
   "metadata": {},
   "outputs": [
    {
     "name": "stdout",
     "output_type": "stream",
     "text": [
      "    CV Mean       Std\n",
      "0  0.903753  0.088194\n",
      "folds accuracies: [0.9625323  0.97222222 0.97155785 0.97737557 0.96574014 0.9217841\n",
      " 0.95022624 0.74337427 0.78409825 0.78862314]\n"
     ]
    }
   ],
   "source": [
    "xyz=[]\n",
    "accuracy=[]\n",
    "std=[]\n",
    "\n",
    "model = GradientBoostingClassifier(n_estimators=500,random_state=0,learning_rate=0.1)\n",
    "\n",
    "cv_result = cross_val_score(model, testSet,y_test, cv = kfold ,scoring = \"accuracy\")\n",
    "cv_result=cv_result\n",
    "xyz.append(cv_result.mean())\n",
    "std.append(cv_result.std())\n",
    "accuracy.append(cv_result)\n",
    "new_models_dataframe2=pd.DataFrame({'CV Mean':xyz,'Std':std})       \n",
    "print(new_models_dataframe2)\n",
    "print(\"folds accuracies:\" ,cv_result)"
   ]
  },
  {
   "cell_type": "code",
   "execution_count": 38,
   "metadata": {},
   "outputs": [
    {
     "name": "stdout",
     "output_type": "stream",
     "text": [
      "    CV Mean      Std\n",
      "0  0.711484  0.04583\n",
      "folds accuracies: [0.64728682 0.69444444 0.68972204 0.64835165 0.73303167 0.68261151\n",
      " 0.70523594 0.77052359 0.76793794 0.77569489]\n"
     ]
    }
   ],
   "source": [
    "xyz=[]\n",
    "accuracy=[]\n",
    "std=[]\n",
    "\n",
    "model = GaussianNB()\n",
    "\n",
    "cv_result = cross_val_score(model, testSet,y_test, cv = kfold ,scoring = \"accuracy\")\n",
    "cv_result=cv_result\n",
    "xyz.append(cv_result.mean())\n",
    "std.append(cv_result.std())\n",
    "accuracy.append(cv_result)\n",
    "new_models_dataframe2=pd.DataFrame({'CV Mean':xyz,'Std':std})       \n",
    "print(new_models_dataframe2)\n",
    "print(\"folds accuracies:\" ,cv_result)"
   ]
  },
  {
   "cell_type": "code",
   "execution_count": 39,
   "metadata": {},
   "outputs": [
    {
     "name": "stdout",
     "output_type": "stream",
     "text": [
      "   CV Mean       Std\n",
      "0  0.89348  0.050467\n",
      "folds accuracies: [0.93475452 0.92958656 0.9321267  0.93665158 0.91984486 0.87201034\n",
      " 0.94053006 0.79896574 0.83581125 0.83451842]\n"
     ]
    }
   ],
   "source": [
    "xyz=[]\n",
    "accuracy=[]\n",
    "std=[]\n",
    "\n",
    "model = DecisionTreeClassifier()\n",
    "\n",
    "cv_result = cross_val_score(model, testSet,y_test, cv = kfold ,scoring = \"accuracy\")\n",
    "cv_result=cv_result\n",
    "xyz.append(cv_result.mean())\n",
    "std.append(cv_result.std())\n",
    "accuracy.append(cv_result)\n",
    "new_models_dataframe2=pd.DataFrame({'CV Mean':xyz,'Std':std})       \n",
    "print(new_models_dataframe2)\n",
    "print(\"folds accuracies:\" ,cv_result)"
   ]
  },
  {
   "cell_type": "code",
   "execution_count": 40,
   "metadata": {},
   "outputs": [
    {
     "name": "stdout",
     "output_type": "stream",
     "text": [
      "    CV Mean       Std\n",
      "0  0.861029  0.106609\n",
      "folds accuracies: [0.94509044 0.94056848 0.94376212 0.93018746 0.93471235 0.8752424\n",
      " 0.93341952 0.66386555 0.72786037 0.71557854]\n"
     ]
    }
   ],
   "source": [
    "xyz=[]\n",
    "accuracy=[]\n",
    "std=[]\n",
    "\n",
    "model = KNeighborsClassifier(n_neighbors=9)\n",
    "\n",
    "cv_result = cross_val_score(model, testSet,y_test, cv = kfold ,scoring = \"accuracy\")\n",
    "cv_result=cv_result\n",
    "xyz.append(cv_result.mean())\n",
    "std.append(cv_result.std())\n",
    "accuracy.append(cv_result)\n",
    "new_models_dataframe2=pd.DataFrame({'CV Mean':xyz,'Std':std})       \n",
    "print(new_models_dataframe2)\n",
    "print(\"folds accuracies:\" ,cv_result)"
   ]
  },
  {
   "cell_type": "code",
   "execution_count": 41,
   "metadata": {},
   "outputs": [
    {
     "name": "stdout",
     "output_type": "stream",
     "text": [
      "    CV Mean    Std\n",
      "0  0.742869  0.234\n",
      "folds accuracies: [0.8875969  0.92635659 0.9114415  0.89915966 0.92954105 0.86037492\n",
      " 0.85197156 0.37233355 0.38590821 0.40400776]\n"
     ]
    }
   ],
   "source": [
    "xyz=[]\n",
    "accuracy=[]\n",
    "std=[]\n",
    "\n",
    "model = LogisticRegression()\n",
    "\n",
    "cv_result = cross_val_score(model, testSet,y_test, cv = kfold ,scoring = \"accuracy\")\n",
    "cv_result=cv_result\n",
    "xyz.append(cv_result.mean())\n",
    "std.append(cv_result.std())\n",
    "accuracy.append(cv_result)\n",
    "new_models_dataframe2=pd.DataFrame({'CV Mean':xyz,'Std':std})       \n",
    "print(new_models_dataframe2)\n",
    "print(\"folds accuracies:\" ,cv_result)"
   ]
  },
  {
   "cell_type": "code",
   "execution_count": 42,
   "metadata": {},
   "outputs": [
    {
     "name": "stdout",
     "output_type": "stream",
     "text": [
      "    CV Mean       Std\n",
      "0  0.676018  0.447488\n",
      "folds accuracies: [0.99870801 0.99870801 0.99806076 0.99870718 0.99870718 0.99547511\n",
      " 0.77181642 0.         0.         0.        ]\n"
     ]
    }
   ],
   "source": [
    "xyz=[]\n",
    "accuracy=[]\n",
    "std=[]\n",
    "\n",
    "model =  svm.SVC(kernel='rbf')\n",
    "\n",
    "cv_result = cross_val_score(model, testSet,y_test, cv = kfold ,scoring = \"accuracy\")\n",
    "cv_result=cv_result\n",
    "xyz.append(cv_result.mean())\n",
    "std.append(cv_result.std())\n",
    "accuracy.append(cv_result)\n",
    "new_models_dataframe2=pd.DataFrame({'CV Mean':xyz,'Std':std})       \n",
    "print(new_models_dataframe2)\n",
    "print(\"folds accuracies:\" ,cv_result)"
   ]
  },
  {
   "cell_type": "code",
   "execution_count": 43,
   "metadata": {},
   "outputs": [
    {
     "name": "stdout",
     "output_type": "stream",
     "text": [
      "    CV Mean       Std\n",
      "0  0.755024  0.189672\n",
      "folds accuracies: [0.86369509 0.91085271 0.89269554 0.88106012 0.91531997 0.83968972\n",
      " 0.84421461 0.45895281 0.46994182 0.4738203 ]\n"
     ]
    }
   ],
   "source": [
    "xyz=[]\n",
    "accuracy=[]\n",
    "std=[]\n",
    "\n",
    "model =  svm.SVC(kernel='linear')\n",
    "\n",
    "cv_result = cross_val_score(model, testSet,y_test, cv = kfold ,scoring = \"accuracy\")\n",
    "cv_result=cv_result\n",
    "xyz.append(cv_result.mean())\n",
    "std.append(cv_result.std())\n",
    "accuracy.append(cv_result)\n",
    "new_models_dataframe2=pd.DataFrame({'CV Mean':xyz,'Std':std})       \n",
    "print(new_models_dataframe2)\n",
    "print(\"folds accuracies:\" ,cv_result)"
   ]
  },
  {
   "cell_type": "code",
   "execution_count": 56,
   "metadata": {},
   "outputs": [
    {
     "data": {
      "text/html": [
       "<div>\n",
       "<style scoped>\n",
       "    .dataframe tbody tr th:only-of-type {\n",
       "        vertical-align: middle;\n",
       "    }\n",
       "\n",
       "    .dataframe tbody tr th {\n",
       "        vertical-align: top;\n",
       "    }\n",
       "\n",
       "    .dataframe thead th {\n",
       "        text-align: right;\n",
       "    }\n",
       "</style>\n",
       "<table border=\"1\" class=\"dataframe\">\n",
       "  <thead>\n",
       "    <tr style=\"text-align: right;\">\n",
       "      <th></th>\n",
       "      <th>SVM-output</th>\n",
       "    </tr>\n",
       "  </thead>\n",
       "  <tbody>\n",
       "    <tr>\n",
       "      <th>0</th>\n",
       "      <td>0.863695</td>\n",
       "    </tr>\n",
       "    <tr>\n",
       "      <th>1</th>\n",
       "      <td>0.910853</td>\n",
       "    </tr>\n",
       "    <tr>\n",
       "      <th>2</th>\n",
       "      <td>0.892696</td>\n",
       "    </tr>\n",
       "    <tr>\n",
       "      <th>3</th>\n",
       "      <td>0.881060</td>\n",
       "    </tr>\n",
       "    <tr>\n",
       "      <th>4</th>\n",
       "      <td>0.915320</td>\n",
       "    </tr>\n",
       "    <tr>\n",
       "      <th>5</th>\n",
       "      <td>0.839690</td>\n",
       "    </tr>\n",
       "    <tr>\n",
       "      <th>6</th>\n",
       "      <td>0.844215</td>\n",
       "    </tr>\n",
       "    <tr>\n",
       "      <th>7</th>\n",
       "      <td>0.458953</td>\n",
       "    </tr>\n",
       "    <tr>\n",
       "      <th>8</th>\n",
       "      <td>0.469942</td>\n",
       "    </tr>\n",
       "    <tr>\n",
       "      <th>9</th>\n",
       "      <td>0.473820</td>\n",
       "    </tr>\n",
       "  </tbody>\n",
       "</table>\n",
       "</div>"
      ],
      "text/plain": [
       "   SVM-output\n",
       "0    0.863695\n",
       "1    0.910853\n",
       "2    0.892696\n",
       "3    0.881060\n",
       "4    0.915320\n",
       "5    0.839690\n",
       "6    0.844215\n",
       "7    0.458953\n",
       "8    0.469942\n",
       "9    0.473820"
      ]
     },
     "execution_count": 56,
     "metadata": {},
     "output_type": "execute_result"
    }
   ],
   "source": [
    "output"
   ]
  },
  {
   "cell_type": "code",
   "execution_count": 57,
   "metadata": {},
   "outputs": [],
   "source": [
    "output.to_csv(\"folds.csv\", index= False, header=True)"
   ]
  },
  {
   "cell_type": "code",
   "execution_count": null,
   "metadata": {},
   "outputs": [],
   "source": []
  }
 ],
 "metadata": {
  "kernelspec": {
   "display_name": "Python 3",
   "language": "python",
   "name": "python3"
  },
  "language_info": {
   "codemirror_mode": {
    "name": "ipython",
    "version": 3
   },
   "file_extension": ".py",
   "mimetype": "text/x-python",
   "name": "python",
   "nbconvert_exporter": "python",
   "pygments_lexer": "ipython3",
   "version": "3.5.2"
  }
 },
 "nbformat": 4,
 "nbformat_minor": 2
}
