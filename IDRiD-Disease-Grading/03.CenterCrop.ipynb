{
 "cells": [
  {
   "cell_type": "code",
   "execution_count": 1,
   "metadata": {},
   "outputs": [],
   "source": [
    "import warnings\n",
    "warnings.filterwarnings('always')\n",
    "warnings.filterwarnings('ignore')"
   ]
  },
  {
   "cell_type": "code",
   "execution_count": 2,
   "metadata": {},
   "outputs": [],
   "source": [
    "import numpy as np\n",
    "import cv2\n",
    "\n",
    "from scipy import ndimage, misc\n",
    "import os, glob\n",
    "import sys\n",
    "import skimage\n",
    "from skimage import feature, data, io\n",
    "\n",
    "from scipy.misc import imread, imsave\n",
    "from PIL import Image\n",
    "import random"
   ]
  },
  {
   "cell_type": "code",
   "execution_count": 4,
   "metadata": {},
   "outputs": [],
   "source": [
    "def get_file_name_dir(rootDir, ext):\n",
    " \n",
    "    # Return file names with certain extension\n",
    "\n",
    "    return glob.glob1(rootDir, \"*.\" + ext)\n",
    "\n",
    "def center_crop(img, h=712, w=912):\n",
    "    \"\"\"center crop a single image with cropsize x, y\"\"\"\n",
    "    oh, ow, _ = img.shape\n",
    "    dw = ow - w\n",
    "    dh = oh - h\n",
    "    startx = np.round(dw / 2).astype(int)\n",
    "    starty = np.round(dh / 2).astype(int)\n",
    "    return img[starty:starty + h, startx:startx + w, :]"
   ]
  },
  {
   "cell_type": "code",
   "execution_count": 20,
   "metadata": {},
   "outputs": [
    {
     "name": "stdout",
     "output_type": "stream",
     "text": [
      "Preprocessing: IDRiD_008.jpg: 1\n",
      "Preprocessing: IDRiD_009.jpg: 2\n",
      "Preprocessing: IDRiD_010.jpg: 3\n",
      "Preprocessing: IDRiD_011.jpg: 4\n",
      "Preprocessing: IDRiD_012.jpg: 5\n",
      "Preprocessing: IDRiD_013.jpg: 6\n",
      "Preprocessing: IDRiD_014.jpg: 7\n",
      "Preprocessing: IDRiD_015.jpg: 8\n",
      "Preprocessing: IDRiD_016.jpg: 9\n",
      "Preprocessing: IDRiD_017.jpg: 10\n",
      "Preprocessing: IDRiD_018.jpg: 11\n",
      "Preprocessing: IDRiD_019.jpg: 12\n",
      "Preprocessing: IDRiD_020.jpg: 13\n",
      "Preprocessing: IDRiD_021.jpg: 14\n",
      "Preprocessing: IDRiD_022.jpg: 15\n",
      "Preprocessing: IDRiD_023.jpg: 16\n",
      "Preprocessing: IDRiD_024.jpg: 17\n",
      "Preprocessing: IDRiD_025.jpg: 18\n",
      "Preprocessing: IDRiD_026.jpg: 19\n",
      "Preprocessing: IDRiD_027.jpg: 20\n",
      "Preprocessing: IDRiD_028.jpg: 21\n",
      "Preprocessing: IDRiD_033.jpg: 22\n",
      "Preprocessing: IDRiD_034.jpg: 23\n",
      "Preprocessing: IDRiD_035.jpg: 24\n",
      "Preprocessing: IDRiD_036.jpg: 25\n",
      "Preprocessing: IDRiD_048.jpg: 26\n",
      "Preprocessing: IDRiD_049.jpg: 27\n",
      "Preprocessing: IDRiD_051.jpg: 28\n",
      "Preprocessing: IDRiD_053.jpg: 29\n",
      "Preprocessing: IDRiD_057.jpg: 30\n",
      "Preprocessing: IDRiD_059.jpg: 31\n",
      "Preprocessing: IDRiD_061.jpg: 32\n",
      "Preprocessing: IDRiD_062.jpg: 33\n",
      "Preprocessing: IDRiD_065.jpg: 34\n",
      "Preprocessing: IDRiD_066.jpg: 35\n",
      "Preprocessing: IDRiD_067.jpg: 36\n",
      "Preprocessing: IDRiD_072.jpg: 37\n",
      "Preprocessing: IDRiD_079.jpg: 38\n",
      "Preprocessing: IDRiD_081.jpg: 39\n",
      "Preprocessing: IDRiD_082.jpg: 40\n",
      "Preprocessing: IDRiD_083.jpg: 41\n",
      "Preprocessing: IDRiD_084.jpg: 42\n",
      "Preprocessing: IDRiD_086.jpg: 43\n",
      "Preprocessing: IDRiD_087.jpg: 44\n",
      "Preprocessing: IDRiD_088.jpg: 45\n",
      "Preprocessing: IDRiD_089.jpg: 46\n",
      "Preprocessing: IDRiD_091.jpg: 47\n",
      "Preprocessing: IDRiD_102.jpg: 48\n"
     ]
    }
   ],
   "source": [
    "input_path = 'data_Edema_risk/test/grade2/'\n",
    "input_extension = 'jpg'\n",
    "inputs_files = sorted(get_file_name_dir(input_path, input_extension))\n",
    "\n",
    "cont = 1\n",
    "for file_name in inputs_files:\n",
    "    print('Preprocessing: ' + file_name + ': ' + str(cont))\n",
    "    cont += 1\n",
    "    img = input_path + file_name\n",
    "    im_in = cv2.imread(img)\n",
    "    image = center_crop(im_in)\n",
    "\n",
    "    cv2.imwrite(input_path + file_name , image)"
   ]
  },
  {
   "cell_type": "code",
   "execution_count": null,
   "metadata": {},
   "outputs": [],
   "source": []
  }
 ],
 "metadata": {
  "kernelspec": {
   "display_name": "Python 3",
   "language": "python",
   "name": "python3"
  },
  "language_info": {
   "codemirror_mode": {
    "name": "ipython",
    "version": 3
   },
   "file_extension": ".py",
   "mimetype": "text/x-python",
   "name": "python",
   "nbconvert_exporter": "python",
   "pygments_lexer": "ipython3",
   "version": "3.6.5"
  }
 },
 "nbformat": 4,
 "nbformat_minor": 2
}
