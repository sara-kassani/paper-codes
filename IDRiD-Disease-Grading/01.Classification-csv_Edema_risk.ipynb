{
 "cells": [
  {
   "cell_type": "code",
   "execution_count": 1,
   "metadata": {},
   "outputs": [],
   "source": [
    "import warnings\n",
    "warnings.filterwarnings('always')\n",
    "warnings.filterwarnings('ignore')"
   ]
  },
  {
   "cell_type": "code",
   "execution_count": 2,
   "metadata": {},
   "outputs": [],
   "source": [
    "import os\n",
    "import pandas as pd\n",
    "\n",
    "def create_dir(parent_path):\n",
    "    if not os.path.exists(os.path.join(parent_path, 'grade0')):\n",
    "        os.makedirs(os.path.join(parent_path, 'grade0'))\n",
    "\n",
    "    if not os.path.exists(os.path.join(parent_path, 'grade1')):\n",
    "        os.makedirs(os.path.join(parent_path, 'grade1'))\n",
    "\n",
    "    if not os.path.exists(os.path.join(parent_path, 'grade2')):\n",
    "        os.makedirs(os.path.join(parent_path, 'grade2'))\n",
    "    \n",
    "\n",
    "create_dir(\"./\")"
   ]
  },
  {
   "cell_type": "code",
   "execution_count": 3,
   "metadata": {},
   "outputs": [],
   "source": [
    "data_dir = 'data/test/'"
   ]
  },
  {
   "cell_type": "code",
   "execution_count": 4,
   "metadata": {},
   "outputs": [
    {
     "name": "stdout",
     "output_type": "stream",
     "text": [
      "  Image name  Retinopathy grade  Risk of macular edema \n",
      "0  IDRiD_001                  4                       0\n",
      "1  IDRiD_002                  4                       1\n",
      "2  IDRiD_003                  4                       0\n",
      "3  IDRiD_004                  4                       0\n",
      "4  IDRiD_005                  4                       1\n"
     ]
    }
   ],
   "source": [
    "data_df = pd.read_csv('test.csv')\n",
    "print(data_df.head())"
   ]
  },
  {
   "cell_type": "code",
   "execution_count": 5,
   "metadata": {},
   "outputs": [],
   "source": [
    "data_df.rename(columns={\"Image name\":\"Image_name\",\"Retinopathy grade\":\"grade_dr\", \"Risk of macular edema \":\"risk_edema\"}, inplace = True)"
   ]
  },
  {
   "cell_type": "code",
   "execution_count": 6,
   "metadata": {},
   "outputs": [
    {
     "name": "stdout",
     "output_type": "stream",
     "text": [
      "  Image_name  grade_dr  risk_edema\n",
      "0  IDRiD_001         4           0\n",
      "1  IDRiD_002         4           1\n",
      "2  IDRiD_003         4           0\n",
      "3  IDRiD_004         4           0\n",
      "4  IDRiD_005         4           1\n"
     ]
    }
   ],
   "source": [
    "print(data_df.head())"
   ]
  },
  {
   "cell_type": "code",
   "execution_count": null,
   "metadata": {},
   "outputs": [],
   "source": [
    "# data_df.drop([\"Unnamed: 3\", \"Unnamed: 4\", \"Unnamed: 5\", \"Unnamed: 6\", \"Unnamed: 7\", \"Unnamed: 8\", \"Unnamed: 9\", \"Unnamed: 10\",\"Unnamed: 11\"],\n",
    "#         axis=1, inplace = True)"
   ]
  },
  {
   "cell_type": "code",
   "execution_count": null,
   "metadata": {},
   "outputs": [],
   "source": [
    "# print(data_df.head())"
   ]
  },
  {
   "cell_type": "code",
   "execution_count": 7,
   "metadata": {
    "scrolled": true
   },
   "outputs": [
    {
     "name": "stdout",
     "output_type": "stream",
     "text": [
      "(45, 3)\n"
     ]
    },
    {
     "data": {
      "text/html": [
       "<div>\n",
       "<style scoped>\n",
       "    .dataframe tbody tr th:only-of-type {\n",
       "        vertical-align: middle;\n",
       "    }\n",
       "\n",
       "    .dataframe tbody tr th {\n",
       "        vertical-align: top;\n",
       "    }\n",
       "\n",
       "    .dataframe thead th {\n",
       "        text-align: right;\n",
       "    }\n",
       "</style>\n",
       "<table border=\"1\" class=\"dataframe\">\n",
       "  <thead>\n",
       "    <tr style=\"text-align: right;\">\n",
       "      <th></th>\n",
       "      <th>Image_name</th>\n",
       "      <th>grade_dr</th>\n",
       "      <th>risk_edema</th>\n",
       "    </tr>\n",
       "  </thead>\n",
       "  <tbody>\n",
       "    <tr>\n",
       "      <th>0</th>\n",
       "      <td>IDRiD_001</td>\n",
       "      <td>4</td>\n",
       "      <td>0</td>\n",
       "    </tr>\n",
       "    <tr>\n",
       "      <th>2</th>\n",
       "      <td>IDRiD_003</td>\n",
       "      <td>4</td>\n",
       "      <td>0</td>\n",
       "    </tr>\n",
       "    <tr>\n",
       "      <th>3</th>\n",
       "      <td>IDRiD_004</td>\n",
       "      <td>4</td>\n",
       "      <td>0</td>\n",
       "    </tr>\n",
       "    <tr>\n",
       "      <th>6</th>\n",
       "      <td>IDRiD_007</td>\n",
       "      <td>3</td>\n",
       "      <td>0</td>\n",
       "    </tr>\n",
       "    <tr>\n",
       "      <th>28</th>\n",
       "      <td>IDRiD_029</td>\n",
       "      <td>0</td>\n",
       "      <td>0</td>\n",
       "    </tr>\n",
       "  </tbody>\n",
       "</table>\n",
       "</div>"
      ],
      "text/plain": [
       "   Image_name  grade_dr  risk_edema\n",
       "0   IDRiD_001         4           0\n",
       "2   IDRiD_003         4           0\n",
       "3   IDRiD_004         4           0\n",
       "6   IDRiD_007         3           0\n",
       "28  IDRiD_029         0           0"
      ]
     },
     "execution_count": 7,
     "metadata": {},
     "output_type": "execute_result"
    }
   ],
   "source": [
    "mask0 = data_df['risk_edema'].isin([0])\n",
    "class0 = data_df[mask0]\n",
    "print(class0.shape)\n",
    "class0.head()"
   ]
  },
  {
   "cell_type": "code",
   "execution_count": 8,
   "metadata": {},
   "outputs": [
    {
     "name": "stdout",
     "output_type": "stream",
     "text": [
      "(10, 3)\n"
     ]
    },
    {
     "data": {
      "text/html": [
       "<div>\n",
       "<style scoped>\n",
       "    .dataframe tbody tr th:only-of-type {\n",
       "        vertical-align: middle;\n",
       "    }\n",
       "\n",
       "    .dataframe tbody tr th {\n",
       "        vertical-align: top;\n",
       "    }\n",
       "\n",
       "    .dataframe thead th {\n",
       "        text-align: right;\n",
       "    }\n",
       "</style>\n",
       "<table border=\"1\" class=\"dataframe\">\n",
       "  <thead>\n",
       "    <tr style=\"text-align: right;\">\n",
       "      <th></th>\n",
       "      <th>Image_name</th>\n",
       "      <th>grade_dr</th>\n",
       "      <th>risk_edema</th>\n",
       "    </tr>\n",
       "  </thead>\n",
       "  <tbody>\n",
       "    <tr>\n",
       "      <th>1</th>\n",
       "      <td>IDRiD_002</td>\n",
       "      <td>4</td>\n",
       "      <td>1</td>\n",
       "    </tr>\n",
       "    <tr>\n",
       "      <th>4</th>\n",
       "      <td>IDRiD_005</td>\n",
       "      <td>4</td>\n",
       "      <td>1</td>\n",
       "    </tr>\n",
       "    <tr>\n",
       "      <th>5</th>\n",
       "      <td>IDRiD_006</td>\n",
       "      <td>3</td>\n",
       "      <td>1</td>\n",
       "    </tr>\n",
       "    <tr>\n",
       "      <th>30</th>\n",
       "      <td>IDRiD_031</td>\n",
       "      <td>3</td>\n",
       "      <td>1</td>\n",
       "    </tr>\n",
       "    <tr>\n",
       "      <th>31</th>\n",
       "      <td>IDRiD_032</td>\n",
       "      <td>4</td>\n",
       "      <td>1</td>\n",
       "    </tr>\n",
       "  </tbody>\n",
       "</table>\n",
       "</div>"
      ],
      "text/plain": [
       "   Image_name  grade_dr  risk_edema\n",
       "1   IDRiD_002         4           1\n",
       "4   IDRiD_005         4           1\n",
       "5   IDRiD_006         3           1\n",
       "30  IDRiD_031         3           1\n",
       "31  IDRiD_032         4           1"
      ]
     },
     "execution_count": 8,
     "metadata": {},
     "output_type": "execute_result"
    }
   ],
   "source": [
    "mask1 = data_df['risk_edema'].isin([1])\n",
    "class1 = data_df[mask1]\n",
    "print(class1.shape)\n",
    "class1.head()"
   ]
  },
  {
   "cell_type": "code",
   "execution_count": 9,
   "metadata": {},
   "outputs": [
    {
     "name": "stdout",
     "output_type": "stream",
     "text": [
      "(48, 3)\n"
     ]
    },
    {
     "data": {
      "text/html": [
       "<div>\n",
       "<style scoped>\n",
       "    .dataframe tbody tr th:only-of-type {\n",
       "        vertical-align: middle;\n",
       "    }\n",
       "\n",
       "    .dataframe tbody tr th {\n",
       "        vertical-align: top;\n",
       "    }\n",
       "\n",
       "    .dataframe thead th {\n",
       "        text-align: right;\n",
       "    }\n",
       "</style>\n",
       "<table border=\"1\" class=\"dataframe\">\n",
       "  <thead>\n",
       "    <tr style=\"text-align: right;\">\n",
       "      <th></th>\n",
       "      <th>Image_name</th>\n",
       "      <th>grade_dr</th>\n",
       "      <th>risk_edema</th>\n",
       "    </tr>\n",
       "  </thead>\n",
       "  <tbody>\n",
       "    <tr>\n",
       "      <th>7</th>\n",
       "      <td>IDRiD_008</td>\n",
       "      <td>2</td>\n",
       "      <td>2</td>\n",
       "    </tr>\n",
       "    <tr>\n",
       "      <th>8</th>\n",
       "      <td>IDRiD_009</td>\n",
       "      <td>2</td>\n",
       "      <td>2</td>\n",
       "    </tr>\n",
       "    <tr>\n",
       "      <th>9</th>\n",
       "      <td>IDRiD_010</td>\n",
       "      <td>2</td>\n",
       "      <td>2</td>\n",
       "    </tr>\n",
       "    <tr>\n",
       "      <th>10</th>\n",
       "      <td>IDRiD_011</td>\n",
       "      <td>2</td>\n",
       "      <td>2</td>\n",
       "    </tr>\n",
       "    <tr>\n",
       "      <th>11</th>\n",
       "      <td>IDRiD_012</td>\n",
       "      <td>2</td>\n",
       "      <td>2</td>\n",
       "    </tr>\n",
       "  </tbody>\n",
       "</table>\n",
       "</div>"
      ],
      "text/plain": [
       "   Image_name  grade_dr  risk_edema\n",
       "7   IDRiD_008         2           2\n",
       "8   IDRiD_009         2           2\n",
       "9   IDRiD_010         2           2\n",
       "10  IDRiD_011         2           2\n",
       "11  IDRiD_012         2           2"
      ]
     },
     "execution_count": 9,
     "metadata": {},
     "output_type": "execute_result"
    }
   ],
   "source": [
    "mask2 = data_df['risk_edema'].isin([2])\n",
    "class2 = data_df[mask2]\n",
    "print(class2.shape)\n",
    "class2.head()"
   ]
  },
  {
   "cell_type": "markdown",
   "metadata": {},
   "source": [
    "### Move files"
   ]
  },
  {
   "cell_type": "code",
   "execution_count": 10,
   "metadata": {},
   "outputs": [
    {
     "name": "stdout",
     "output_type": "stream",
     "text": [
      "data/test/IDRiD_001.jpg\n",
      "data/test/IDRiD_003.jpg\n",
      "data/test/IDRiD_004.jpg\n",
      "data/test/IDRiD_007.jpg\n",
      "data/test/IDRiD_029.jpg\n",
      "data/test/IDRiD_030.jpg\n",
      "data/test/IDRiD_037.jpg\n",
      "data/test/IDRiD_038.jpg\n",
      "data/test/IDRiD_039.jpg\n",
      "data/test/IDRiD_041.jpg\n",
      "data/test/IDRiD_043.jpg\n",
      "data/test/IDRiD_044.jpg\n",
      "data/test/IDRiD_045.jpg\n",
      "data/test/IDRiD_047.jpg\n",
      "data/test/IDRiD_050.jpg\n",
      "data/test/IDRiD_052.jpg\n",
      "data/test/IDRiD_054.jpg\n",
      "data/test/IDRiD_055.jpg\n",
      "data/test/IDRiD_056.jpg\n",
      "data/test/IDRiD_058.jpg\n",
      "data/test/IDRiD_060.jpg\n",
      "data/test/IDRiD_063.jpg\n",
      "data/test/IDRiD_064.jpg\n",
      "data/test/IDRiD_068.jpg\n",
      "data/test/IDRiD_069.jpg\n",
      "data/test/IDRiD_070.jpg\n",
      "data/test/IDRiD_071.jpg\n",
      "data/test/IDRiD_073.jpg\n",
      "data/test/IDRiD_074.jpg\n",
      "data/test/IDRiD_075.jpg\n",
      "data/test/IDRiD_077.jpg\n",
      "data/test/IDRiD_078.jpg\n",
      "data/test/IDRiD_080.jpg\n",
      "data/test/IDRiD_085.jpg\n",
      "data/test/IDRiD_090.jpg\n",
      "data/test/IDRiD_092.jpg\n",
      "data/test/IDRiD_093.jpg\n",
      "data/test/IDRiD_094.jpg\n",
      "data/test/IDRiD_095.jpg\n",
      "data/test/IDRiD_096.jpg\n",
      "data/test/IDRiD_097.jpg\n",
      "data/test/IDRiD_098.jpg\n",
      "data/test/IDRiD_099.jpg\n",
      "data/test/IDRiD_101.jpg\n",
      "data/test/IDRiD_103.jpg\n"
     ]
    }
   ],
   "source": [
    "for index, image in enumerate(class0['Image_name']):\n",
    "    image_path = os.path.join(data_dir, image + '.jpg')\n",
    "    print(image_path)\n",
    "    image = image + '.jpg'\n",
    "    os.rename(image_path, os.path.join('grade0', image))"
   ]
  },
  {
   "cell_type": "code",
   "execution_count": 11,
   "metadata": {},
   "outputs": [
    {
     "name": "stdout",
     "output_type": "stream",
     "text": [
      "data/test/IDRiD_002.jpg\n",
      "data/test/IDRiD_005.jpg\n",
      "data/test/IDRiD_006.jpg\n",
      "data/test/IDRiD_031.jpg\n",
      "data/test/IDRiD_032.jpg\n",
      "data/test/IDRiD_040.jpg\n",
      "data/test/IDRiD_042.jpg\n",
      "data/test/IDRiD_046.jpg\n",
      "data/test/IDRiD_076.jpg\n",
      "data/test/IDRiD_100.jpg\n"
     ]
    }
   ],
   "source": [
    "for index, image in enumerate(class1['Image_name']):\n",
    "    image_path = os.path.join(data_dir, image + '.jpg')\n",
    "    print(image_path)\n",
    "    image = image + '.jpg'\n",
    "    os.rename(image_path, os.path.join('grade1', image))"
   ]
  },
  {
   "cell_type": "code",
   "execution_count": 12,
   "metadata": {},
   "outputs": [
    {
     "name": "stdout",
     "output_type": "stream",
     "text": [
      "data/test/IDRiD_008.jpg\n",
      "data/test/IDRiD_009.jpg\n",
      "data/test/IDRiD_010.jpg\n",
      "data/test/IDRiD_011.jpg\n",
      "data/test/IDRiD_012.jpg\n",
      "data/test/IDRiD_013.jpg\n",
      "data/test/IDRiD_014.jpg\n",
      "data/test/IDRiD_015.jpg\n",
      "data/test/IDRiD_016.jpg\n",
      "data/test/IDRiD_017.jpg\n",
      "data/test/IDRiD_018.jpg\n",
      "data/test/IDRiD_019.jpg\n",
      "data/test/IDRiD_020.jpg\n",
      "data/test/IDRiD_021.jpg\n",
      "data/test/IDRiD_022.jpg\n",
      "data/test/IDRiD_023.jpg\n",
      "data/test/IDRiD_024.jpg\n",
      "data/test/IDRiD_025.jpg\n",
      "data/test/IDRiD_026.jpg\n",
      "data/test/IDRiD_027.jpg\n",
      "data/test/IDRiD_028.jpg\n",
      "data/test/IDRiD_033.jpg\n",
      "data/test/IDRiD_034.jpg\n",
      "data/test/IDRiD_035.jpg\n",
      "data/test/IDRiD_036.jpg\n",
      "data/test/IDRiD_048.jpg\n",
      "data/test/IDRiD_049.jpg\n",
      "data/test/IDRiD_051.jpg\n",
      "data/test/IDRiD_053.jpg\n",
      "data/test/IDRiD_057.jpg\n",
      "data/test/IDRiD_059.jpg\n",
      "data/test/IDRiD_061.jpg\n",
      "data/test/IDRiD_062.jpg\n",
      "data/test/IDRiD_065.jpg\n",
      "data/test/IDRiD_066.jpg\n",
      "data/test/IDRiD_067.jpg\n",
      "data/test/IDRiD_072.jpg\n",
      "data/test/IDRiD_079.jpg\n",
      "data/test/IDRiD_081.jpg\n",
      "data/test/IDRiD_082.jpg\n",
      "data/test/IDRiD_083.jpg\n",
      "data/test/IDRiD_084.jpg\n",
      "data/test/IDRiD_086.jpg\n",
      "data/test/IDRiD_087.jpg\n",
      "data/test/IDRiD_088.jpg\n",
      "data/test/IDRiD_089.jpg\n",
      "data/test/IDRiD_091.jpg\n",
      "data/test/IDRiD_102.jpg\n"
     ]
    }
   ],
   "source": [
    "for index, image in enumerate(class2['Image_name']):\n",
    "    image_path = os.path.join(data_dir, image + '.jpg')\n",
    "    print(image_path)\n",
    "    image = image + '.jpg'\n",
    "    os.rename(image_path, os.path.join('grade2', image))"
   ]
  },
  {
   "cell_type": "code",
   "execution_count": null,
   "metadata": {},
   "outputs": [],
   "source": []
  },
  {
   "cell_type": "code",
   "execution_count": null,
   "metadata": {},
   "outputs": [],
   "source": []
  },
  {
   "cell_type": "code",
   "execution_count": null,
   "metadata": {},
   "outputs": [],
   "source": []
  }
 ],
 "metadata": {
  "kernelspec": {
   "display_name": "Python 3",
   "language": "python",
   "name": "python3"
  },
  "language_info": {
   "codemirror_mode": {
    "name": "ipython",
    "version": 3
   },
   "file_extension": ".py",
   "mimetype": "text/x-python",
   "name": "python",
   "nbconvert_exporter": "python",
   "pygments_lexer": "ipython3",
   "version": "3.6.5"
  }
 },
 "nbformat": 4,
 "nbformat_minor": 2
}
