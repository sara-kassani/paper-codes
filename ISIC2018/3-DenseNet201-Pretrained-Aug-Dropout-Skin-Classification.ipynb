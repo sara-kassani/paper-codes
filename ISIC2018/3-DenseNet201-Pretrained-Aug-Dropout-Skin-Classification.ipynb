{
 "cells": [
  {
   "cell_type": "code",
   "execution_count": 1,
   "metadata": {},
   "outputs": [],
   "source": [
    "import warnings\n",
    "warnings.filterwarnings('always')\n",
    "warnings.filterwarnings('ignore')"
   ]
  },
  {
   "cell_type": "code",
   "execution_count": 2,
   "metadata": {},
   "outputs": [
    {
     "name": "stdout",
     "output_type": "stream",
     "text": [
      "/device:GPU:0\n"
     ]
    }
   ],
   "source": [
    "import tensorflow as tf\n",
    "print(tf.test.gpu_device_name())\n",
    "# See https://www.tensorflow.org/tutorials/using_gpu#allowing_gpu_memory_growth\n",
    "config = tf.ConfigProto()\n",
    "config.gpu_options.allow_growth = True"
   ]
  },
  {
   "cell_type": "code",
   "execution_count": 3,
   "metadata": {},
   "outputs": [
    {
     "data": {
      "text/plain": [
       "[name: \"/device:CPU:0\"\n",
       " device_type: \"CPU\"\n",
       " memory_limit: 268435456\n",
       " locality {\n",
       " }\n",
       " incarnation: 3982784302694963836, name: \"/device:GPU:0\"\n",
       " device_type: \"GPU\"\n",
       " memory_limit: 9202108990\n",
       " locality {\n",
       "   bus_id: 1\n",
       "   links {\n",
       "   }\n",
       " }\n",
       " incarnation: 509631571212027450\n",
       " physical_device_desc: \"device: 0, name: GeForce GTX 1080 Ti, pci bus id: 0000:01:00.0, compute capability: 6.1\"]"
      ]
     },
     "execution_count": 3,
     "metadata": {},
     "output_type": "execute_result"
    }
   ],
   "source": [
    "from tensorflow.python.client import device_lib\n",
    "device_lib.list_local_devices()"
   ]
  },
  {
   "cell_type": "code",
   "execution_count": 4,
   "metadata": {
    "scrolled": true
   },
   "outputs": [
    {
     "name": "stderr",
     "output_type": "stream",
     "text": [
      "Using TensorFlow backend.\n"
     ]
    }
   ],
   "source": [
    "import os\n",
    "import pandas as pd\n",
    "\n",
    "import numpy as np\n",
    "from glob import glob\n",
    "import cv2\n",
    "import skimage\n",
    "from skimage.transform import resize\n",
    "\n",
    "from keras import backend as K\n",
    "from keras import layers\n",
    "from keras import models\n",
    "from keras import optimizers\n",
    "from keras.models import load_model\n",
    "import keras.callbacks as kcall\n",
    "from keras.optimizers import Adam\n",
    "from keras.models import Model\n",
    "from keras.models import Sequential\n",
    "from keras.layers import Flatten, Dense, Activation, Dropout, Conv2D, MaxPooling2D, BatchNormalization, ZeroPadding2D\n",
    "from keras.applications.xception import Xception, preprocess_input\n",
    "from keras.regularizers import l2\n",
    "from keras.layers.normalization import BatchNormalization\n",
    "from keras.preprocessing.image import ImageDataGenerator\n",
    "from keras.callbacks import ModelCheckpoint\n",
    "import matplotlib.pyplot as plt\n",
    "\n",
    "%matplotlib inline"
   ]
  },
  {
   "cell_type": "code",
   "execution_count": 5,
   "metadata": {},
   "outputs": [],
   "source": [
    "from keras.models import Model\n",
    "from keras.layers.core import Dense, Dropout, Activation\n",
    "from keras.layers.convolutional import Conv2D\n",
    "from keras.layers.pooling import AveragePooling2D\n",
    "from keras.layers.pooling import GlobalAveragePooling2D\n",
    "from keras.layers import Input, Concatenate\n",
    "from keras.layers.normalization import BatchNormalization\n",
    "from keras.regularizers import l2\n",
    "import keras.backend as K"
   ]
  },
  {
   "cell_type": "code",
   "execution_count": 6,
   "metadata": {},
   "outputs": [],
   "source": [
    "train_dir = 'data/train'\n",
    "validation_dir = 'data/validation'"
   ]
  },
  {
   "cell_type": "code",
   "execution_count": 7,
   "metadata": {},
   "outputs": [
    {
     "name": "stdout",
     "output_type": "stream",
     "text": [
      "data/train 0\n",
      "data/train\\AKIEC 3856\n",
      "data/train\\BCC 4773\n",
      "data/train\\BKL 3275\n",
      "data/train\\DF 4152\n",
      "data/train\\MEL 3308\n",
      "data/train\\NV 4975\n",
      "data/train\\VASC 3488\n"
     ]
    }
   ],
   "source": [
    "for root,dirs,files in os.walk(train_dir):\n",
    "    print (root, len(files))"
   ]
  },
  {
   "cell_type": "code",
   "execution_count": 8,
   "metadata": {},
   "outputs": [
    {
     "name": "stdout",
     "output_type": "stream",
     "text": [
      "data/validation 0\n",
      "data/validation\\AKIEC 1552\n",
      "data/validation\\BCC 1692\n",
      "data/validation\\BKL 1479\n",
      "data/validation\\DF 1632\n",
      "data/validation\\MEL 1664\n",
      "data/validation\\NV 1730\n",
      "data/validation\\VASC 1484\n"
     ]
    }
   ],
   "source": [
    "for root,dirs,files in os.walk(validation_dir):\n",
    "    print (root, len(files))"
   ]
  },
  {
   "cell_type": "code",
   "execution_count": 9,
   "metadata": {},
   "outputs": [
    {
     "name": "stdout",
     "output_type": "stream",
     "text": [
      "Found 27827 images belonging to 7 classes.\n",
      "Found 11233 images belonging to 7 classes.\n"
     ]
    }
   ],
   "source": [
    "from keras.preprocessing.image import ImageDataGenerator\n",
    "\n",
    "# this is the augmentation configuration we will use for training\n",
    "\n",
    "batch_size = 16\n",
    "\n",
    "train_datagen = ImageDataGenerator(\n",
    "    rescale=1. / 255,\n",
    "    featurewise_center=True,\n",
    "    featurewise_std_normalization=True)\n",
    "\n",
    "\n",
    "# target_size = (height, width)\n",
    "target_size = (224, 224)\n",
    "\n",
    "\n",
    "train_generator = train_datagen.flow_from_directory(\n",
    "        train_dir,\n",
    "        batch_size = batch_size,\n",
    "        target_size = target_size,       \n",
    "        class_mode = 'categorical',\n",
    "        shuffle = True)\n",
    "\n",
    "validation_generator = train_datagen.flow_from_directory(\n",
    "        validation_dir,\n",
    "        batch_size = batch_size,\n",
    "        target_size = target_size,        \n",
    "        class_mode = 'categorical',\n",
    "        shuffle = True)"
   ]
  },
  {
   "cell_type": "code",
   "execution_count": 10,
   "metadata": {},
   "outputs": [],
   "source": [
    "import keras.backend as K\n",
    "\n",
    "def precision(y_true, y_pred):\n",
    "    # Calculates the precision\n",
    "    true_positives = K.sum(K.round(K.clip(y_true * y_pred, 0, 1)))\n",
    "    predicted_positives = K.sum(K.round(K.clip(y_pred, 0, 1)))\n",
    "    precision = true_positives / (predicted_positives + K.epsilon())\n",
    "    return precision\n",
    "\n",
    "\n",
    "def recall(y_true, y_pred):\n",
    "    # Calculates the recall\n",
    "    true_positives = K.sum(K.round(K.clip(y_true * y_pred, 0, 1)))\n",
    "    possible_positives = K.sum(K.round(K.clip(y_true, 0, 1)))\n",
    "    recall = true_positives / (possible_positives + K.epsilon())\n",
    "    return recall\n",
    "\n",
    "def fbeta_score(y_true, y_pred, beta=1):\n",
    "    # Calculates the F score, the weighted harmonic mean of precision and recall.\n",
    "\n",
    "    if beta < 0:\n",
    "        raise ValueError('The lowest choosable beta is zero (only precision).')\n",
    "        \n",
    "    # If there are no true positives, fix the F score at 0 like sklearn.\n",
    "    if K.sum(K.round(K.clip(y_true, 0, 1))) == 0:\n",
    "        return 0\n",
    "\n",
    "    p = precision(y_true, y_pred)\n",
    "    r = recall(y_true, y_pred)\n",
    "    bb = beta ** 2\n",
    "    fbeta_score = (1 + bb) * (p * r) / (bb * p + r + K.epsilon())\n",
    "    return fbeta_score\n",
    "\n",
    "def fmeasure(y_true, y_pred):\n",
    "    # Calculates the f-measure, the harmonic mean of precision and recall.\n",
    "    return fbeta_score(y_true, y_pred, beta=1)"
   ]
  },
  {
   "cell_type": "code",
   "execution_count": 11,
   "metadata": {},
   "outputs": [],
   "source": [
    "## Intilizing variables\n",
    "output_classes = 7\n",
    "\n",
    "epochs = 50\n",
    "adam_opt = Adam(lr=1e-5, beta_1=0.9, beta_2=0.999, epsilon=1e-08, decay=1e-5)\n",
    "# densenet201_weights= 'pretrained-models/densenet201_weights_tf_dim_ordering_tf_kernels_notop.h5'"
   ]
  },
  {
   "cell_type": "code",
   "execution_count": 12,
   "metadata": {},
   "outputs": [],
   "source": [
    "from keras.applications import DenseNet201\n",
    "model = DenseNet201(weights = \"imagenet\", include_top=False, input_shape = (224, 224, 3))\n",
    "\n",
    "from keras.layers import Flatten, Dense, Dropout, BatchNormalization\n",
    "from keras.regularizers import l2\n",
    "#Adding custom Layers \n",
    "x = model.output\n",
    "x = Flatten()(x)\n",
    "x = Dense(1024, activation=\"relu\", kernel_regularizer=l2(0.0001), bias_regularizer=l2(0.0001))(x)\n",
    "x = BatchNormalization()(x)\n",
    "x = Dropout(0.5)(x)\n",
    "x = Dense(1024, activation=\"relu\", kernel_regularizer=l2(0.0001), bias_regularizer=l2(0.0001))(x)\n",
    "x = BatchNormalization()(x)\n",
    "x = Dropout(0.5)(x)\n",
    "predictions = Dense(7, activation=\"softmax\", kernel_regularizer=l2(0.0001), bias_regularizer=l2(0.0001))(x)\n",
    "\n",
    "from keras.models import Model\n",
    "# creating the final model \n",
    "model_final = Model(input = model.input, output = predictions)\n",
    "\n",
    "\n",
    "\n",
    "model_final.compile(loss='categorical_crossentropy',\n",
    "              optimizer= adam_opt,\n",
    "              metrics = [\"categorical_accuracy\", fmeasure, recall, precision])"
   ]
  },
  {
   "cell_type": "code",
   "execution_count": 13,
   "metadata": {},
   "outputs": [
    {
     "name": "stdout",
     "output_type": "stream",
     "text": [
      "Epoch 1/50\n",
      "2048/2048 [==============================] - 917s 448ms/step - loss: 1.3653 - categorical_accuracy: 0.6605 - fmeasure: 0.6566 - recall: 0.6221 - precision: 0.6998 - val_loss: 0.7917 - val_categorical_accuracy: 0.8086 - val_fmeasure: 0.8089 - val_recall: 0.7776 - val_precision: 0.8453\n",
      "Epoch 2/50\n",
      "2048/2048 [==============================] - 870s 425ms/step - loss: 0.6927 - categorical_accuracy: 0.8488 - fmeasure: 0.8485 - recall: 0.8319 - precision: 0.8671 - val_loss: 0.7086 - val_categorical_accuracy: 0.8503 - val_fmeasure: 0.8535 - val_recall: 0.8362 - val_precision: 0.8729\n",
      "Epoch 3/50\n",
      "2048/2048 [==============================] - 871s 425ms/step - loss: 0.4889 - categorical_accuracy: 0.9105 - fmeasure: 0.9105 - recall: 0.9020 - precision: 0.9197 - val_loss: 0.6034 - val_categorical_accuracy: 0.8775 - val_fmeasure: 0.8799 - val_recall: 0.8686 - val_precision: 0.8923\n",
      "Epoch 4/50\n",
      "2048/2048 [==============================] - 870s 425ms/step - loss: 0.3776 - categorical_accuracy: 0.9427 - fmeasure: 0.9429 - recall: 0.9382 - precision: 0.9479 - val_loss: 0.5824 - val_categorical_accuracy: 0.8796 - val_fmeasure: 0.8827 - val_recall: 0.8729 - val_precision: 0.8935\n",
      "Epoch 5/50\n",
      "2048/2048 [==============================] - 871s 425ms/step - loss: 0.3184 - categorical_accuracy: 0.9612 - fmeasure: 0.9614 - recall: 0.9586 - precision: 0.9645 - val_loss: 0.5539 - val_categorical_accuracy: 0.8944 - val_fmeasure: 0.8973 - val_recall: 0.8896 - val_precision: 0.9055\n",
      "Epoch 6/50\n",
      "2048/2048 [==============================] - 871s 425ms/step - loss: 0.2748 - categorical_accuracy: 0.9736 - fmeasure: 0.9738 - recall: 0.9720 - precision: 0.9757 - val_loss: 0.5572 - val_categorical_accuracy: 0.8942 - val_fmeasure: 0.8973 - val_recall: 0.8906 - val_precision: 0.9046\n",
      "Epoch 7/50\n",
      "2048/2048 [==============================] - 872s 426ms/step - loss: 0.2460 - categorical_accuracy: 0.9806 - fmeasure: 0.9808 - recall: 0.9793 - precision: 0.9824 - val_loss: 0.5647 - val_categorical_accuracy: 0.8922 - val_fmeasure: 0.8942 - val_recall: 0.8879 - val_precision: 0.9011\n",
      "Epoch 8/50\n",
      "2048/2048 [==============================] - 872s 426ms/step - loss: 0.2293 - categorical_accuracy: 0.9834 - fmeasure: 0.9833 - recall: 0.9823 - precision: 0.9845 - val_loss: 0.5752 - val_categorical_accuracy: 0.8924 - val_fmeasure: 0.8957 - val_recall: 0.8899 - val_precision: 0.9019\n",
      "Epoch 9/50\n",
      "2048/2048 [==============================] - 869s 424ms/step - loss: 0.2181 - categorical_accuracy: 0.9843 - fmeasure: 0.9845 - recall: 0.9837 - precision: 0.9853 - val_loss: 0.5173 - val_categorical_accuracy: 0.9065 - val_fmeasure: 0.9092 - val_recall: 0.9039 - val_precision: 0.9149\n",
      "Epoch 10/50\n",
      "2048/2048 [==============================] - 871s 425ms/step - loss: 0.1976 - categorical_accuracy: 0.9880 - fmeasure: 0.9880 - recall: 0.9875 - precision: 0.9885 - val_loss: 0.5252 - val_categorical_accuracy: 0.9023 - val_fmeasure: 0.9058 - val_recall: 0.8999 - val_precision: 0.9122\n",
      "Epoch 11/50\n",
      "2048/2048 [==============================] - 871s 425ms/step - loss: 0.1863 - categorical_accuracy: 0.9896 - fmeasure: 0.9896 - recall: 0.9891 - precision: 0.9901 - val_loss: 0.5553 - val_categorical_accuracy: 0.9001 - val_fmeasure: 0.9026 - val_recall: 0.8981 - val_precision: 0.9075\n",
      "Epoch 12/50\n",
      "2048/2048 [==============================] - 871s 425ms/step - loss: 0.1761 - categorical_accuracy: 0.9919 - fmeasure: 0.9917 - recall: 0.9914 - precision: 0.9921 - val_loss: 0.5445 - val_categorical_accuracy: 0.9031 - val_fmeasure: 0.9051 - val_recall: 0.9011 - val_precision: 0.9093\n",
      "Epoch 13/50\n",
      "2048/2048 [==============================] - 872s 426ms/step - loss: 0.1708 - categorical_accuracy: 0.9920 - fmeasure: 0.9921 - recall: 0.9918 - precision: 0.9924 - val_loss: 0.5018 - val_categorical_accuracy: 0.9069 - val_fmeasure: 0.9097 - val_recall: 0.9058 - val_precision: 0.9139\n",
      "Epoch 14/50\n",
      "2048/2048 [==============================] - 871s 425ms/step - loss: 0.1657 - categorical_accuracy: 0.9928 - fmeasure: 0.9929 - recall: 0.9926 - precision: 0.9933 - val_loss: 0.5035 - val_categorical_accuracy: 0.9085 - val_fmeasure: 0.9108 - val_recall: 0.9056 - val_precision: 0.9163\n",
      "Epoch 15/50\n",
      "2048/2048 [==============================] - 871s 425ms/step - loss: 0.1627 - categorical_accuracy: 0.9930 - fmeasure: 0.9930 - recall: 0.9927 - precision: 0.9933 - val_loss: 0.5245 - val_categorical_accuracy: 0.9106 - val_fmeasure: 0.9118 - val_recall: 0.9076 - val_precision: 0.9164\n",
      "Epoch 16/50\n",
      "2048/2048 [==============================] - 871s 425ms/step - loss: 0.1582 - categorical_accuracy: 0.9935 - fmeasure: 0.9935 - recall: 0.9932 - precision: 0.9938 - val_loss: 0.5526 - val_categorical_accuracy: 0.9079 - val_fmeasure: 0.9101 - val_recall: 0.9068 - val_precision: 0.9136\n",
      "Epoch 17/50\n",
      "2048/2048 [==============================] - 872s 426ms/step - loss: 0.1588 - categorical_accuracy: 0.9938 - fmeasure: 0.9938 - recall: 0.9936 - precision: 0.9941 - val_loss: 0.5255 - val_categorical_accuracy: 0.9072 - val_fmeasure: 0.9090 - val_recall: 0.9056 - val_precision: 0.9127\n",
      "Epoch 18/50\n",
      "2048/2048 [==============================] - 871s 425ms/step - loss: 0.1535 - categorical_accuracy: 0.9943 - fmeasure: 0.9944 - recall: 0.9942 - precision: 0.9947 - val_loss: 0.5574 - val_categorical_accuracy: 0.9081 - val_fmeasure: 0.9100 - val_recall: 0.9068 - val_precision: 0.9135\n",
      "Epoch 19/50\n",
      "2048/2048 [==============================] - 870s 425ms/step - loss: 0.1506 - categorical_accuracy: 0.9956 - fmeasure: 0.9957 - recall: 0.9955 - precision: 0.9959 - val_loss: 0.5777 - val_categorical_accuracy: 0.9103 - val_fmeasure: 0.9119 - val_recall: 0.9100 - val_precision: 0.9139\n",
      "Epoch 20/50\n",
      "2048/2048 [==============================] - 871s 425ms/step - loss: 0.1493 - categorical_accuracy: 0.9954 - fmeasure: 0.9954 - recall: 0.9952 - precision: 0.9956 - val_loss: 0.5150 - val_categorical_accuracy: 0.9107 - val_fmeasure: 0.9122 - val_recall: 0.9084 - val_precision: 0.9162\n",
      "Epoch 21/50\n",
      "2048/2048 [==============================] - 872s 426ms/step - loss: 0.1441 - categorical_accuracy: 0.9964 - fmeasure: 0.9964 - recall: 0.9963 - precision: 0.9965 - val_loss: 0.4586 - val_categorical_accuracy: 0.9140 - val_fmeasure: 0.9160 - val_recall: 0.9115 - val_precision: 0.9208\n",
      "Epoch 22/50\n",
      "2048/2048 [==============================] - 872s 426ms/step - loss: 0.1437 - categorical_accuracy: 0.9960 - fmeasure: 0.9961 - recall: 0.9959 - precision: 0.9963 - val_loss: 0.5415 - val_categorical_accuracy: 0.9066 - val_fmeasure: 0.9068 - val_recall: 0.9038 - val_precision: 0.9101\n",
      "Epoch 23/50\n",
      "2048/2048 [==============================] - 871s 425ms/step - loss: 0.1421 - categorical_accuracy: 0.9961 - fmeasure: 0.9962 - recall: 0.9961 - precision: 0.9963 - val_loss: 0.5323 - val_categorical_accuracy: 0.9122 - val_fmeasure: 0.9134 - val_recall: 0.9101 - val_precision: 0.9169\n",
      "Epoch 24/50\n",
      "2048/2048 [==============================] - 871s 425ms/step - loss: 0.1405 - categorical_accuracy: 0.9960 - fmeasure: 0.9959 - recall: 0.9958 - precision: 0.9961 - val_loss: 0.5020 - val_categorical_accuracy: 0.9159 - val_fmeasure: 0.9179 - val_recall: 0.9144 - val_precision: 0.9216\n",
      "Epoch 25/50\n",
      "2048/2048 [==============================] - 863s 421ms/step - loss: 0.1393 - categorical_accuracy: 0.9960 - fmeasure: 0.9961 - recall: 0.9960 - precision: 0.9962 - val_loss: 0.5043 - val_categorical_accuracy: 0.9071 - val_fmeasure: 0.9097 - val_recall: 0.9058 - val_precision: 0.9139\n",
      "Epoch 26/50\n",
      "2048/2048 [==============================] - 852s 416ms/step - loss: 0.1353 - categorical_accuracy: 0.9967 - fmeasure: 0.9967 - recall: 0.9966 - precision: 0.9968 - val_loss: 0.5089 - val_categorical_accuracy: 0.9135 - val_fmeasure: 0.9152 - val_recall: 0.9123 - val_precision: 0.9184\n",
      "Epoch 27/50\n",
      "2048/2048 [==============================] - 854s 417ms/step - loss: 0.1344 - categorical_accuracy: 0.9969 - fmeasure: 0.9969 - recall: 0.9968 - precision: 0.9970 - val_loss: 0.4973 - val_categorical_accuracy: 0.9104 - val_fmeasure: 0.9111 - val_recall: 0.9079 - val_precision: 0.9145\n",
      "Epoch 28/50\n",
      "2048/2048 [==============================] - 857s 418ms/step - loss: 0.1338 - categorical_accuracy: 0.9971 - fmeasure: 0.9970 - recall: 0.9969 - precision: 0.9971 - val_loss: 0.5056 - val_categorical_accuracy: 0.9122 - val_fmeasure: 0.9125 - val_recall: 0.9095 - val_precision: 0.9157\n"
     ]
    },
    {
     "name": "stdout",
     "output_type": "stream",
     "text": [
      "Epoch 29/50\n",
      "2048/2048 [==============================] - 858s 419ms/step - loss: 0.1353 - categorical_accuracy: 0.9967 - fmeasure: 0.9968 - recall: 0.9966 - precision: 0.9969 - val_loss: 0.4350 - val_categorical_accuracy: 0.9178 - val_fmeasure: 0.9192 - val_recall: 0.9149 - val_precision: 0.9239\n",
      "Epoch 30/50\n",
      "2048/2048 [==============================] - 857s 419ms/step - loss: 0.1312 - categorical_accuracy: 0.9973 - fmeasure: 0.9974 - recall: 0.9973 - precision: 0.9974 - val_loss: 0.4281 - val_categorical_accuracy: 0.9209 - val_fmeasure: 0.9230 - val_recall: 0.9191 - val_precision: 0.9273\n",
      "Epoch 31/50\n",
      "2048/2048 [==============================] - 856s 418ms/step - loss: 0.1288 - categorical_accuracy: 0.9973 - fmeasure: 0.9973 - recall: 0.9972 - precision: 0.9973 - val_loss: 0.4463 - val_categorical_accuracy: 0.9187 - val_fmeasure: 0.9199 - val_recall: 0.9160 - val_precision: 0.9240\n",
      "Epoch 32/50\n",
      "2048/2048 [==============================] - 863s 421ms/step - loss: 0.1297 - categorical_accuracy: 0.9965 - fmeasure: 0.9965 - recall: 0.9964 - precision: 0.9966 - val_loss: 0.4425 - val_categorical_accuracy: 0.9167 - val_fmeasure: 0.9188 - val_recall: 0.9147 - val_precision: 0.9232\n",
      "Epoch 33/50\n",
      "2048/2048 [==============================] - 859s 420ms/step - loss: 0.1278 - categorical_accuracy: 0.9967 - fmeasure: 0.9967 - recall: 0.9965 - precision: 0.9968 - val_loss: 0.4625 - val_categorical_accuracy: 0.9175 - val_fmeasure: 0.9187 - val_recall: 0.9151 - val_precision: 0.9225\n",
      "Epoch 34/50\n",
      "2048/2048 [==============================] - 857s 418ms/step - loss: 0.1278 - categorical_accuracy: 0.9973 - fmeasure: 0.9972 - recall: 0.9972 - precision: 0.9973 - val_loss: 0.4407 - val_categorical_accuracy: 0.9227 - val_fmeasure: 0.9236 - val_recall: 0.9198 - val_precision: 0.9277\n",
      "Epoch 35/50\n",
      "2048/2048 [==============================] - 862s 421ms/step - loss: 0.1221 - categorical_accuracy: 0.9980 - fmeasure: 0.9980 - recall: 0.9978 - precision: 0.9981 - val_loss: 0.4609 - val_categorical_accuracy: 0.9147 - val_fmeasure: 0.9158 - val_recall: 0.9127 - val_precision: 0.9192\n",
      "Epoch 36/50\n",
      "2048/2048 [==============================] - 859s 419ms/step - loss: 0.1231 - categorical_accuracy: 0.9975 - fmeasure: 0.9975 - recall: 0.9975 - precision: 0.9976 - val_loss: 0.4558 - val_categorical_accuracy: 0.9179 - val_fmeasure: 0.9190 - val_recall: 0.9156 - val_precision: 0.9226\n",
      "Epoch 37/50\n",
      "2048/2048 [==============================] - 857s 418ms/step - loss: 0.1215 - categorical_accuracy: 0.9975 - fmeasure: 0.9975 - recall: 0.9974 - precision: 0.9976 - val_loss: 0.4852 - val_categorical_accuracy: 0.9135 - val_fmeasure: 0.9152 - val_recall: 0.9122 - val_precision: 0.9184\n",
      "Epoch 38/50\n",
      "2048/2048 [==============================] - 857s 418ms/step - loss: 0.1184 - categorical_accuracy: 0.9982 - fmeasure: 0.9982 - recall: 0.9982 - precision: 0.9982 - val_loss: 0.4403 - val_categorical_accuracy: 0.9193 - val_fmeasure: 0.9213 - val_recall: 0.9177 - val_precision: 0.9252\n",
      "Epoch 39/50\n",
      "2048/2048 [==============================] - 863s 421ms/step - loss: 0.1178 - categorical_accuracy: 0.9979 - fmeasure: 0.9979 - recall: 0.9978 - precision: 0.9979 - val_loss: 0.5098 - val_categorical_accuracy: 0.9139 - val_fmeasure: 0.9149 - val_recall: 0.9128 - val_precision: 0.9172\n",
      "Epoch 40/50\n",
      "2048/2048 [==============================] - 859s 419ms/step - loss: 0.1166 - categorical_accuracy: 0.9979 - fmeasure: 0.9980 - recall: 0.9979 - precision: 0.9980 - val_loss: 0.4915 - val_categorical_accuracy: 0.9123 - val_fmeasure: 0.9146 - val_recall: 0.9103 - val_precision: 0.9192\n",
      "Epoch 41/50\n",
      "2048/2048 [==============================] - 861s 420ms/step - loss: 0.1167 - categorical_accuracy: 0.9979 - fmeasure: 0.9979 - recall: 0.9979 - precision: 0.9980 - val_loss: 0.4691 - val_categorical_accuracy: 0.9179 - val_fmeasure: 0.9195 - val_recall: 0.9154 - val_precision: 0.9239\n",
      "Epoch 42/50\n",
      "2048/2048 [==============================] - 857s 418ms/step - loss: 0.1169 - categorical_accuracy: 0.9975 - fmeasure: 0.9975 - recall: 0.9975 - precision: 0.9975 - val_loss: 0.4757 - val_categorical_accuracy: 0.9203 - val_fmeasure: 0.9221 - val_recall: 0.9185 - val_precision: 0.9261\n",
      "Epoch 43/50\n",
      "2048/2048 [==============================] - 854s 417ms/step - loss: 0.1132 - categorical_accuracy: 0.9983 - fmeasure: 0.9984 - recall: 0.9983 - precision: 0.9985 - val_loss: 0.5343 - val_categorical_accuracy: 0.9172 - val_fmeasure: 0.9187 - val_recall: 0.9159 - val_precision: 0.9217\n",
      "Epoch 44/50\n",
      "2048/2048 [==============================] - 861s 420ms/step - loss: 0.1123 - categorical_accuracy: 0.9984 - fmeasure: 0.9983 - recall: 0.9982 - precision: 0.9984 - val_loss: 0.5375 - val_categorical_accuracy: 0.9108 - val_fmeasure: 0.9127 - val_recall: 0.9093 - val_precision: 0.9163\n",
      "Epoch 45/50\n",
      "2048/2048 [==============================] - 861s 421ms/step - loss: 0.1118 - categorical_accuracy: 0.9982 - fmeasure: 0.9982 - recall: 0.9981 - precision: 0.9982 - val_loss: 0.5325 - val_categorical_accuracy: 0.9150 - val_fmeasure: 0.9155 - val_recall: 0.9141 - val_precision: 0.9171\n",
      "Epoch 46/50\n",
      "2048/2048 [==============================] - 862s 421ms/step - loss: 0.1102 - categorical_accuracy: 0.9984 - fmeasure: 0.9984 - recall: 0.9984 - precision: 0.9985 - val_loss: 0.4851 - val_categorical_accuracy: 0.9245 - val_fmeasure: 0.9255 - val_recall: 0.9234 - val_precision: 0.9277\n",
      "Epoch 47/50\n",
      "2048/2048 [==============================] - 861s 420ms/step - loss: 0.1083 - categorical_accuracy: 0.9987 - fmeasure: 0.9987 - recall: 0.9987 - precision: 0.9987 - val_loss: 0.5252 - val_categorical_accuracy: 0.9166 - val_fmeasure: 0.9177 - val_recall: 0.9158 - val_precision: 0.9198\n",
      "Epoch 48/50\n",
      "2048/2048 [==============================] - 860s 420ms/step - loss: 0.1076 - categorical_accuracy: 0.9986 - fmeasure: 0.9986 - recall: 0.9985 - precision: 0.9986 - val_loss: 0.5413 - val_categorical_accuracy: 0.9184 - val_fmeasure: 0.9191 - val_recall: 0.9172 - val_precision: 0.9212\n",
      "Epoch 49/50\n",
      "2048/2048 [==============================] - 862s 421ms/step - loss: 0.1059 - categorical_accuracy: 0.9988 - fmeasure: 0.9988 - recall: 0.9987 - precision: 0.9988 - val_loss: 0.4581 - val_categorical_accuracy: 0.9253 - val_fmeasure: 0.9261 - val_recall: 0.9239 - val_precision: 0.9284\n",
      "Epoch 50/50\n",
      "2048/2048 [==============================] - 845s 413ms/step - loss: 0.1062 - categorical_accuracy: 0.9985 - fmeasure: 0.9986 - recall: 0.9984 - precision: 0.9987 - val_loss: 0.5155 - val_categorical_accuracy: 0.9150 - val_fmeasure: 0.9160 - val_recall: 0.9133 - val_precision: 0.9190\n"
     ]
    }
   ],
   "source": [
    "history = model_final.fit_generator(train_generator,\n",
    "    steps_per_epoch=2048,\n",
    "    epochs = epochs,\n",
    "    validation_data = validation_generator,\n",
    "    validation_steps=1024)"
   ]
  },
  {
   "cell_type": "code",
   "execution_count": 14,
   "metadata": {},
   "outputs": [
    {
     "name": "stdout",
     "output_type": "stream",
     "text": [
      "Test Score:  0.47559410765767096\n",
      "Test Accuracy:  0.9\n",
      "fmeasure:  0.9014515614509583\n",
      "Recall:  0.8975\n",
      "Precision:  0.9056666672229767\n"
     ]
    }
   ],
   "source": [
    "score = model_final.evaluate_generator(validation_generator, steps=50)\n",
    "\n",
    "print ('Test Score: ', score[0])\n",
    "print ('Test Accuracy: ',score[1])\n",
    "print ('fmeasure: ', score[2])\n",
    "print ('Recall: ', score[3])\n",
    "print ('Precision: ', score[4])"
   ]
  },
  {
   "cell_type": "code",
   "execution_count": 15,
   "metadata": {},
   "outputs": [
    {
     "data": {
      "image/png": "[encoded data removed]",
      "text/plain": [
       "<Figure size 432x288 with 1 Axes>"
      ]
     },
     "metadata": {
      "needs_background": "light"
     },
     "output_type": "display_data"
    },
    {
     "data": {
      "image/png": "[encoded data removed]",
      "text/plain": [
       "<Figure size 432x288 with 1 Axes>"
      ]
     },
     "metadata": {
      "needs_background": "light"
     },
     "output_type": "display_data"
    }
   ],
   "source": [
    "plt.plot(history.history['categorical_accuracy'])\n",
    "plt.plot(history.history['val_categorical_accuracy'])\n",
    "plt.title('Model Accuracy')\n",
    "plt.ylabel('Accuracy')\n",
    "plt.xlabel('Epochs')\n",
    "plt.legend(['train', 'test'])\n",
    "plt.show()\n",
    "\n",
    "\n",
    "plt.plot(history.history['loss'])\n",
    "plt.plot(history.history['val_loss'])\n",
    "plt.title('Model Loss')\n",
    "plt.ylabel('Loss')\n",
    "plt.xlabel('Epochs')\n",
    "plt.legend(['train', 'test'])\n",
    "plt.show()"
   ]
  },
  {
   "cell_type": "code",
   "execution_count": 16,
   "metadata": {},
   "outputs": [
    {
     "data": {
      "text/plain": [
       "<matplotlib.legend.Legend at 0x23cee975dd8>"
      ]
     },
     "execution_count": 16,
     "metadata": {},
     "output_type": "execute_result"
    },
    {
     "data": {
      "image/png": "[encoded data removed]",
      "text/plain": [
       "<Figure size 432x288 with 1 Axes>"
      ]
     },
     "metadata": {},
     "output_type": "display_data"
    }
   ],
   "source": [
    "plt.style.use(\"ggplot\")\n",
    "plt.figure()\n",
    "N = epochs\n",
    "plt.plot(np.arange(0, N), history.history[\"loss\"], label=\"train_loss\")\n",
    "plt.plot(np.arange(0, N), history.history[\"val_loss\"], label=\"val_loss\")\n",
    "plt.plot(np.arange(0, N), history.history[\"categorical_accuracy\"], label=\"train_acc\")\n",
    "plt.plot(np.arange(0, N), history.history[\"val_categorical_accuracy\"], label=\"val_acc\")\n",
    "plt.title(\"Training Loss and Accuracy\")\n",
    "plt.xlabel(\"Epoch #\")\n",
    "plt.ylabel(\"Loss/Accuracy\")\n",
    "plt.legend(loc=\"upper left\")"
   ]
  },
  {
   "cell_type": "code",
   "execution_count": 17,
   "metadata": {},
   "outputs": [
    {
     "name": "stdout",
     "output_type": "stream",
     "text": [
      "Found 27827 images belonging to 7 classes.\n",
      "Found 11233 images belonging to 7 classes.\n"
     ]
    }
   ],
   "source": [
    "from keras.preprocessing.image import ImageDataGenerator\n",
    "\n",
    "# this is the augmentation configuration we will use for training\n",
    "\n",
    "batch_size = 16\n",
    "\n",
    "train_datagen = ImageDataGenerator(\n",
    "    rescale=1. / 255,\n",
    "    featurewise_center=True,\n",
    "    featurewise_std_normalization=True)\n",
    "\n",
    "\n",
    "# target_size = (height, width)\n",
    "target_size = (224, 224)\n",
    "\n",
    "\n",
    "train_generator = train_datagen.flow_from_directory(\n",
    "        train_dir,\n",
    "        batch_size = batch_size,\n",
    "        target_size = target_size,       \n",
    "        class_mode = 'categorical',\n",
    "        shuffle = False)\n",
    "\n",
    "validation_generator = train_datagen.flow_from_directory(\n",
    "        validation_dir,\n",
    "        batch_size = batch_size,\n",
    "        target_size = target_size,        \n",
    "        class_mode = 'categorical',\n",
    "        shuffle = False)"
   ]
  },
  {
   "cell_type": "code",
   "execution_count": 24,
   "metadata": {},
   "outputs": [
    {
     "name": "stdout",
     "output_type": "stream",
     "text": [
      "703/702 [==============================] - 56s 80ms/step\n",
      "No of errors = 1/11233\n"
     ]
    }
   ],
   "source": [
    "filename = validation_generator.filenames\n",
    "truth = validation_generator.classes\n",
    "label = validation_generator.class_indices\n",
    "indexlabel = dict((value, key) for key, value in label.items())\n",
    "\n",
    "predicts = model.predict_generator(validation_generator, steps=validation_generator.samples/validation_generator.batch_size, verbose=1)\n",
    "predict_class = np.argmax(predicts, axis=1)\n",
    "errors = np.where(predict_class != truth)[0]\n",
    "print(\"No of errors = {}/{}\".format(len(errors),validation_generator.samples))"
   ]
  },
  {
   "cell_type": "code",
   "execution_count": 25,
   "metadata": {},
   "outputs": [
    {
     "ename": "ValueError",
     "evalue": "Classification metrics can't handle a mix of multiclass and unknown targets",
     "output_type": "error",
     "traceback": [
      "\u001b[1;31m---------------------------------------------------------------------------\u001b[0m",
      "\u001b[1;31mValueError\u001b[0m                                Traceback (most recent call last)",
      "\u001b[1;32m<ipython-input-25-b540cf1aad34>\u001b[0m in \u001b[0;36m<module>\u001b[1;34m\u001b[0m\n\u001b[0;32m      1\u001b[0m \u001b[1;32mfrom\u001b[0m \u001b[0msklearn\u001b[0m\u001b[1;33m.\u001b[0m\u001b[0mmetrics\u001b[0m \u001b[1;32mimport\u001b[0m \u001b[0mconfusion_matrix\u001b[0m\u001b[1;33m\u001b[0m\u001b[0m\n\u001b[1;32m----> 2\u001b[1;33m \u001b[0mcm\u001b[0m \u001b[1;33m=\u001b[0m \u001b[0mconfusion_matrix\u001b[0m\u001b[1;33m(\u001b[0m\u001b[0mtruth\u001b[0m\u001b[1;33m,\u001b[0m\u001b[0mpredict_class\u001b[0m\u001b[1;33m)\u001b[0m\u001b[1;33m\u001b[0m\u001b[0m\n\u001b[0m\u001b[0;32m      3\u001b[0m \u001b[1;33m\u001b[0m\u001b[0m\n\u001b[0;32m      4\u001b[0m \u001b[0mlabels\u001b[0m \u001b[1;33m=\u001b[0m \u001b[1;33m[\u001b[0m\u001b[1;33m]\u001b[0m\u001b[1;33m\u001b[0m\u001b[0m\n\u001b[0;32m      5\u001b[0m \u001b[1;32mfor\u001b[0m \u001b[0mk\u001b[0m\u001b[1;33m,\u001b[0m\u001b[0mv\u001b[0m \u001b[1;32min\u001b[0m \u001b[0mindexlabel\u001b[0m\u001b[1;33m.\u001b[0m\u001b[0mitems\u001b[0m\u001b[1;33m(\u001b[0m\u001b[1;33m)\u001b[0m\u001b[1;33m:\u001b[0m\u001b[1;33m\u001b[0m\u001b[0m\n",
      "\u001b[1;32mc:\\users\\reza-lab\\appdata\\local\\programs\\python\\python35\\lib\\site-packages\\sklearn\\metrics\\classification.py\u001b[0m in \u001b[0;36mconfusion_matrix\u001b[1;34m(y_true, y_pred, labels, sample_weight)\u001b[0m\n\u001b[0;32m    251\u001b[0m \u001b[1;33m\u001b[0m\u001b[0m\n\u001b[0;32m    252\u001b[0m     \"\"\"\n\u001b[1;32m--> 253\u001b[1;33m     \u001b[0my_type\u001b[0m\u001b[1;33m,\u001b[0m \u001b[0my_true\u001b[0m\u001b[1;33m,\u001b[0m \u001b[0my_pred\u001b[0m \u001b[1;33m=\u001b[0m \u001b[0m_check_targets\u001b[0m\u001b[1;33m(\u001b[0m\u001b[0my_true\u001b[0m\u001b[1;33m,\u001b[0m \u001b[0my_pred\u001b[0m\u001b[1;33m)\u001b[0m\u001b[1;33m\u001b[0m\u001b[0m\n\u001b[0m\u001b[0;32m    254\u001b[0m     \u001b[1;32mif\u001b[0m \u001b[0my_type\u001b[0m \u001b[1;32mnot\u001b[0m \u001b[1;32min\u001b[0m \u001b[1;33m(\u001b[0m\u001b[1;34m\"binary\"\u001b[0m\u001b[1;33m,\u001b[0m \u001b[1;34m\"multiclass\"\u001b[0m\u001b[1;33m)\u001b[0m\u001b[1;33m:\u001b[0m\u001b[1;33m\u001b[0m\u001b[0m\n\u001b[0;32m    255\u001b[0m         \u001b[1;32mraise\u001b[0m \u001b[0mValueError\u001b[0m\u001b[1;33m(\u001b[0m\u001b[1;34m\"%s is not supported\"\u001b[0m \u001b[1;33m%\u001b[0m \u001b[0my_type\u001b[0m\u001b[1;33m)\u001b[0m\u001b[1;33m\u001b[0m\u001b[0m\n",
      "\u001b[1;32mc:\\users\\reza-lab\\appdata\\local\\programs\\python\\python35\\lib\\site-packages\\sklearn\\metrics\\classification.py\u001b[0m in \u001b[0;36m_check_targets\u001b[1;34m(y_true, y_pred)\u001b[0m\n\u001b[0;32m     79\u001b[0m     \u001b[1;32mif\u001b[0m \u001b[0mlen\u001b[0m\u001b[1;33m(\u001b[0m\u001b[0my_type\u001b[0m\u001b[1;33m)\u001b[0m \u001b[1;33m>\u001b[0m \u001b[1;36m1\u001b[0m\u001b[1;33m:\u001b[0m\u001b[1;33m\u001b[0m\u001b[0m\n\u001b[0;32m     80\u001b[0m         raise ValueError(\"Classification metrics can't handle a mix of {0} \"\n\u001b[1;32m---> 81\u001b[1;33m                          \"and {1} targets\".format(type_true, type_pred))\n\u001b[0m\u001b[0;32m     82\u001b[0m \u001b[1;33m\u001b[0m\u001b[0m\n\u001b[0;32m     83\u001b[0m     \u001b[1;31m# We can't have more than one value on y_type => The set is no more needed\u001b[0m\u001b[1;33m\u001b[0m\u001b[1;33m\u001b[0m\u001b[0m\n",
      "\u001b[1;31mValueError\u001b[0m: Classification metrics can't handle a mix of multiclass and unknown targets"
     ]
    }
   ],
   "source": [
    "from sklearn.metrics import confusion_matrix\n",
    "cm = confusion_matrix(truth,predict_class)\n",
    "\n",
    "labels = []\n",
    "for k,v in indexlabel.items():\n",
    "    labels.append(v)\n",
    "    \n",
    "import itertools\n",
    "def plot_confusion_matrix(cm, classes,\n",
    "                          normalize=False,\n",
    "                          title='Confusion matrix',\n",
    "                          cmap=plt.cm.Blues):\n",
    "    accuracy = np.trace(cm) / float(np.sum(cm))\n",
    "    misclass = 1 - accuracy\n",
    "    if normalize:\n",
    "        cm = cm.astype('float') / cm.sum(axis=1)[:, np.newaxis]\n",
    "        print(\"Normalized confusion matrix\")\n",
    "    else:\n",
    "        print('Confusion Matrix')\n",
    "\n",
    "    print(cm)\n",
    "\n",
    "    plt.imshow(cm, interpolation='nearest', cmap=cmap)\n",
    "    plt.title(title)\n",
    "    plt.colorbar()\n",
    "    tick_marks = np.arange(len(classes))\n",
    "    plt.xticks(tick_marks, classes, rotation=45)\n",
    "    plt.yticks(tick_marks, classes)\n",
    "\n",
    "    fmt = '.2f' if normalize else 'd'\n",
    "    thresh = cm.max() / 2.\n",
    "    for i, j in itertools.product(range(cm.shape[0]), range(cm.shape[1])):\n",
    "        plt.text(j, i, format(cm[i, j], fmt),\n",
    "                 horizontalalignment=\"center\",\n",
    "                 color=\"white\" if cm[i, j] > thresh else \"black\")\n",
    "\n",
    "    plt.tight_layout()\n",
    "    plt.ylabel('True label')\n",
    "    plt.xlabel('Predicted label\\naccuracy={:0.4f}; misclass={:0.4f}'.format(accuracy, misclass))    \n",
    "\n",
    "plt.figure(figsize=(10,10))\n",
    "\n",
    "\n",
    "plot_confusion_matrix(cm, classes=labels,\n",
    "                      title='Confusion Matrix')"
   ]
  },
  {
   "cell_type": "code",
   "execution_count": 21,
   "metadata": {},
   "outputs": [
    {
     "ename": "ValueError",
     "evalue": "bad input shape (11233, 7, 1920)",
     "output_type": "error",
     "traceback": [
      "\u001b[1;31m---------------------------------------------------------------------------\u001b[0m",
      "\u001b[1;31mValueError\u001b[0m                                Traceback (most recent call last)",
      "\u001b[1;32m<ipython-input-21-c9db9af2f902>\u001b[0m in \u001b[0;36m<module>\u001b[1;34m\u001b[0m\n\u001b[0;32m     31\u001b[0m \u001b[0mroc_auc\u001b[0m \u001b[1;33m=\u001b[0m \u001b[0mdict\u001b[0m\u001b[1;33m(\u001b[0m\u001b[1;33m)\u001b[0m\u001b[1;33m\u001b[0m\u001b[0m\n\u001b[0;32m     32\u001b[0m \u001b[1;32mfor\u001b[0m \u001b[0mi\u001b[0m \u001b[1;32min\u001b[0m \u001b[0mrange\u001b[0m\u001b[1;33m(\u001b[0m\u001b[0mn_classes\u001b[0m\u001b[1;33m)\u001b[0m\u001b[1;33m:\u001b[0m\u001b[1;33m\u001b[0m\u001b[0m\n\u001b[1;32m---> 33\u001b[1;33m     \u001b[0mfpr\u001b[0m\u001b[1;33m[\u001b[0m\u001b[0mi\u001b[0m\u001b[1;33m]\u001b[0m\u001b[1;33m,\u001b[0m \u001b[0mtpr\u001b[0m\u001b[1;33m[\u001b[0m\u001b[0mi\u001b[0m\u001b[1;33m]\u001b[0m\u001b[1;33m,\u001b[0m \u001b[0m_\u001b[0m \u001b[1;33m=\u001b[0m \u001b[0mroc_curve\u001b[0m\u001b[1;33m(\u001b[0m\u001b[0my_actual_binary\u001b[0m\u001b[1;33m[\u001b[0m\u001b[1;33m:\u001b[0m\u001b[1;33m,\u001b[0m \u001b[0mi\u001b[0m\u001b[1;33m]\u001b[0m\u001b[1;33m,\u001b[0m \u001b[0my_pred_binary\u001b[0m\u001b[1;33m[\u001b[0m\u001b[1;33m:\u001b[0m\u001b[1;33m,\u001b[0m \u001b[0mi\u001b[0m\u001b[1;33m]\u001b[0m\u001b[1;33m)\u001b[0m\u001b[1;33m\u001b[0m\u001b[0m\n\u001b[0m\u001b[0;32m     34\u001b[0m     \u001b[0mroc_auc\u001b[0m\u001b[1;33m[\u001b[0m\u001b[0mi\u001b[0m\u001b[1;33m]\u001b[0m \u001b[1;33m=\u001b[0m \u001b[0mauc\u001b[0m\u001b[1;33m(\u001b[0m\u001b[0mfpr\u001b[0m\u001b[1;33m[\u001b[0m\u001b[0mi\u001b[0m\u001b[1;33m]\u001b[0m\u001b[1;33m,\u001b[0m \u001b[0mtpr\u001b[0m\u001b[1;33m[\u001b[0m\u001b[0mi\u001b[0m\u001b[1;33m]\u001b[0m\u001b[1;33m)\u001b[0m\u001b[1;33m\u001b[0m\u001b[0m\n\u001b[0;32m     35\u001b[0m \u001b[1;33m\u001b[0m\u001b[0m\n",
      "\u001b[1;32mc:\\users\\reza-lab\\appdata\\local\\programs\\python\\python35\\lib\\site-packages\\sklearn\\metrics\\ranking.py\u001b[0m in \u001b[0;36mroc_curve\u001b[1;34m(y_true, y_score, pos_label, sample_weight, drop_intermediate)\u001b[0m\n\u001b[0;32m    611\u001b[0m     \"\"\"\n\u001b[0;32m    612\u001b[0m     fps, tps, thresholds = _binary_clf_curve(\n\u001b[1;32m--> 613\u001b[1;33m         y_true, y_score, pos_label=pos_label, sample_weight=sample_weight)\n\u001b[0m\u001b[0;32m    614\u001b[0m \u001b[1;33m\u001b[0m\u001b[0m\n\u001b[0;32m    615\u001b[0m     \u001b[1;31m# Attempt to drop thresholds corresponding to points in between and\u001b[0m\u001b[1;33m\u001b[0m\u001b[1;33m\u001b[0m\u001b[0m\n",
      "\u001b[1;32mc:\\users\\reza-lab\\appdata\\local\\programs\\python\\python35\\lib\\site-packages\\sklearn\\metrics\\ranking.py\u001b[0m in \u001b[0;36m_binary_clf_curve\u001b[1;34m(y_true, y_score, pos_label, sample_weight)\u001b[0m\n\u001b[0;32m    394\u001b[0m     \u001b[0mcheck_consistent_length\u001b[0m\u001b[1;33m(\u001b[0m\u001b[0my_true\u001b[0m\u001b[1;33m,\u001b[0m \u001b[0my_score\u001b[0m\u001b[1;33m,\u001b[0m \u001b[0msample_weight\u001b[0m\u001b[1;33m)\u001b[0m\u001b[1;33m\u001b[0m\u001b[0m\n\u001b[0;32m    395\u001b[0m     \u001b[0my_true\u001b[0m \u001b[1;33m=\u001b[0m \u001b[0mcolumn_or_1d\u001b[0m\u001b[1;33m(\u001b[0m\u001b[0my_true\u001b[0m\u001b[1;33m)\u001b[0m\u001b[1;33m\u001b[0m\u001b[0m\n\u001b[1;32m--> 396\u001b[1;33m     \u001b[0my_score\u001b[0m \u001b[1;33m=\u001b[0m \u001b[0mcolumn_or_1d\u001b[0m\u001b[1;33m(\u001b[0m\u001b[0my_score\u001b[0m\u001b[1;33m)\u001b[0m\u001b[1;33m\u001b[0m\u001b[0m\n\u001b[0m\u001b[0;32m    397\u001b[0m     \u001b[0massert_all_finite\u001b[0m\u001b[1;33m(\u001b[0m\u001b[0my_true\u001b[0m\u001b[1;33m)\u001b[0m\u001b[1;33m\u001b[0m\u001b[0m\n\u001b[0;32m    398\u001b[0m     \u001b[0massert_all_finite\u001b[0m\u001b[1;33m(\u001b[0m\u001b[0my_score\u001b[0m\u001b[1;33m)\u001b[0m\u001b[1;33m\u001b[0m\u001b[0m\n",
      "\u001b[1;32mc:\\users\\reza-lab\\appdata\\local\\programs\\python\\python35\\lib\\site-packages\\sklearn\\utils\\validation.py\u001b[0m in \u001b[0;36mcolumn_or_1d\u001b[1;34m(y, warn)\u001b[0m\n\u001b[0;32m    786\u001b[0m         \u001b[1;32mreturn\u001b[0m \u001b[0mnp\u001b[0m\u001b[1;33m.\u001b[0m\u001b[0mravel\u001b[0m\u001b[1;33m(\u001b[0m\u001b[0my\u001b[0m\u001b[1;33m)\u001b[0m\u001b[1;33m\u001b[0m\u001b[0m\n\u001b[0;32m    787\u001b[0m \u001b[1;33m\u001b[0m\u001b[0m\n\u001b[1;32m--> 788\u001b[1;33m     \u001b[1;32mraise\u001b[0m \u001b[0mValueError\u001b[0m\u001b[1;33m(\u001b[0m\u001b[1;34m\"bad input shape {0}\"\u001b[0m\u001b[1;33m.\u001b[0m\u001b[0mformat\u001b[0m\u001b[1;33m(\u001b[0m\u001b[0mshape\u001b[0m\u001b[1;33m)\u001b[0m\u001b[1;33m)\u001b[0m\u001b[1;33m\u001b[0m\u001b[0m\n\u001b[0m\u001b[0;32m    789\u001b[0m \u001b[1;33m\u001b[0m\u001b[0m\n\u001b[0;32m    790\u001b[0m \u001b[1;33m\u001b[0m\u001b[0m\n",
      "\u001b[1;31mValueError\u001b[0m: bad input shape (11233, 7, 1920)"
     ]
    }
   ],
   "source": [
    "#ROC Curve for each class\n",
    "from sklearn.metrics import roc_curve, auc\n",
    "from sklearn.preprocessing import label_binarize\n",
    "from sklearn.multiclass import OneVsRestClassifier\n",
    "import matplotlib.pyplot as plt\n",
    "%matplotlib inline  \n",
    "from scipy import interp\n",
    "from itertools import cycle\n",
    "\n",
    "\n",
    "\n",
    "\n",
    "y_pred = predicts\n",
    "y_pred_probabilities=y_pred\n",
    "\n",
    "y_pred = np.argmax(y_pred,axis = 1) \n",
    "y_actual = validation_generator.classes\n",
    "\n",
    "classnames=[]\n",
    "for classname in validation_generator.class_indices:\n",
    "    classnames.append(classname)\n",
    "\n",
    "y_actual_binary = label_binarize(y_actual, classes=[0, 1, 2, 3, 4,5,6])\n",
    "y_pred_binary = y_pred_probabilities#label_binarize(y_pred_probabilities, classes=[0, 1, 2, 3, 4])\n",
    "n_classes=7\n",
    "lw=2\n",
    "\n",
    "# Compute ROC curve and ROC area for each class\n",
    "fpr = dict()\n",
    "tpr = dict()\n",
    "roc_auc = dict()\n",
    "for i in range(n_classes):\n",
    "    fpr[i], tpr[i], _ = roc_curve(y_actual_binary[:, i], y_pred_binary[:, i])\n",
    "    roc_auc[i] = auc(fpr[i], tpr[i])\n",
    "\n",
    "# Compute micro-average ROC curve and ROC area\n",
    "fpr[\"micro\"], tpr[\"micro\"], _ = roc_curve(y_actual_binary.ravel(), y_pred_binary.ravel())\n",
    "roc_auc[\"micro\"] = auc(fpr[\"micro\"], tpr[\"micro\"])\n",
    "\n",
    "# Compute macro-average ROC curve and ROC area\n",
    "\n",
    "# First aggregate all false positive rates\n",
    "all_fpr = np.unique(np.concatenate([fpr[i] for i in range(n_classes)]))\n",
    "\n",
    "# Then interpolate all ROC curves at this points\n",
    "mean_tpr = np.zeros_like(all_fpr)\n",
    "for i in range(n_classes):\n",
    "    mean_tpr += interp(all_fpr, fpr[i], tpr[i])\n",
    "\n",
    "# Finally average it and compute AUC\n",
    "mean_tpr /= n_classes\n",
    "\n",
    "fpr[\"macro\"] = all_fpr\n",
    "tpr[\"macro\"] = mean_tpr\n",
    "roc_auc[\"macro\"] = auc(fpr[\"macro\"], tpr[\"macro\"])\n",
    "\n",
    "# Plot all ROC curves\n",
    "plt.figure(figsize=(7, 7))\n",
    "\n",
    "\n",
    "colors = cycle(['red','blue','green','yellow','orange', 'aqua', 'cornflowerblue'])\n",
    "for i, color in zip(range(n_classes), colors):\n",
    "    plt.plot(fpr[i], tpr[i], color=color, lw=lw,\n",
    "             label='ROC curve of class {0} (area = {1:0.2f})'\n",
    "             ''.format(classnames[i], roc_auc[i]))\n",
    "\n",
    "plt.plot([0, 1], [0, 1], 'k--', lw=lw)\n",
    "plt.xlim([0.0, 1.0])\n",
    "plt.ylim([0.0, 1.05])\n",
    "plt.xlabel('False Positive Rate')\n",
    "plt.ylabel('True Positive Rate')\n",
    "plt.title('Receiver operating characteristic for multi-class')\n",
    "plt.legend(loc=\"best\")\n",
    "plt.show()"
   ]
  },
  {
   "cell_type": "code",
   "execution_count": null,
   "metadata": {},
   "outputs": [],
   "source": [
    "# Zoom in view of the upper left corner.\n",
    "plt.figure(2)\n",
    "plt.xlim(0, 0.2)\n",
    "plt.ylim(0.8, 1)\n",
    "\n",
    "plt.plot(fpr[\"micro\"], tpr[\"micro\"],\n",
    "         label='micro-average ROC curve (area = {0:0.2f})'\n",
    "               ''.format(roc_auc[\"micro\"]),\n",
    "         color='deeppink', linestyle=':', linewidth=6)\n",
    "\n",
    "plt.plot(fpr[\"macro\"], tpr[\"macro\"],\n",
    "         label='macro-average ROC curve (area = {0:0.2f})'\n",
    "               ''.format(roc_auc[\"macro\"]),\n",
    "         color='navy', linestyle=':', linewidth=6)\n",
    "\n",
    "\n",
    "colors = cycle(['red','blue','green','yellow','orange', 'aqua', 'cornflowerblue'])\n",
    "for i, color in zip(range(n_classes), colors):\n",
    "    plt.plot(fpr[i], tpr[i], color=color, lw=lw,\n",
    "             label='ROC curve of class {0} (area = {1:0.2f})'\n",
    "             ''.format(classnames[i], roc_auc[i]))\n",
    "\n",
    "    \n",
    "    \n",
    "plt.plot([0, 1], [0, 1], 'k--', lw=lw)\n",
    "plt.xlabel('False Positive Rate')\n",
    "plt.ylabel('True Positive Rate')\n",
    "plt.title('Receiver operating characteristic for multi-classs')\n",
    "plt.legend(loc=\"lower right\")\n",
    "plt.savefig('plots/3.DenseNet201-ROC.png', dpi = 100)\n",
    "plt.show()"
   ]
  },
  {
   "cell_type": "code",
   "execution_count": 22,
   "metadata": {},
   "outputs": [
    {
     "ename": "ValueError",
     "evalue": "Classification metrics can't handle a mix of multiclass and unknown targets",
     "output_type": "error",
     "traceback": [
      "\u001b[1;31m---------------------------------------------------------------------------\u001b[0m",
      "\u001b[1;31mValueError\u001b[0m                                Traceback (most recent call last)",
      "\u001b[1;32m<ipython-input-22-9c9194250483>\u001b[0m in \u001b[0;36m<module>\u001b[1;34m\u001b[0m\n\u001b[0;32m      2\u001b[0m \u001b[1;32mfrom\u001b[0m \u001b[0msklearn\u001b[0m\u001b[1;33m.\u001b[0m\u001b[0mmetrics\u001b[0m \u001b[1;32mimport\u001b[0m \u001b[0mconfusion_matrix\u001b[0m\u001b[1;33m,\u001b[0m \u001b[0mclassification_report\u001b[0m\u001b[1;33m\u001b[0m\u001b[0m\n\u001b[0;32m      3\u001b[0m \u001b[1;33m\u001b[0m\u001b[0m\n\u001b[1;32m----> 4\u001b[1;33m \u001b[0mconfusion_mtx\u001b[0m \u001b[1;33m=\u001b[0m \u001b[0mconfusion_matrix\u001b[0m\u001b[1;33m(\u001b[0m\u001b[0my_actual\u001b[0m\u001b[1;33m,\u001b[0m \u001b[0my_pred\u001b[0m\u001b[1;33m)\u001b[0m\u001b[1;33m\u001b[0m\u001b[0m\n\u001b[0m\u001b[0;32m      5\u001b[0m \u001b[0mprint\u001b[0m\u001b[1;33m(\u001b[0m\u001b[0mconfusion_mtx\u001b[0m\u001b[1;33m)\u001b[0m\u001b[1;33m\u001b[0m\u001b[0m\n\u001b[0;32m      6\u001b[0m \u001b[0mtarget_names\u001b[0m \u001b[1;33m=\u001b[0m \u001b[0mclassnames\u001b[0m\u001b[1;33m\u001b[0m\u001b[0m\n",
      "\u001b[1;32mc:\\users\\reza-lab\\appdata\\local\\programs\\python\\python35\\lib\\site-packages\\sklearn\\metrics\\classification.py\u001b[0m in \u001b[0;36mconfusion_matrix\u001b[1;34m(y_true, y_pred, labels, sample_weight)\u001b[0m\n\u001b[0;32m    251\u001b[0m \u001b[1;33m\u001b[0m\u001b[0m\n\u001b[0;32m    252\u001b[0m     \"\"\"\n\u001b[1;32m--> 253\u001b[1;33m     \u001b[0my_type\u001b[0m\u001b[1;33m,\u001b[0m \u001b[0my_true\u001b[0m\u001b[1;33m,\u001b[0m \u001b[0my_pred\u001b[0m \u001b[1;33m=\u001b[0m \u001b[0m_check_targets\u001b[0m\u001b[1;33m(\u001b[0m\u001b[0my_true\u001b[0m\u001b[1;33m,\u001b[0m \u001b[0my_pred\u001b[0m\u001b[1;33m)\u001b[0m\u001b[1;33m\u001b[0m\u001b[0m\n\u001b[0m\u001b[0;32m    254\u001b[0m     \u001b[1;32mif\u001b[0m \u001b[0my_type\u001b[0m \u001b[1;32mnot\u001b[0m \u001b[1;32min\u001b[0m \u001b[1;33m(\u001b[0m\u001b[1;34m\"binary\"\u001b[0m\u001b[1;33m,\u001b[0m \u001b[1;34m\"multiclass\"\u001b[0m\u001b[1;33m)\u001b[0m\u001b[1;33m:\u001b[0m\u001b[1;33m\u001b[0m\u001b[0m\n\u001b[0;32m    255\u001b[0m         \u001b[1;32mraise\u001b[0m \u001b[0mValueError\u001b[0m\u001b[1;33m(\u001b[0m\u001b[1;34m\"%s is not supported\"\u001b[0m \u001b[1;33m%\u001b[0m \u001b[0my_type\u001b[0m\u001b[1;33m)\u001b[0m\u001b[1;33m\u001b[0m\u001b[0m\n",
      "\u001b[1;32mc:\\users\\reza-lab\\appdata\\local\\programs\\python\\python35\\lib\\site-packages\\sklearn\\metrics\\classification.py\u001b[0m in \u001b[0;36m_check_targets\u001b[1;34m(y_true, y_pred)\u001b[0m\n\u001b[0;32m     79\u001b[0m     \u001b[1;32mif\u001b[0m \u001b[0mlen\u001b[0m\u001b[1;33m(\u001b[0m\u001b[0my_type\u001b[0m\u001b[1;33m)\u001b[0m \u001b[1;33m>\u001b[0m \u001b[1;36m1\u001b[0m\u001b[1;33m:\u001b[0m\u001b[1;33m\u001b[0m\u001b[0m\n\u001b[0;32m     80\u001b[0m         raise ValueError(\"Classification metrics can't handle a mix of {0} \"\n\u001b[1;32m---> 81\u001b[1;33m                          \"and {1} targets\".format(type_true, type_pred))\n\u001b[0m\u001b[0;32m     82\u001b[0m \u001b[1;33m\u001b[0m\u001b[0m\n\u001b[0;32m     83\u001b[0m     \u001b[1;31m# We can't have more than one value on y_type => The set is no more needed\u001b[0m\u001b[1;33m\u001b[0m\u001b[1;33m\u001b[0m\u001b[0m\n",
      "\u001b[1;31mValueError\u001b[0m: Classification metrics can't handle a mix of multiclass and unknown targets"
     ]
    }
   ],
   "source": [
    "from sklearn.preprocessing import LabelEncoder\n",
    "from sklearn.metrics import confusion_matrix, classification_report\n",
    "\n",
    "confusion_mtx = confusion_matrix(y_actual, y_pred) \n",
    "print(confusion_mtx)\n",
    "target_names = classnames\n",
    "print(classification_report(y_actual, y_pred, target_names=target_names))"
   ]
  },
  {
   "cell_type": "code",
   "execution_count": 23,
   "metadata": {},
   "outputs": [],
   "source": [
    "model.save('models/3.DenseNet201-Adam-Dropout-Model.h5')\n",
    "model.save_weights('models/3.DenseNet201-Adam-Dropout-Weights.h5')"
   ]
  },
  {
   "cell_type": "code",
   "execution_count": null,
   "metadata": {},
   "outputs": [],
   "source": []
  },
  {
   "cell_type": "code",
   "execution_count": null,
   "metadata": {},
   "outputs": [],
   "source": [
    "from keras.models import load_model\n",
    "model = load_model(\"models/3.DenseNet201-Adam-Dropout-Model.h5\", custom_objects={'fmeasure': fmeasure,  'recall': recall, 'precision': precision })\n",
    "model.load_weights(\"models/3.DenseNet201-Adam-Dropout-Weights.h5.h5\")"
   ]
  },
  {
   "cell_type": "code",
   "execution_count": null,
   "metadata": {},
   "outputs": [],
   "source": []
  },
  {
   "cell_type": "code",
   "execution_count": null,
   "metadata": {},
   "outputs": [],
   "source": []
  }
 ],
 "metadata": {
  "anaconda-cloud": {},
  "kernelspec": {
   "display_name": "Python 3",
   "language": "python",
   "name": "python3"
  },
  "language_info": {
   "codemirror_mode": {
    "name": "ipython",
    "version": 3
   },
   "file_extension": ".py",
   "mimetype": "text/x-python",
   "name": "python",
   "nbconvert_exporter": "python",
   "pygments_lexer": "ipython3",
   "version": "3.5.2"
  }
 },
 "nbformat": 4,
 "nbformat_minor": 2
}
