{
 "cells": [
  {
   "cell_type": "code",
   "execution_count": 32,
   "metadata": {},
   "outputs": [],
   "source": [
    "import warnings\n",
    "warnings.filterwarnings('always')\n",
    "warnings.filterwarnings('ignore')"
   ]
  },
  {
   "cell_type": "code",
   "execution_count": 33,
   "metadata": {},
   "outputs": [],
   "source": [
    "import os, shutil\n",
    "import pandas as pd\n",
    "import numpy as np"
   ]
  },
  {
   "cell_type": "code",
   "execution_count": 34,
   "metadata": {},
   "outputs": [],
   "source": [
    "data_df = pd.read_csv('all/train_labels.csv')"
   ]
  },
  {
   "cell_type": "code",
   "execution_count": 35,
   "metadata": {},
   "outputs": [
    {
     "name": "stdout",
     "output_type": "stream",
     "text": [
      "                                             id  label\n",
      "0  c18f2d887b7ae4f6742ee445113fa1aef383ed77.tif      1\n",
      "1  755db6279dae599ebb4d39a9123cce439965282d.tif      0\n",
      "2  bc3f0c64fb968ff4a8bd33af6971ecae77c75e08.tif      0\n",
      "3  068aba587a4950175d04c680d38943fd488d6a9d.tif      0\n",
      "4  acfe80838488fae3c89bd21ade75be5c34e66be7.tif      0\n"
     ]
    }
   ],
   "source": [
    "print(data_df.head())"
   ]
  },
  {
   "cell_type": "code",
   "execution_count": 36,
   "metadata": {},
   "outputs": [
    {
     "data": {
      "text/plain": [
       "0    130906\n",
       "1     89116\n",
       "Name: label, dtype: int64"
      ]
     },
     "execution_count": 36,
     "metadata": {},
     "output_type": "execute_result"
    }
   ],
   "source": [
    "data_df[\"label\"].value_counts()"
   ]
  },
  {
   "cell_type": "code",
   "execution_count": 37,
   "metadata": {},
   "outputs": [],
   "source": [
    "labels_data = np.zeros((len(data_df), 2))"
   ]
  },
  {
   "cell_type": "code",
   "execution_count": 38,
   "metadata": {},
   "outputs": [
    {
     "data": {
      "text/plain": [
       "220022"
      ]
     },
     "execution_count": 38,
     "metadata": {},
     "output_type": "execute_result"
    }
   ],
   "source": [
    "len(labels_data)"
   ]
  },
  {
   "cell_type": "code",
   "execution_count": 39,
   "metadata": {},
   "outputs": [],
   "source": [
    "data_dir = 'all/train/'"
   ]
  },
  {
   "cell_type": "code",
   "execution_count": 40,
   "metadata": {},
   "outputs": [],
   "source": [
    "def move_image(type_, dataframe, directory):\n",
    "\n",
    "    for index, image in enumerate(dataframe['id']):\n",
    "        image_path = os.path.join(directory, image)\n",
    "\n",
    "        if dataframe.loc[dataframe['id'] == image]['label'].all() == 0:\n",
    "            os.rename(image_path, os.path.join(\n",
    "                type_, 'normal', image))\n",
    "            if(type_ == 'train'):\n",
    "                labels_data[index][0] = 1\n",
    "#             elif(type_ == 'validation'):\n",
    "#                 labels_validation[index][0] = 1\n",
    "#             else:\n",
    "#                 labels_test[index][0] = 1\n",
    "        elif dataframe.loc[dataframe['id'] == image]['label'].all() == 1:\n",
    "            os.rename(image_path, os.path.join(\n",
    "                type_, 'cancer', image))\n",
    "            if(type_ == 'train'):\n",
    "                labels_data[index][1] = 1\n",
    "#             elif(type_=='validation'):\n",
    "#                 labels_validation[index][1] = 1\n",
    "#             else:\n",
    "#                 labels_test[index][1] = 1"
   ]
  },
  {
   "cell_type": "code",
   "execution_count": 41,
   "metadata": {},
   "outputs": [],
   "source": [
    "move_image('train', data_df, data_dir)"
   ]
  },
  {
   "cell_type": "code",
   "execution_count": null,
   "metadata": {},
   "outputs": [],
   "source": []
  }
 ],
 "metadata": {
  "kernelspec": {
   "display_name": "Python 3",
   "language": "python",
   "name": "python3"
  },
  "language_info": {
   "codemirror_mode": {
    "name": "ipython",
    "version": 3
   },
   "file_extension": ".py",
   "mimetype": "text/x-python",
   "name": "python",
   "nbconvert_exporter": "python",
   "pygments_lexer": "ipython3",
   "version": "3.6.5"
  }
 },
 "nbformat": 4,
 "nbformat_minor": 2
}
